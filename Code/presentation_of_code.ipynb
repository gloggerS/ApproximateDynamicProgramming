{
 "cells": [
  {
   "cell_type": "code",
   "execution_count": 1,
   "metadata": {
    "collapsed": true,
    "pycharm": {
     "is_executing": false
    }
   },
   "outputs": [],
   "source": [
    "from B_helper import *\n",
    "import inspect\n"
   ]
  },
  {
   "cell_type": "markdown",
   "metadata": {
    "pycharm": {
     "metadata": false
    }
   },
   "source": [
    "# get_offer_sets_all\n"
   ]
  },
  {
   "cell_type": "markdown",
   "metadata": {
    "pycharm": {
     "metadata": false,
     "name": "#%% md\n"
    }
   },
   "source": [
    "## Documentation"
   ]
  },
  {
   "cell_type": "code",
   "execution_count": 7,
   "metadata": {
    "pycharm": {
     "is_executing": false,
     "metadata": false,
     "name": "#%%\n"
    }
   },
   "outputs": [
    {
     "name": "stdout",
     "output_type": "stream",
     "text": [
      "Generates all possible offer sets, starting with offering nothing.\n",
      "\n",
      ":param products: array of all products that can be offered.\n",
      ":return: two dimensional array with rows containing all possible offer sets, starting with offering no product.\n"
     ]
    }
   ],
   "source": [
    "print(inspect.getdoc(get_offer_sets_all))\n"
   ]
  },
  {
   "cell_type": "markdown",
   "metadata": {
    "pycharm": {
     "metadata": false,
     "name": "#%% md\n"
    }
   },
   "source": [
    "## Source Code"
   ]
  },
  {
   "cell_type": "code",
   "execution_count": 8,
   "metadata": {
    "pycharm": {
     "is_executing": false,
     "metadata": false,
     "name": "#%%\n"
    }
   },
   "outputs": [
    {
     "name": "stdout",
     "output_type": "stream",
     "text": [
      "def get_offer_sets_all(products):\n",
      "    \"\"\"\n",
      "    Generates all possible offer sets, starting with offering nothing.\n",
      "\n",
      "    :param products: array of all products that can be offered.\n",
      "    :return: two dimensional array with rows containing all possible offer sets, starting with offering no product.\n",
      "    \"\"\"\n",
      "    n = len(products)\n",
      "    offer_sets_all = np.array(list(map(list, itertools.product([0, 1], repeat=n))))\n",
      "    offer_sets_all = np.vstack((offer_sets_all, offer_sets_all[0]))[1:]  # move empty offer set to the end\n",
      "    return offer_sets_all\n",
      "\n"
     ]
    }
   ],
   "source": [
    "print(inspect.getsource(get_offer_sets_all))\n"
   ]
  },
  {
   "cell_type": "markdown",
   "metadata": {
    "pycharm": {
     "metadata": false,
     "name": "#%% md\n"
    }
   },
   "source": [
    "## Example"
   ]
  },
  {
   "cell_type": "code",
   "execution_count": 30,
   "metadata": {
    "pycharm": {
     "is_executing": false,
     "metadata": false,
     "name": "#%%\n"
    }
   },
   "outputs": [
    {
     "name": "stdout",
     "output_type": "stream",
     "text": [
      "Products: \t [0 1 2]\n",
      "\n",
      "Result of get_offer_sets_all: \n",
      " [[0 0 1]\n",
      " [0 1 0]\n",
      " [0 1 1]\n",
      " [1 0 0]\n",
      " [1 0 1]\n",
      " [1 1 0]\n",
      " [1 1 1]\n",
      " [0 0 0]]\n"
     ]
    }
   ],
   "source": [
    "products = np.arange(3)\n",
    "print(\"Products: \\t\", products)\n",
    "print(\"\\nResult of get_offer_sets_all: \\n\", get_offer_sets_all(products))\n",
    "\n",
    "\n"
   ]
  },
  {
   "cell_type": "markdown",
   "metadata": {
    "pycharm": {
     "metadata": false
    }
   },
   "source": [
    "# customer_choice_individual\n"
   ]
  },
  {
   "cell_type": "markdown",
   "metadata": {
    "pycharm": {
     "metadata": false
    }
   },
   "source": [
    "## Documentation"
   ]
  },
  {
   "cell_type": "code",
   "execution_count": null,
   "metadata": {
    "pycharm": {
     "metadata": false,
     "name": "#%%\n"
    }
   },
   "outputs": [],
   "source": [
    "print(inspect.getdoc(customer_choice_individual))\n"
   ]
  },
  {
   "cell_type": "markdown",
   "metadata": {
    "pycharm": {
     "metadata": false
    }
   },
   "source": [
    "## Source Code"
   ]
  },
  {
   "cell_type": "code",
   "execution_count": null,
   "metadata": {
    "pycharm": {
     "metadata": false,
     "name": "#%%\n"
    }
   },
   "outputs": [],
   "source": [
    "print(inspect.getsource(customer_choice_individual))\n"
   ]
  },
  {
   "cell_type": "markdown",
   "metadata": {
    "pycharm": {
     "metadata": false
    }
   },
   "source": [
    "## Example"
   ]
  },
  {
   "cell_type": "code",
   "execution_count": null,
   "metadata": {
    "pycharm": {
     "metadata": false,
     "name": "#%%\n"
    }
   },
   "outputs": [],
   "source": [
    "offer_set_tuple = tuple(np.ones(3, dtype=np.int))\n",
    "preference_weights = np.array([1.0, 1.0, 2.0])\n",
    "preference_no_purchase = np.array(1.0)\n",
    "print(\"Offer set tuple: \\t\\t\", offer_set_tuple)\n",
    "print(\"Preference Weights: \\t\\t\", preference_weights)\n",
    "print(\"Preference no purchase: \\t\", preference_no_purchase)\n",
    "print(\"\\nResult of customer_choice_individual: \\n\", customer_choice_individual(offer_set_tuple, preference_weights, preference_no_purchase))\n",
    "\n",
    "\n"
   ]
  },
  {
   "cell_type": "markdown",
   "metadata": {
    "pycharm": {
     "metadata": false
    }
   },
   "source": [
    "# customer_choice_vector\n"
   ]
  },
  {
   "cell_type": "markdown",
   "metadata": {
    "pycharm": {
     "metadata": false
    }
   },
   "source": [
    "## Documentation"
   ]
  },
  {
   "cell_type": "code",
   "execution_count": 52,
   "metadata": {
    "pycharm": {
     "is_executing": false,
     "metadata": false,
     "name": "#%%\n"
    }
   },
   "outputs": [
    {
     "name": "stdout",
     "output_type": "stream",
     "text": [
      "From perspective of retailer: With which probability can he expect to sell each product (respectively non-purchase)\n",
      "\n",
      ":param offer_set_tuple: tuple with offered products indicated by 1=product offered\n",
      ":param preference_weights: preference weights of all customers\n",
      ":param preference_no_purchase: preference for no purchase for all customers\n",
      ":param arrival_probabilities: vector with arrival probabilities of all customer segments\n",
      ":return: array with probabilities of purchase ending with no purchase\n",
      "\n",
      "NOTE: probabilities don't have to sum up to one? BEACHTE: Unterschied zu (1) in Bront et all\n"
     ]
    }
   ],
   "source": [
    "print(inspect.getdoc(customer_choice_vector))\n"
   ]
  },
  {
   "cell_type": "markdown",
   "metadata": {
    "pycharm": {
     "metadata": false
    }
   },
   "source": [
    "## Source Code"
   ]
  },
  {
   "cell_type": "code",
   "execution_count": 36,
   "metadata": {
    "pycharm": {
     "is_executing": false,
     "metadata": false,
     "name": "#%%\n"
    }
   },
   "outputs": [
    {
     "name": "stdout",
     "output_type": "stream",
     "text": [
      "def customer_choice_vector(offer_set_tuple, preference_weights, preference_no_purchase, arrival_probabilities):\n",
      "    \"\"\"\n",
      "    From perspective of retailer: With which probability can he expect to sell each product (respectively non-purchase)\n",
      "\n",
      "    :param offer_set_tuple: tuple with offered products indicated by 1=product offered\n",
      "    :param preference_weights: preference weights of all customers\n",
      "    :param preference_no_purchase: preference for no purchase for all customers\n",
      "    :param arrival_probabilities: vector with arrival probabilities of all customer segments\n",
      "    :return: array with probabilities of purchase for each product ending with no purchase\n",
      "\n",
      "    NOTE: probabilities don't have to sum up to one? BEACHTE: Unterschied zu (1) in Bront et all\n",
      "    \"\"\"\n",
      "    if sum(arrival_probabilities) > 1:\n",
      "        raise ValueError(\"The sum of all arrival probabilities has to be <= 1.\")\n",
      "\n",
      "    probs = np.zeros(len(offer_set_tuple) + 1)\n",
      "    for l in np.arange(len(preference_weights)):\n",
      "        probs += arrival_probabilities[l] * customer_choice_individual(offer_set_tuple, preference_weights[l, :],\n",
      "                                                                       preference_no_purchase[l])\n",
      "    return probs\n",
      "\n"
     ]
    }
   ],
   "source": [
    "print(inspect.getsource(customer_choice_vector))\n"
   ]
  },
  {
   "cell_type": "markdown",
   "metadata": {
    "pycharm": {
     "metadata": false
    }
   },
   "source": [
    "## Example"
   ]
  },
  {
   "cell_type": "code",
   "execution_count": 41,
   "metadata": {
    "pycharm": {
     "is_executing": false,
     "metadata": false,
     "name": "#%%\n"
    }
   },
   "outputs": [
    {
     "name": "stdout",
     "output_type": "stream",
     "text": [
      "Offer set tuple: \t\t (1, 1, 1)\n",
      "Preference Weights: \n",
      " [[1. 1. 2.]\n",
      " [1. 2. 1.]\n",
      " [2. 1. 1.]]\n",
      "Preference no purchase: \t [1. 1. 1.]\n",
      "Arrival probabilities: \t\t [0.33333333 0.33333333 0.33333333]\n",
      "\n",
      "Result of customer_choice_vector: \n",
      " [0.26666667 0.26666667 0.26666667 0.2       ]\n",
      "Sum:  1.0\n"
     ]
    }
   ],
   "source": [
    "offer_set_tuple = tuple(np.ones(3, dtype=np.int))\n",
    "preference_weights = np.array([[1.0, 1.0, 2.0],\n",
    "                              [1.0, 2.0, 1.0],\n",
    "                               [2.0, 1.0, 1.0]])\n",
    "preference_no_purchase = np.array([1.0, 1.0, 1.0])\n",
    "arrival_probabilities = np.ones(3)/3\n",
    "print(\"Offer set tuple: \\t\\t\", offer_set_tuple)\n",
    "print(\"Preference Weights: \\n\", preference_weights)\n",
    "print(\"Preference no purchase: \\t\", preference_no_purchase)\n",
    "print(\"Arrival probabilities: \\t\\t\", arrival_probabilities)\n",
    "erg = customer_choice_vector(offer_set_tuple, preference_weights, preference_no_purchase, arrival_probabilities)\n",
    "print(\"\\nResult of customer_choice_vector: \\n\", erg)\n",
    "print(\"Sum: \", sum(erg))\n",
    "\n",
    "\n",
    "\n"
   ]
  },
  {
   "cell_type": "markdown",
   "metadata": {
    "pycharm": {
     "metadata": false
    }
   },
   "source": [
    "# simulate_sales\n"
   ]
  },
  {
   "cell_type": "markdown",
   "metadata": {
    "pycharm": {
     "metadata": false
    }
   },
   "source": [
    "## Documentation"
   ]
  },
  {
   "cell_type": "code",
   "execution_count": 2,
   "metadata": {
    "pycharm": {
     "is_executing": false,
     "metadata": false,
     "name": "#%%\n"
    }
   },
   "outputs": [
    {
     "name": "stdout",
     "output_type": "stream",
     "text": [
      "Simulates a sales event given two random numbers (customer, sale) and a offerset. Eventually, no customer arrives.\n",
      "This would be the case if the random number random_customer > sum(arrival_probabilities).\n",
      "\n",
      ":param offer_set: Products offered\n",
      ":param random_customer: Determines the arriving customer (segment).\n",
      ":param random_sales: Determines the product purchased by this customer.\n",
      ":param arrival_probabilities: The arrival probabilities for each customer segment\n",
      ":param preference_weights: The preference weights for each customer segment (for each product)\n",
      ":param preferences_no_purchase: The no purchase preferences for each customer segment.\n",
      ":return: The product that has been purchased. No purchase = len(products) = n   (products indexed from 0 to n-1)\n"
     ]
    }
   ],
   "source": [
    "print(inspect.getdoc(simulate_sales))\n"
   ]
  },
  {
   "cell_type": "markdown",
   "metadata": {
    "pycharm": {
     "metadata": false
    }
   },
   "source": [
    "## Source Code"
   ]
  },
  {
   "cell_type": "code",
   "execution_count": 3,
   "metadata": {
    "pycharm": {
     "is_executing": false,
     "metadata": false,
     "name": "#%%\n"
    }
   },
   "outputs": [
    {
     "name": "stdout",
     "output_type": "stream",
     "text": [
      "def simulate_sales(offer_set, random_customer, random_sales, arrival_probabilities, preference_weights, preferences_no_purchase):\n",
      "    \"\"\"\n",
      "    Simulates a sales event given two random numbers (customer, sale) and a offerset. Eventually, no customer arrives.\n",
      "    This would be the case if the random number random_customer > sum(arrival_probabilities).\n",
      "\n",
      "    :param offer_set: Products offered\n",
      "    :param random_customer: Determines the arriving customer (segment).\n",
      "    :param random_sales: Determines the product purchased by this customer.\n",
      "    :param arrival_probabilities: The arrival probabilities for each customer segment\n",
      "    :param preference_weights: The preference weights for each customer segment (for each product)\n",
      "    :param preferences_no_purchase: The no purchase preferences for each customer segment.\n",
      "    :return: The product that has been purchased. No purchase = len(products) = n   (products indexed from 0 to n-1)\n",
      "    \"\"\"\n",
      "    customer = random_customer <= np.array([*np.cumsum(arrival_probabilities), 1.0])\n",
      "    customer = min(np.array(range(0, len(customer)))[customer])\n",
      "\n",
      "    if customer == len(arrival_probabilities):\n",
      "        return len(preference_weights[0])  # no customer arrives => no product sold (product out of range)\n",
      "    else:\n",
      "        product = random_sales <= np.cumsum(customer_choice_individual(offer_set,\n",
      "                                                             preference_weights[customer],\n",
      "                                                             preferences_no_purchase[customer]))\n",
      "        product = min(np.arange(len(preference_weights[0]) + 1)[product])\n",
      "        return product\n",
      "\n"
     ]
    }
   ],
   "source": [
    "print(inspect.getsource(simulate_sales))\n"
   ]
  },
  {
   "cell_type": "markdown",
   "metadata": {
    "pycharm": {
     "metadata": false
    }
   },
   "source": [
    "## Example"
   ]
  },
  {
   "cell_type": "code",
   "execution_count": 26,
   "metadata": {
    "pycharm": {
     "is_executing": false,
     "metadata": false,
     "name": "#%%\n"
    }
   },
   "outputs": [
    {
     "name": "stdout",
     "output_type": "stream",
     "text": [
      "Offer set tuple: \t\t (1, 1, 1)\n",
      "Preference Weights: \n",
      " [[1. 1. 2.]\n",
      " [1. 2. 1.]\n",
      " [2. 1. 1.]]\n",
      "Preference no purchase: \t [1. 1. 1.]\n",
      "Arrival probabilities: \t\t [0.25 0.25 0.25]\n",
      "\n",
      "   Customer preferences of customer 0: \t [0.2 0.2 0.4 0.2]\n",
      "   Customer preferences of customer 1: \t [0.2 0.4 0.2 0.2]\n",
      "\n",
      "\n",
      "#########\n",
      "Random customer: \t 0.1\n",
      "Random sales: \t 0.1\n",
      "Result of simulate_sales: \n",
      " 0\n",
      "\n",
      "\n",
      "Random customer: \t 0.1\n",
      "Random sales: \t 0.3\n",
      "Result of simulate_sales: \n",
      " 1\n",
      "\n",
      "\n",
      "Random customer: \t 0.1\n",
      "Random sales: \t 0.5\n",
      "Result of simulate_sales: \n",
      " 2\n",
      "\n",
      "\n",
      "Random customer: \t 0.1\n",
      "Random sales: \t 0.9\n",
      "Result of simulate_sales: \n",
      " 3\n",
      "\n",
      "\n",
      "#########\n",
      "Random customer: \t 0.4\n",
      "Random sales: \t 0.1\n",
      "Result of simulate_sales: \n",
      " 0\n",
      "\n",
      "\n",
      "Random customer: \t 0.4\n",
      "Random sales: \t 0.3\n",
      "Result of simulate_sales: \n",
      " 1\n",
      "\n",
      "\n",
      "Random customer: \t 0.4\n",
      "Random sales: \t 0.5\n",
      "Result of simulate_sales: \n",
      " 1\n",
      "\n",
      "\n",
      "Random customer: \t 0.4\n",
      "Random sales: \t 0.9\n",
      "Result of simulate_sales: \n",
      " 3\n",
      "\n",
      "\n",
      "#########\n",
      "Random customer: \t 0.8\n",
      "Random sales: \t 0.1\n",
      "Result of simulate_sales: \n",
      " 3\n",
      "\n",
      "\n",
      "Random customer: \t 0.8\n",
      "Random sales: \t 0.3\n",
      "Result of simulate_sales: \n",
      " 3\n",
      "\n",
      "\n",
      "Random customer: \t 0.8\n",
      "Random sales: \t 0.5\n",
      "Result of simulate_sales: \n",
      " 3\n",
      "\n",
      "\n",
      "Random customer: \t 0.8\n",
      "Random sales: \t 0.9\n",
      "Result of simulate_sales: \n",
      " 3\n"
     ]
    }
   ],
   "source": [
    "offer_set_tuple = tuple(np.ones(3, dtype=np.int))\n",
    "preference_weights = np.array([[1.0, 1.0, 2.0],\n",
    "                              [1.0, 2.0, 1.0],\n",
    "                               [2.0, 1.0, 1.0]])\n",
    "preference_no_purchase = np.array([1.0, 1.0, 1.0])\n",
    "arrival_probabilities = np.ones(3)/4\n",
    "\n",
    "print(\"Offer set tuple: \\t\\t\", offer_set_tuple)\n",
    "print(\"Preference Weights: \\n\", preference_weights)\n",
    "print(\"Preference no purchase: \\t\", preference_no_purchase)\n",
    "print(\"Arrival probabilities: \\t\\t\", arrival_probabilities)\n",
    "\n",
    "print(\"\\n   Customer preferences of customer 0: \\t\", customer_choice_individual(offer_set_tuple, preference_weights[0], preference_no_purchase[0]))\n",
    "print(\"   Customer preferences of customer 1: \\t\", customer_choice_individual(offer_set_tuple, preference_weights[1], preference_no_purchase[1]))\n",
    "\n",
    "random_customer = 0.1\n",
    "random_sales = 0.1\n",
    "print(\"\\n\\n#########\\nRandom customer: \\t\", random_customer)\n",
    "print(\"Random sales: \\t\", random_sales)\n",
    "erg = simulate_sales(offer_set_tuple, random_customer, random_sales, arrival_probabilities, preference_weights, preference_no_purchase)\n",
    "print(\"Result of simulate_sales: \\n\", erg)\n",
    "\n",
    "random_customer = 0.1\n",
    "random_sales = 0.3\n",
    "print(\"\\n\\nRandom customer: \\t\", random_customer)\n",
    "print(\"Random sales: \\t\", random_sales)\n",
    "erg = simulate_sales(offer_set_tuple, random_customer, random_sales, arrival_probabilities, preference_weights, preference_no_purchase)\n",
    "print(\"Result of simulate_sales: \\n\", erg)\n",
    "\n",
    "random_customer = 0.1\n",
    "random_sales = 0.5\n",
    "print(\"\\n\\nRandom customer: \\t\", random_customer)\n",
    "print(\"Random sales: \\t\", random_sales)\n",
    "erg = simulate_sales(offer_set_tuple, random_customer, random_sales, arrival_probabilities, preference_weights, preference_no_purchase)\n",
    "print(\"Result of simulate_sales: \\n\", erg)\n",
    "\n",
    "random_customer = 0.1\n",
    "random_sales = 0.9\n",
    "print(\"\\n\\nRandom customer: \\t\", random_customer)\n",
    "print(\"Random sales: \\t\", random_sales)\n",
    "erg = simulate_sales(offer_set_tuple, random_customer, random_sales, arrival_probabilities, preference_weights, preference_no_purchase)\n",
    "print(\"Result of simulate_sales: \\n\", erg)\n",
    "\n",
    "random_customer = 0.4\n",
    "random_sales = 0.1\n",
    "print(\"\\n\\n#########\\nRandom customer: \\t\", random_customer)\n",
    "print(\"Random sales: \\t\", random_sales)\n",
    "erg = simulate_sales(offer_set_tuple, random_customer, random_sales, arrival_probabilities, preference_weights, preference_no_purchase)\n",
    "print(\"Result of simulate_sales: \\n\", erg)\n",
    "\n",
    "random_customer = 0.4\n",
    "random_sales = 0.3\n",
    "print(\"\\n\\nRandom customer: \\t\", random_customer)\n",
    "print(\"Random sales: \\t\", random_sales)\n",
    "erg = simulate_sales(offer_set_tuple, random_customer, random_sales, arrival_probabilities, preference_weights, preference_no_purchase)\n",
    "print(\"Result of simulate_sales: \\n\", erg)\n",
    "\n",
    "random_customer = 0.4\n",
    "random_sales = 0.5\n",
    "print(\"\\n\\nRandom customer: \\t\", random_customer)\n",
    "print(\"Random sales: \\t\", random_sales)\n",
    "erg = simulate_sales(offer_set_tuple, random_customer, random_sales, arrival_probabilities, preference_weights, preference_no_purchase)\n",
    "print(\"Result of simulate_sales: \\n\", erg)\n",
    "\n",
    "random_customer = 0.4\n",
    "random_sales = 0.9\n",
    "print(\"\\n\\nRandom customer: \\t\", random_customer)\n",
    "print(\"Random sales: \\t\", random_sales)\n",
    "erg = simulate_sales(offer_set_tuple, random_customer, random_sales, arrival_probabilities, preference_weights, preference_no_purchase)\n",
    "print(\"Result of simulate_sales: \\n\", erg)\n",
    "\n",
    "random_customer = 0.8\n",
    "random_sales = 0.1\n",
    "print(\"\\n\\n#########\\nRandom customer: \\t\", random_customer)\n",
    "print(\"Random sales: \\t\", random_sales)\n",
    "erg = simulate_sales(offer_set_tuple, random_customer, random_sales, arrival_probabilities, preference_weights, preference_no_purchase)\n",
    "print(\"Result of simulate_sales: \\n\", erg)\n",
    "\n",
    "random_customer = 0.8\n",
    "random_sales = 0.3\n",
    "print(\"\\n\\nRandom customer: \\t\", random_customer)\n",
    "print(\"Random sales: \\t\", random_sales)\n",
    "erg = simulate_sales(offer_set_tuple, random_customer, random_sales, arrival_probabilities, preference_weights, preference_no_purchase)\n",
    "print(\"Result of simulate_sales: \\n\", erg)\n",
    "\n",
    "random_customer = 0.8\n",
    "random_sales = 0.5\n",
    "print(\"\\n\\nRandom customer: \\t\", random_customer)\n",
    "print(\"Random sales: \\t\", random_sales)\n",
    "erg = simulate_sales(offer_set_tuple, random_customer, random_sales, arrival_probabilities, preference_weights, preference_no_purchase)\n",
    "print(\"Result of simulate_sales: \\n\", erg)\n",
    "\n",
    "random_customer = 0.8\n",
    "random_sales = 0.9\n",
    "print(\"\\n\\nRandom customer: \\t\", random_customer)\n",
    "print(\"Random sales: \\t\", random_sales)\n",
    "erg = simulate_sales(offer_set_tuple, random_customer, random_sales, arrival_probabilities, preference_weights, preference_no_purchase)\n",
    "print(\"Result of simulate_sales: \\n\", erg)\n",
    "\n"
   ]
  },
  {
   "cell_type": "markdown",
   "metadata": {
    "pycharm": {
     "metadata": false
    }
   },
   "source": [
    "# calc_value_marginal\n"
   ]
  },
  {
   "cell_type": "markdown",
   "metadata": {
    "pycharm": {
     "metadata": false
    }
   },
   "source": [
    "## Documentation"
   ]
  },
  {
   "cell_type": "code",
   "execution_count": 2,
   "metadata": {
    "pycharm": {
     "is_executing": false,
     "metadata": false,
     "name": "#%%\n"
    }
   },
   "outputs": [
    {
     "name": "stdout",
     "output_type": "stream",
     "text": [
      "Calculates the marginal value as indicated at Bront et al, 4.2.2 Greedy Heuristic -> step 4a\n",
      "\n",
      ":param indices_inner_sum: C_l intersected with (S union with {j})\n",
      ":param pi: vector of dual prices for each resource (np.inf := no capacity)\n",
      ":param revenues: vector of revenue for each product\n",
      ":param A: matrix with resource consumption of each product (one row = one resource)\n",
      ":param arrival_probabilities: The arrival probabilities for each customer segment\n",
      ":param preference_weights: The preference weights for each customer segment (for each product)\n",
      ":param preferences_no_purchase: The no purchase preferences for each customer segment.\n",
      ":return: The value inside the argmax (expected marginal value given one set of products to offer)\n"
     ]
    }
   ],
   "source": [
    "print(inspect.getdoc(calc_value_marginal))\n"
   ]
  },
  {
   "cell_type": "markdown",
   "metadata": {
    "pycharm": {
     "metadata": false
    }
   },
   "source": [
    "## Source Code"
   ]
  },
  {
   "cell_type": "code",
   "execution_count": 2,
   "metadata": {
    "pycharm": {
     "is_executing": false,
     "metadata": false,
     "name": "#%%\n"
    }
   },
   "outputs": [
    {
     "name": "stdout",
     "output_type": "stream",
     "text": [
      "def calc_value_marginal(indices_inner_sum, pi, revenues, A, arrival_probabilities, preference_weights, preferences_no_purchase):\n",
      "    \"\"\"\n",
      "    Calculates the marginal value as indicated at Bront et al, 4.2.2 Greedy Heuristic -> step 4a\n",
      "\n",
      "    :param indices_inner_sum: C_l intersected with (S union with {j})\n",
      "    :param pi: vector of dual prices for each resource (np.inf := no capacity)\n",
      "    :param revenues: vector of revenue for each product\n",
      "    :param A: matrix with resource consumption of each product (one row = one resource)\n",
      "    :param arrival_probabilities: The arrival probabilities for each customer segment\n",
      "    :param preference_weights: The preference weights for each customer segment (for each product)\n",
      "    :param preferences_no_purchase: The no purchase preferences for each customer segment.\n",
      "    :return: The value inside the argmax (expected marginal value given one set of products to offer)\n",
      "    \"\"\"\n",
      "    v_temp = 0\n",
      "    for l in np.arange(len(preference_weights)):  # sum over all customer segments\n",
      "        v_temp += arrival_probabilities[l] * \\\n",
      "                  sum(indices_inner_sum * (revenues - np.apply_along_axis(sum, 1, A.T * pi)) *\n",
      "                      preference_weights[l, :]) / \\\n",
      "                  (sum(indices_inner_sum * preference_weights[l, :]) + preferences_no_purchase[l])\n",
      "    return v_temp\n",
      "\n"
     ]
    }
   ],
   "source": [
    "print(inspect.getsource(calc_value_marginal))\n"
   ]
  },
  {
   "cell_type": "markdown",
   "metadata": {
    "pycharm": {
     "metadata": false
    }
   },
   "source": [
    "## Example"
   ]
  },
  {
   "cell_type": "code",
   "execution_count": 16,
   "metadata": {
    "pycharm": {
     "is_executing": false,
     "metadata": false,
     "name": "#%%\n"
    }
   },
   "outputs": [
    {
     "name": "stdout",
     "output_type": "stream",
     "text": [
      "Example analogously to Bront et al\n",
      "\n",
      "\n",
      "Revenues: \t\t\t [100  19  19]\n",
      "Pi: \t\t\t\t [0]\n",
      "A:\t\t\t\t [[1 1 1]]\n",
      "Preference Weights: \n",
      " [[1 1 1]\n",
      " [0 1 0]\n",
      " [0 0 1]]\n",
      "Preference no purchase: \t [1 1 1]\n",
      "Arrival probabilities: \t\t [1 1 1]\n",
      "\n",
      "#####\n",
      "Indices inner sum: \t [1 0 0]\n",
      "Result of simulate_sales: \n",
      " 50.0\n",
      "\n",
      "#####\n",
      "Indices inner sum: \t [1 1 1]\n",
      "Result of simulate_sales: \n",
      " 53.5\n"
     ]
    }
   ],
   "source": [
    "print(\"Example analogously to Bront et al\\n\\n\")\n",
    "revenues = np.array([100, 19, 19])\n",
    "pi = np.array([0])\n",
    "A = np.array([[1, 1, 1]])\n",
    "arrival_probabilities = np.array([1, 1, 1])\n",
    "preference_weights = np.array([[1,1,1],\n",
    "                               [0,1,0],\n",
    "                               [0,0,1]])\n",
    "preferences_no_purchase = np.array([1,1,1])\n",
    "\n",
    "print(\"Revenues: \\t\\t\\t\", revenues)\n",
    "print(\"Pi: \\t\\t\\t\\t\", pi)\n",
    "print(\"A:\\t\\t\\t\\t\", A)\n",
    "print(\"Preference Weights: \\n\", preference_weights)\n",
    "print(\"Preference no purchase: \\t\", preferences_no_purchase)\n",
    "print(\"Arrival probabilities: \\t\\t\", arrival_probabilities)\n",
    "\n",
    "indices_inner_sum = np.array([1, 0, 0])\n",
    "print(\"\\n#####\\nIndices inner sum: \\t\", indices_inner_sum)\n",
    "erg = calc_value_marginal(indices_inner_sum, pi, revenues, A, arrival_probabilities, preference_weights, preferences_no_purchase)\n",
    "print(\"Result of simulate_sales: \\n\", erg)\n",
    "\n",
    "indices_inner_sum = np.array([1, 1, 1])\n",
    "print(\"\\n#####\\nIndices inner sum: \\t\", indices_inner_sum)\n",
    "erg = calc_value_marginal(indices_inner_sum, pi, revenues, A, arrival_probabilities, preference_weights, preferences_no_purchase)\n",
    "print(\"Result of simulate_sales: \\n\", erg)\n",
    "\n",
    "\n",
    "\n"
   ]
  },
  {
   "cell_type": "markdown",
   "metadata": {
    "pycharm": {
     "metadata": false
    }
   },
   "source": [
    "# determine_offer_tuple\n"
   ]
  },
  {
   "cell_type": "markdown",
   "metadata": {
    "pycharm": {
     "metadata": false
    }
   },
   "source": [
    "## Documentation"
   ]
  },
  {
   "cell_type": "code",
   "execution_count": 17,
   "metadata": {
    "pycharm": {
     "is_executing": false,
     "metadata": false,
     "name": "#%%\n"
    }
   },
   "outputs": [
    {
     "name": "stdout",
     "output_type": "stream",
     "text": [
      "Determines the offerset given the bid prices for each resource.\n",
      "\n",
      "Implement the Greedy Heuristic from Bront et al: A Column Generation Algorithm ... 4.2.2\n",
      "and extend it for the epsilon greedy strategy\n",
      ":param pi: vector of dual prices for each resource (np.inf := no capacity)\n",
      ":param eps: epsilon value for epsilon greedy strategy (eps = 0 := no greedy strategy to apply)\n",
      ":param revenues: vector of revenue for each product\n",
      ":param A: matrix with resource consumption of each product (one row = one resource)\n",
      ":param arrival_probabilities: The arrival probabilities for each customer segment\n",
      ":param preference_weights: The preference weights for each customer segment (for each product)\n",
      ":param preferences_no_purchase: The no purchase preferences for each customer segment.\n",
      ":return: the offer set to be offered\n"
     ]
    }
   ],
   "source": [
    "print(inspect.getdoc(determine_offer_tuple))\n"
   ]
  },
  {
   "cell_type": "markdown",
   "metadata": {
    "pycharm": {
     "metadata": false
    }
   },
   "source": [
    "## Source Code"
   ]
  },
  {
   "cell_type": "code",
   "execution_count": 24,
   "metadata": {
    "pycharm": {
     "is_executing": false,
     "metadata": false,
     "name": "#%%\n"
    }
   },
   "outputs": [
    {
     "name": "stdout",
     "output_type": "stream",
     "text": [
      "def determine_offer_tuple(pi, eps, revenues, A, arrival_probabilities, preference_weights, preferences_no_purchase):\n",
      "    \"\"\"\n",
      "    Determines the offerset given the bid prices for each resource.\n",
      "\n",
      "    Implement the Greedy Heuristic from Bront et al: A Column Generation Algorithm ... 4.2.2\n",
      "    and extend it for the epsilon greedy strategy\n",
      "    :param pi: vector of dual prices for each resource (np.inf := no capacity)\n",
      "    :param eps: epsilon value for epsilon greedy strategy (eps = 0 := no greedy strategy to apply)\n",
      "    :param revenues: vector of revenue for each product\n",
      "    :param A: matrix with resource consumption of each product (one row = one resource)\n",
      "    :param arrival_probabilities: The arrival probabilities for each customer segment\n",
      "    :param preference_weights: The preference weights for each customer segment (for each product)\n",
      "    :param preferences_no_purchase: The no purchase preferences for each customer segment.\n",
      "    :return: the offer set to be offered\n",
      "    \"\"\"\n",
      "\n",
      "    # no resources left => nothing to be sold\n",
      "    if all(pi == np.inf):\n",
      "        return tuple(np.zeros_like(revenues))\n",
      "\n",
      "    # epsilon greedy strategy - offer no products\n",
      "    eps_prob = random.random()\n",
      "    if eps_prob < eps/2:\n",
      "        return tuple(np.zeros_like(revenues))\n",
      "\n",
      "    # epsilon greedy strategy - offer all products\n",
      "    if eps_prob < eps:\n",
      "        offer_tuple = np.ones_like(revenues)\n",
      "        offer_tuple[np.sum(A[[pi == np.inf], :], axis=0) > 0] = 0  # one resource not available => don't offer product\n",
      "        return tuple(offer_tuple)\n",
      "\n",
      "    # setup\n",
      "    offer_tuple = np.zeros_like(revenues)\n",
      "\n",
      "    # line 1\n",
      "    s_prime = revenues - np.apply_along_axis(sum, 1, A.T * pi) > 0\n",
      "    if all(np.invert(s_prime)):\n",
      "        return tuple(offer_tuple)\n",
      "\n",
      "    # line 2-3\n",
      "    # offer_sets_to_test has in each row an offer set, we want to test\n",
      "    offer_sets_to_test = np.zeros((sum(s_prime), len(revenues)))\n",
      "    offer_sets_to_test[np.arange(sum(s_prime)), np.where(s_prime)] = 1\n",
      "    offer_sets_to_test += offer_tuple\n",
      "    offer_sets_to_test = (offer_sets_to_test > 0)\n",
      "\n",
      "    value_marginal = np.apply_along_axis(calc_value_marginal, 1, offer_sets_to_test, pi, revenues,\n",
      "                                             preference_weights, arrival_probabilities, A, preferences_no_purchase)\n",
      "\n",
      "    offer_tuple[np.argmax(value_marginal)] = 1\n",
      "    s_prime = s_prime & offer_tuple == 0\n",
      "    v_s = np.amax(value_marginal)\n",
      "\n",
      "    # line 4\n",
      "    while True:\n",
      "        # 4a\n",
      "        # offer_sets_to_test has in each row an offer set, we want to test\n",
      "        offer_sets_to_test = np.zeros((sum(s_prime), len(revenues)))\n",
      "        offer_sets_to_test[np.arange(sum(s_prime)), np.where(s_prime)] = 1\n",
      "        offer_sets_to_test += offer_tuple\n",
      "        offer_sets_to_test = (offer_sets_to_test > 0)\n",
      "\n",
      "        # 4b\n",
      "        value_marginal = np.apply_along_axis(calc_value_marginal, 1, offer_sets_to_test, pi, revenues,\n",
      "                                             preference_weights, arrival_probabilities, A, preferences_no_purchase)\n",
      "\n",
      "        if np.amax(value_marginal) > v_s:\n",
      "            v_s = np.amax(value_marginal)\n",
      "            offer_tuple[np.argmax(value_marginal)] = 1\n",
      "            s_prime = s_prime & offer_tuple == 0\n",
      "            if all(offer_tuple == 1):\n",
      "                break\n",
      "        else:\n",
      "            break\n",
      "    return tuple(offer_tuple)\n",
      "\n"
     ]
    }
   ],
   "source": [
    "print(inspect.getsource(determine_offer_tuple))\n"
   ]
  },
  {
   "cell_type": "markdown",
   "metadata": {
    "pycharm": {
     "metadata": false
    }
   },
   "source": [
    "## Example"
   ]
  },
  {
   "cell_type": "code",
   "execution_count": 23,
   "metadata": {
    "pycharm": {
     "is_executing": false,
     "metadata": false,
     "name": "#%%\n"
    }
   },
   "outputs": [
    {
     "name": "stdout",
     "output_type": "stream",
     "text": [
      "Example analogously to Bront et al\n",
      "\n",
      "\n",
      "Revenues: \t\t\t [100  19  19]\n",
      "Pi: \t\t\t\t [0]\n",
      "A:\t\t\t\t [[1 1 1]]\n",
      "Preference Weights: \n",
      " [[1 1 1]\n",
      " [0 1 0]\n",
      " [0 0 1]]\n",
      "Preference no purchase: \t [1 1 1]\n",
      "Arrival probabilities: \t\t [1 1 1]\n",
      "Epsilon: \t\t\t 0\n",
      "\n",
      "Result of determine_offer_tuple: \n",
      " (1, 0, 0)\n"
     ]
    }
   ],
   "source": [
    "print(\"Example analogously to Bront et al\\n\\n\")\n",
    "revenues = np.array([100, 19, 19])\n",
    "pi = np.array([0])\n",
    "A = np.array([[1, 1, 1]])\n",
    "arrival_probabilities = np.array([1, 1, 1])\n",
    "preference_weights = np.array([[1,1,1],\n",
    "                               [0,1,0],\n",
    "                               [0,0,1]])\n",
    "preferences_no_purchase = np.array([1,1,1])\n",
    "eps = 0\n",
    "\n",
    "print(\"Revenues: \\t\\t\\t\", revenues)\n",
    "print(\"Pi: \\t\\t\\t\\t\", pi)\n",
    "print(\"A:\\t\\t\\t\\t\", A)\n",
    "print(\"Preference Weights: \\n\", preference_weights)\n",
    "print(\"Preference no purchase: \\t\", preferences_no_purchase)\n",
    "print(\"Arrival probabilities: \\t\\t\", arrival_probabilities)\n",
    "print(\"Epsilon: \\t\\t\\t\", eps)\n",
    "\n",
    "erg = determine_offer_tuple(pi, eps, revenues, A, arrival_probabilities, preference_weights, preferences_no_purchase)\n",
    "print(\"\\nResult of determine_offer_tuple: \\n\", erg)\n",
    "\n",
    "\n"
   ]
  }
 ],
 "metadata": {
  "kernelspec": {
   "display_name": "Python 3",
   "language": "python",
   "name": "python3"
  },
  "language_info": {
   "codemirror_mode": {
    "name": "ipython",
    "version": 3
   },
   "file_extension": ".py",
   "mimetype": "text/x-python",
   "name": "python",
   "nbconvert_exporter": "python",
   "pygments_lexer": "ipython3",
   "version": "3.7.1"
  }
 },
 "nbformat": 4,
 "nbformat_minor": 1
}
