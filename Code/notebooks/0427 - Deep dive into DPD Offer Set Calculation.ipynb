{
  "cells": [
    {
      "cell_type": "markdown",
      "metadata": {
        "pycharm": {}
      },
      "source": [
        "# Exploring the DPD Offer Set Calculation"
      ]
    },
    {
      "cell_type": "code",
      "execution_count": 57,
      "metadata": {
        "pycharm": {}
      },
      "outputs": [],
      "source": "# -*- coding: utf-8 -*-\n\"\"\"\nCreated on Wed Mar  27 10:00:31 2019\n\n@author: Stefan\n\"\"\""
    },
    {
      "cell_type": "markdown",
      "source": "Hier stellen wir die DPD Offer Set Calculation nach Bront et Al dar und reproduzieren dessen Table 3. Zunächst hatte ich Schwierigkeiten, die ich aber lösen könnte durch genaue Code Analyse und Entdeckung von Feinheiten zwischen Python und R.\n",
      "metadata": {
        "pycharm": {
          "metadata": false,
          "name": "#%% md\n"
        }
      }
    },
    {
      "cell_type": "code",
      "execution_count": null,
      "outputs": [],
      "source": "#  PACKAGES\n# Data\nimport numpy as np\nimport pandas as pd\n\n# Calculation and Counting\nimport itertools\nimport math\nimport copy\n\n# Memoization\nimport functools\n\n# Gurobi\nfrom gurobipy import *\nimport re\n\n# Plot\n# import matplotlib.pyplot as plt\n\n# Some hacks\nimport sys\nfrom contextlib import redirect_stdout\n\nfrom dat_Koch import get_data\nfrom dat_Koch import get_data_without_variations\nfrom dat_Koch import get_variations\nfrom dat_Koch import get_capacities_and_preferences_no_purchase\nfrom dat_Koch import get_preference_no_purchase\n\n\n# %% HELPER-FUNCTIONS\ndef memoize(func):\n    cache \u003d func.cache \u003d {}\n\n    @functools.wraps(func)\n    def memoizer(*args, **kwargs):\n        key \u003d str(args) + str(kwargs)\n        if key not in cache:\n            cache[key] \u003d func(*args, **kwargs)\n        return cache[key]\n\n    return memoizer\n\n\ndef get_offer_sets_all(products):\n    \"\"\"\n    Generates all possible offer sets, starting with offering nothing.\n\n    :param products:\n    :return:\n    \"\"\"\n    n \u003d len(products)\n    offer_sets_all \u003d np.array(list(map(list, itertools.product([0, 1], repeat\u003dn))))\n    return offer_sets_all\n\n\n# %% FUNCTIONS\n@memoize\ndef customer_choice_individual(offer_set_tuple, preference_weights, preference_no_purchase):\n    \"\"\"\n    For one customer of one customer segment, determine its purchase probabilities given one offer set and given\n    that one customer of this segment arrived.\n\n    Tuple needed for memoization.\n\n    :param offer_set_tuple: tuple with offered products indicated by 1\u003dproduct offered, 0\u003dproduct not offered\n    :param preference_weights: preference weights of one customer\n    :param preference_no_purchase: no purchase preference of one customer\n    :return: array of purchase probabilities ending with no purchase\n    \"\"\"\n\n    if offer_set_tuple is None:\n        ret \u003d np.zeros_like(preference_weights)\n        return np.append(ret, 1 - np.sum(ret))\n\n    offer_set \u003d np.asarray(offer_set_tuple)\n    ret \u003d preference_weights * offer_set\n    ret \u003d np.array(ret / (np.sum(ret) + preference_no_purchase))\n    ret \u003d np.append(ret, 1 - np.sum(ret))\n    return ret\n\n\n@memoize\ndef customer_choice_vector(offer_set_tuple, preference_weights, preference_no_purchase, arrival_probabilities):\n    \"\"\"\n    From perspective of retailer: With which probability can he expect to sell each product (respectively non-purchase)\n\n    :param offer_set_tuple: tuple with offered products indicated by 1\u003dproduct offered\n    :param preference_weights: preference weights of all customers\n    :param preference_no_purchase: preference for no purchase for all customers\n    :param arrival_probabilities: vector with arrival probabilities of all customer segments\n    :return: array with probabilities of purchase ending with no purchase\n\n    NOTE: probabilities don\u0027t have to sum up to one? BEACHTE: Unterschied zu (1) in Bront et all\n    \"\"\"\n    probs \u003d np.zeros(len(offer_set_tuple) + 1)\n    for l in np.arange(len(preference_weights)):\n        probs +\u003d arrival_probabilities[l] * customer_choice_individual(offer_set_tuple, preference_weights[l, :],\n                                                                       preference_no_purchase[l])\n    return probs\n\n\n@memoize\ndef value_expected(capacities, t, preference_no_purchase):\n    \"\"\"\n    Recursive implementation of the value function, i.e. dynamic program (DP) as described on p. 241.\n\n    :param capacities:\n    :param t: time to go (last chance for revenue is t\u003d0)\n    :param preference_no_purchase:\n    :return: value to be expected and optimal policy\n    \"\"\"\n    resources, \\\n        products, revenues, A, \\\n        customer_segments, preference_weights, arrival_probabilities, \\\n        times \u003d get_data_without_variations()\n    T \u003d len(times)\n\n    offer_sets_to_test \u003d get_offer_sets_all(products)\n\n    max_index \u003d 0\n    max_val \u003d 0\n\n    if all(capacities \u003d\u003d 0):\n        return 0, None\n    if any(capacities \u003c 0):\n        return -math.inf, None\n    if t \u003d\u003d T:\n        return 0, None\n\n    for offer_set_index in range(len(offer_sets_to_test)):\n        offer_set \u003d offer_sets_to_test[offer_set_index, :]\n        probs \u003d customer_choice_vector(tuple(offer_set), preference_weights, preference_no_purchase,\n                                       arrival_probabilities)\n\n        val \u003d float(value_expected(capacities, t + 1, preference_no_purchase)[0])  # ohne \"float\" würde ein numpy array\n        #  zurückgegeben, und das später (max_val \u003d val) direkt auf val verknüpft (call by reference)\n        for j in products:  # nett, da Nichtkaufalternative danach (products+1) kommt und so also nicht betrachtet wird\n            p \u003d float(probs[j])\n            if p \u003e 0.0:\n                value_delta_j \u003d delta_value_j(j, capacities, t + 1, A, preference_no_purchase)\n                val +\u003d p * (revenues[j] - value_delta_j)\n\n        if val \u003e max_val:\n            max_index \u003d offer_set_index\n            max_val \u003d val\n    return max_val, tuple(offer_sets_to_test[max_index, :])\n\n\ndef delta_value_j(j, capacities, t, A, preference_no_purchase):\n    \"\"\"\n    For one product j, what is the difference in the value function if we sell one product.\n    TODO: stört mich etwas, Inidices von t, eng verbandelt mit value_expected()\n\n    :param j:\n    :param capacities:\n    :param t:\n    :param preference_no_purchase:\n    :return:\n    \"\"\"\n    return value_expected(capacities, t, preference_no_purchase)[0] - \\\n        value_expected(capacities - A[:, j], t, preference_no_purchase)[0]\n\n\n# %%\n# FUNCTIONS for Bront et al\n# helpers\ndef purchase_rate_vector(offer_set_tuple, preference_weights, preference_no_purchase, arrival_probabilities):\n    \"\"\"\n    P_j(S) for all j, P_0(S) at the end\n\n    :param offer_set_tuple: S\n    :param preference_weights\n    :param preference_no_purchase\n    :param arrival_probabilities\n    :return: P_j(S) for all j, P_0(S) at the end\n\n    TODO: p wird hier normiert, also gegeben ein Customer kommt, zu welchem Segment gehört\n    s. p. 772 in Bront et al.\n    vgl. customer_choice_vector()\n    Lsg. wird hier mit \\lambda lam wieder ausgebügelt in CDLP()\n    \"\"\"\n    probs \u003d np.zeros(len(offer_set_tuple) + 1)\n    p \u003d arrival_probabilities/(sum(arrival_probabilities))\n    for l in np.arange(len(preference_weights)):\n        probs +\u003d p[l] * customer_choice_individual(offer_set_tuple, preference_weights[l, :],\n                                                   preference_no_purchase[l])\n    return probs\n\n\ndef revenue(offer_set_tuple, preference_weights, preference_no_purchase, arrival_probabilities, revenues):\n    \"\"\"\n    R(S)\n\n    :param offer_set_tuple: S\n    :return: R(S)\n    \"\"\"\n    return sum(revenues * purchase_rate_vector(offer_set_tuple, preference_weights, preference_no_purchase,\n                                               arrival_probabilities)[:-1])\n\n\ndef quantity_i(offer_set_tuple, preference_weights, preference_no_purchase, arrival_probabilities, i, A):\n    \"\"\"\n    Q_i(S)\n\n    :param offer_set_tuple: S\n    :param i: resource i\n    :return: Q_i(S)\n    \"\"\"\n    return sum(A[i, :] * purchase_rate_vector(offer_set_tuple, preference_weights, preference_no_purchase,\n                                              arrival_probabilities)[:-1])\n\n\n# %%\n# FUNCTIONS for Bront et al\n# functions\ndef CDLP(capacities, preference_no_purchase, offer_sets: np.ndarray):\n    \"\"\"\n    Implements (4) of Bront et al. Needs the offer-sets to look at (N) as input.\n\n    :param offer_sets: N\n    :return: dictionary of (offer set, time offered),\n    \"\"\"\n    resources, \\\n        products, revenues, A, \\\n        customer_segments, preference_weights, arrival_probabilities, \\\n        times \u003d get_data_without_variations()\n\n    offer_sets \u003d pd.DataFrame(offer_sets)\n    lam \u003d sum(arrival_probabilities)\n    T \u003d len(times)\n\n    S \u003d {}\n    R \u003d {}\n    Q \u003d {}\n    for index, offer_array in offer_sets.iterrows():\n        S[index] \u003d tuple(offer_array)\n        R[index] \u003d revenue(tuple(offer_array), preference_weights, preference_no_purchase, arrival_probabilities,\n                           revenues)\n        temp \u003d {}\n        for i in resources:\n            temp[i] \u003d quantity_i(tuple(offer_array), preference_weights, preference_no_purchase,\n                                 arrival_probabilities, i, A)\n        Q[index] \u003d temp\n\n    try:\n        m \u003d Model()\n\n        # Variables\n        mt \u003d m.addVars(offer_sets.index.values, name\u003d\"t\", lb\u003d0.0)  # last constraint\n\n        # Objective Function\n        m.setObjective(lam * quicksum(R[s] * mt[s] for s in offer_sets.index.values), GRB.MAXIMIZE)\n\n        mc \u003d {}\n        # Constraints\n        for i in resources:\n            mc[i] \u003d m.addConstr(lam * quicksum(Q[s][i] * mt[s] for s in offer_sets.index.values), GRB.LESS_EQUAL,\n                                capacities[i],\n                                name\u003d\"constraintOnResource\")\n        msigma \u003d m.addConstr(quicksum(mt[s] for s in offer_sets.index.values), GRB.LESS_EQUAL, T)\n\n        m.optimize()\n\n        ret \u003d {}\n        pat \u003d r\".*?\\[(.*)\\].*\"\n        for v in m.getVars():\n            if v.X \u003e 0:\n                match \u003d re.search(pat, v.VarName)\n                erg_index \u003d match.group(1)\n                ret[int(erg_index)] \u003d (tuple(offer_sets.loc[int(erg_index)]), v.X)\n                print(offer_sets.loc[int(erg_index)], \": \", v.X)\n\n        dualPi \u003d np.zeros_like(resources, dtype\u003dfloat)\n        for i in resources:\n            dualPi[i] \u003d mc[i].pi\n        dualSigma \u003d msigma.pi\n\n        valOpt \u003d m.objVal\n\n        return ret, valOpt, dualPi, dualSigma\n\n    except GurobiError:\n        print(\u0027Error reported\u0027)\n\n\ndef column_MIP(preference_no_purchase, pi, w\u003d0):  # pass w to test example for greedy heuristic\n    \"\"\"\n    Implements MIP formulation on p. 775 lhs\n\n    :param pi:\n    :param w:\n    :return: optimal tuple of products to offer\n    \"\"\"\n    resources, \\\n        products, revenues, A, \\\n        customer_segments, preference_weights, arrival_probabilities, \\\n        times \u003d get_data_without_variations()\n\n    K \u003d 1/min(preference_no_purchase.min(), np.min(preference_weights[np.nonzero(preference_weights)]))+1\n\n    if isinstance(w, int) and w \u003d\u003d 0:  # \u0027and\u0027 is lazy version of \u0026\n        w \u003d np.zeros_like(revenues, dtype\u003dfloat)\n        for j in products:\n            w[j] \u003d revenues[j] - sum(A[:, j]*pi)\n\n    try:\n        m \u003d Model()\n\n        mx \u003d {}\n        my \u003d {}\n        mz \u003d {}\n\n        # Variables\n        for j in products:\n            my[j] \u003d m.addVar(0, 1, vtype\u003dGRB.BINARY, name\u003d\"y[\"+str(j)+\"]\")\n        for l in customer_segments:\n            mx[l] \u003d m.addVar(0.0, name\u003d\"x[\"+str(l)+\"]\")\n            temp \u003d {}\n            for j in products:\n                temp[j] \u003d m.addVar(0.0, name\u003d\"z[\"+str(l)+\",\"+str(j)+\"]\")\n            mz[l] \u003d temp\n\n        # Objective\n        m.setObjective(quicksum(arrival_probabilities[l] * w[j] * preference_weights[l, j] * mz[l][j]\n                                for l in customer_segments for j in products), GRB.MAXIMIZE)\n\n        # Constraints\n        mc1 \u003d m.addConstrs((mx[l]*preference_no_purchase[l] +\n                            quicksum(preference_weights[l, j]*mz[l][j] for j in products) \u003d\u003d 1\n                            for l in customer_segments), name\u003d\"mc1\")\n        mc2 \u003d m.addConstrs((mx[l] - mz[l][j] \u003c\u003d K - K*my[j] for l in customer_segments for j in products),\n                           name\u003d\"mc2\")\n        mc3 \u003d m.addConstrs((mz[l][j] \u003c\u003d mx[l] for l in customer_segments for j in products), name\u003d\"mc3\")\n        mc4 \u003d m.addConstrs((mz[l][j] \u003c\u003d K*my[j] for l in customer_segments for j in products), name\u003d\"mc4\")\n\n        m.optimize()\n\n        y \u003d np.zeros_like(revenues)\n        for j in products:\n            y[j] \u003d my[j].x\n\n        return tuple(y), m.objVal\n\n    except GurobiError:\n        print(\u0027Error reported\u0027)\n\n\ndef column_greedy(preference_no_purchase, pi, w\u003d0, dataName\u003d\"\"):  # pass w to test example for greedy heuristic\n    \"\"\"\n    Implements Greedy Heuristic on p. 775 rhs\n\n    :param pi:\n    :param w:\n    :return: heuristically optimal tuple of products to offer\n    \"\"\"\n    resources, \\\n        products, revenues, A, \\\n        customer_segments, preference_weights, arrival_probabilities, \\\n        times \u003d get_data_without_variations(dataName)\n\n    # Step 1\n    y \u003d np.zeros_like(revenues)\n\n    if isinstance(w, int) and w \u003d\u003d 0:  # and is lazy version of \u0026\n        w \u003d np.zeros_like(revenues, dtype\u003dfloat)  # calculate the opportunity costs\n        for j in products:\n            w[j] \u003d revenues[j] - sum(A[:, j]*pi)\n\n    # Step 2\n    Sprime \u003d set(np.where(w \u003e 0)[0])\n\n    # Step 3\n    value_marginal \u003d np.zeros_like(w, dtype\u003dfloat)\n    for j in Sprime:\n        for l in customer_segments:\n            value_marginal[j] +\u003d preference_weights[l, j]/(preference_weights[l, j] + preference_no_purchase[l])\n        value_marginal[j] *\u003d w[j]\n\n    jstar \u003d np.argmax(value_marginal)\n    v_new \u003d value_marginal[jstar]\n\n    S \u003d {jstar}\n    Sprime \u003d Sprime-S\n\n    # Step 4\n    while True:\n        v_akt \u003d copy.deepcopy(v_new)  # deepcopy to be on the safe side\n        v_temp \u003d np.zeros_like(revenues, dtype\u003dfloat)  # uses more space then necessary, but simplifies indices below\n        for j in Sprime:\n            for l in customer_segments:\n                z \u003d 0\n                n \u003d 0\n                for p in S.union({j}):\n                    z +\u003d w[p]*preference_weights[l, p]\n                    n +\u003d preference_weights[l, p]\n                n +\u003d preference_no_purchase[l]\n                v_temp[j] +\u003d arrival_probabilities[l]*z/n\n        jstar \u003d np.argmax(value_marginal)  # argmax always returns index of first maxima (if there is \u003e 1)\n        v_new \u003d value_marginal[jstar]\n        if v_new \u003e v_akt:\n            S \u003d S.union({jstar})\n            Sprime \u003d Sprime - {jstar}\n        else:\n            break\n\n    # Step 5\n    y[list(S)] \u003d 1\n    return tuple(y), v_new\n\n\n# CDLP by column generation\ndef CDLP_by_column_generation(capacities, preference_no_purchase):\n    \"\"\"\n    Implements Bront et als approach for CDLP by column generation as pointed out on p. 775 just above \"5. Decomp...\"\n\n    :return:\n    \"\"\"\n    resources, \\\n        products, revenues, A, \\\n        customer_segments, preference_weights, arrival_probabilities, \\\n        times \u003d get_data_without_variations()\n\n    dual_pi \u003d np.zeros(len(A))\n\n    col_offerset, col_val \u003d column_greedy(preference_no_purchase, dual_pi)\n    if all(col_offerset \u003d\u003d np.zeros_like(col_offerset)):\n        print(\"MIP solution used to solve CDLP by column generation\")\n        col_offerset, col_val \u003d column_MIP(preference_no_purchase, dual_pi)\n\n    offer_sets \u003d pd.DataFrame([np.array(col_offerset)])\n\n    val_akt_CDLP \u003d 0\n    ret, val_new_CDLP, dual_pi, dual_sigma \u003d CDLP(capacities, preference_no_purchase, offer_sets)\n\n    while val_new_CDLP \u003e val_akt_CDLP:\n        val_akt_CDLP \u003d copy.deepcopy(val_new_CDLP)  # deepcopy and new name to be on the safe side\n\n        col_offerset, col_val \u003d column_greedy(preference_no_purchase, dual_pi)\n        if not offer_sets[(offer_sets \u003d\u003d np.array(col_offerset)).all(axis\u003d1)].index.empty:\n            col_offerset, col_val \u003d column_MIP(preference_no_purchase, dual_pi)\n            if not offer_sets[(offer_sets \u003d\u003d np.array(col_offerset)).all(axis\u003d1)].index.empty:\n                break  # nothing changed\n\n        offer_sets \u003d offer_sets.append([np.array(col_offerset)], ignore_index\u003dTrue)\n        ret, val_new_CDLP, dual_pi, dual_sigma \u003d CDLP(capacities, preference_no_purchase, offer_sets)\n\n    return ret, val_new_CDLP, dual_pi, dual_sigma\n\n# %%\n# DECOMPOSITION APPROXIMATION ALGORITHM\n\n# leg level decomposition directly via (11)\n@memoize\ndef value_leg_i_11(i, x_i, t, pi, preference_no_purchase):\n    \"\"\"\n    Implements the table of value leg decomposition on p. 776\n\n    :param i:\n    :param x_i:\n    :param t:\n    :param pi:\n    :return: optimal value, index of optimal offer set, tuple optimal offer set\n    \"\"\"\n    resources, \\\n        products, revenues, A, \\\n        customer_segments, preference_weights, arrival_probabilities, \\\n        times \u003d get_data_without_variations()\n    T \u003d len(times)\n    lam \u003d sum(arrival_probabilities)\n\n    if t \u003d\u003d T+1:\n        return 0, None, None, None\n    elif x_i \u003c\u003d 0:\n        return 0, None, None, None\n\n    offer_sets_all \u003d get_offer_sets_all(products)\n    offer_sets_all \u003d pd.DataFrame(offer_sets_all)\n\n    val_akt \u003d 0.0\n    index_max \u003d 0\n\n    df2 \u003d pd.DataFrame({\"purchase_rates\": [[0]] * offer_sets_all.__len__()})\n    df3 \u003d pd.DataFrame({\"temps\": [[0]] * offer_sets_all.__len__()})\n\n    for index, offer_array in offer_sets_all.iterrows():\n        temp \u003d np.zeros_like(products, dtype\u003dfloat)\n        for j in products:\n            if offer_array[j] \u003e 0:\n                temp[j] \u003d (revenues[j] -\n                           (value_leg_i_11(i, x_i, t+1, pi, preference_no_purchase)[0] -\n                            value_leg_i_11(i, x_i-1, t+1, pi, preference_no_purchase)[0] - pi[i]) * A[i, j] -\n                           sum(pi[A[:, j] \u003d\u003d 1]))\n        val_new \u003d sum(purchase_rate_vector(tuple(offer_array), preference_weights,\n                                           preference_no_purchase, arrival_probabilities)[:-1] * temp)\n        if val_new \u003e val_akt:\n            index_max \u003d copy.copy(index)\n            val_akt \u003d copy.deepcopy(val_new)\n\n        df2.loc[index, \"purchase_rates\"] \u003d [purchase_rate_vector(tuple(offer_array), preference_weights,\n                                           preference_no_purchase, arrival_probabilities)]\n        df3.loc[index, \"temps\"] \u003d [temp]\n    return lam * val_akt + value_leg_i_11(i, x_i, t+1, pi, preference_no_purchase)[0], \\\n        index_max, tuple(offer_sets_all.iloc[index_max]), df2.loc[index_max, \"purchase_rates\"], df3.loc[index_max, \"temps\"]\n\n\ndef displacement_costs_vector(capacities_remaining, preference_no_purchase, t, pi, beta\u003d1):\n    \"\"\"\n    Implements the displacement vector on p. 777\n\n    :param capacities_remaining:\n    :param t:\n    :param pi:\n    :param beta:\n    :return:\n    \"\"\"\n    resources, \\\n        products, revenues, A, \\\n        customer_segments, preference_weights, arrival_probabilities, \\\n        times \u003d get_data_without_variations()\n\n    delta_v \u003d 1.0*np.zeros_like(resources)\n    for i in resources:\n        delta_v[i] \u003d beta * (value_leg_i_11(i, capacities_remaining[i], t, pi, preference_no_purchase)[0] -\n                             value_leg_i_11(i, capacities_remaining[i] - 1, t, pi, preference_no_purchase)[0]) + \\\n                     (1-beta) * pi[i]\n    return delta_v\n\n\ndef calculate_offer_set(capacities_remaining, preference_no_purchase, t, pi, beta\u003d1, dataName\u003d\"\"):\n    \"\"\"\n    Implements (14) on p. 777\n\n    :param capacities_remaining:\n    :param t:\n    :param pi:\n    :param beta:\n    :return: index of optimal offer set, optimal offer set (the products)\n    \"\"\"\n    resources, \\\n        products, revenues, A, \\\n        customer_segments, preference_weights, arrival_probabilities, \\\n        times \u003d get_data_without_variations(dataName)\n    lam \u003d sum(arrival_probabilities)\n\n    val_akt \u003d 0\n    index_max \u003d 0\n\n    offer_sets_all \u003d get_offer_sets_all(products)\n    offer_sets_all \u003d pd.DataFrame(offer_sets_all)\n\n    displacement_costs \u003d displacement_costs_vector(capacities_remaining, preference_no_purchase, t + 2, pi, beta)\n\n    for index, offer_array in offer_sets_all.iterrows():\n        val_new \u003d 0\n        purchase_rate \u003d purchase_rate_vector(tuple(offer_array), preference_weights,\n                                             preference_no_purchase, arrival_probabilities)\n        for j in products:\n            if offer_array[j] \u003e 0 and all(capacities_remaining - A[:, j] \u003e\u003d 0):\n                val_new +\u003d purchase_rate[j] * \\\n                           (revenues[j] - sum(displacement_costs*A[:, j]))\n        val_new \u003d lam*val_new\n\n        if val_new \u003e val_akt:\n            index_max \u003d copy.copy(index)\n            val_akt \u003d copy.deepcopy(val_new)\n\n    return index_max, products[np.array(offer_sets_all.iloc[[index_max]] \u003d\u003d 1)[0]] + 1, offer_sets_all\n",
      "metadata": {
        "pycharm": {
          "metadata": false,
          "name": "#%%\n"
        }
      }
    },
    {
      "cell_type": "code",
      "execution_count": 5,
      "metadata": {
        "pycharm": {}
      },
      "outputs": [],
      "source": "# toy example for explaining stuff, check implementation of CDLP\nn \u003d 8\nproducts \u003d np.arange(n)\nrevenues \u003d np.array([1200, 800, 500, 500, 800, 500, 300, 300], dtype\u003dnp.float)\n\nm \u003d 3\nresources \u003d np.arange(m)\ncapacities \u003d np.array([10, 5, 5])\n\n# capacity demand matrix A (rows: resources, cols: products)\n# a_ij \u003d 1 if resource i is used by product j\nA \u003d np.array([[0, 1, 1, 0, 0, 1, 1, 0],\n              [1, 0, 0, 0, 1, 0, 0, 0],\n              [0, 1, 0, 1, 0, 1, 0, 1]])\n\nT \u003d 30\ntimes \u003d np.arange(T)\n\nL \u003d 5\ncustomer_segments \u003d np.arange(L)\narrival_probabilities \u003d np.array([0.15, 0.15, 0.2, 0.25, 0.25])\npreference_weights \u003d np.array([[5, 0, 0, 0, 8, 0, 0, 0],\n                              [10, 6, 0, 0, 0, 0, 0, 0],\n                              [0, 0, 0, 0, 8, 5, 0, 0],\n                              [0, 0, 4, 0, 0, 0, 8, 0],\n                              [0, 0, 0, 6, 0, 0, 0, 8]])\npreference_no_purchase \u003d np.array([2, 5, 2, 2, 2])"
    },
    {
      "cell_type": "markdown",
      "metadata": {
        "pycharm": {}
      },
      "source": [
        "Here we go. \n",
        "Wir gehen langsam und von hinten vor. Auffallend war, dass wir Tabelle 3 aus Bront et al nicht replizieren konnten."
      ]
    },
    {
      "cell_type": "code",
      "execution_count": 9,
      "metadata": {
        "pycharm": {}
      },
      "outputs": [
        {
          "data": {
            "text/html": [
              "\u003cdiv\u003e\n",
              "\u003cstyle scoped\u003e\n",
              "    .dataframe tbody tr th:only-of-type {\n",
              "        vertical-align: middle;\n",
              "    }\n",
              "\n",
              "    .dataframe tbody tr th {\n",
              "        vertical-align: top;\n",
              "    }\n",
              "\n",
              "    .dataframe thead th {\n",
              "        text-align: right;\n",
              "    }\n",
              "\u003c/style\u003e\n",
              "\u003ctable border\u003d\"1\" class\u003d\"dataframe\"\u003e\n",
              "  \u003cthead\u003e\n",
              "    \u003ctr style\u003d\"text-align: right;\"\u003e\n",
              "      \u003cth\u003e\u003c/th\u003e\n",
              "      \u003cth\u003e0\u003c/th\u003e\n",
              "      \u003cth\u003e1\u003c/th\u003e\n",
              "      \u003cth\u003e2\u003c/th\u003e\n",
              "      \u003cth\u003e3\u003c/th\u003e\n",
              "      \u003cth\u003e4\u003c/th\u003e\n",
              "      \u003cth\u003e5\u003c/th\u003e\n",
              "      \u003cth\u003e6\u003c/th\u003e\n",
              "      \u003cth\u003e7\u003c/th\u003e\n",
              "      \u003cth\u003eval\u003c/th\u003e\n",
              "    \u003c/tr\u003e\n",
              "  \u003c/thead\u003e\n",
              "  \u003ctbody\u003e\n",
              "    \u003ctr\u003e\n",
              "      \u003cth\u003e116\u003c/th\u003e\n",
              "      \u003ctd\u003e0\u003c/td\u003e\n",
              "      \u003ctd\u003e1\u003c/td\u003e\n",
              "      \u003ctd\u003e1\u003c/td\u003e\n",
              "      \u003ctd\u003e1\u003c/td\u003e\n",
              "      \u003ctd\u003e0\u003c/td\u003e\n",
              "      \u003ctd\u003e1\u003c/td\u003e\n",
              "      \u003ctd\u003e0\u003c/td\u003e\n",
              "      \u003ctd\u003e0\u003c/td\u003e\n",
              "      \u003ctd\u003e281.285392\u003c/td\u003e\n",
              "    \u003c/tr\u003e\n",
              "    \u003ctr\u003e\n",
              "      \u003cth\u003e118\u003c/th\u003e\n",
              "      \u003ctd\u003e0\u003c/td\u003e\n",
              "      \u003ctd\u003e1\u003c/td\u003e\n",
              "      \u003ctd\u003e1\u003c/td\u003e\n",
              "      \u003ctd\u003e1\u003c/td\u003e\n",
              "      \u003ctd\u003e0\u003c/td\u003e\n",
              "      \u003ctd\u003e1\u003c/td\u003e\n",
              "      \u003ctd\u003e1\u003c/td\u003e\n",
              "      \u003ctd\u003e0\u003c/td\u003e\n",
              "      \u003ctd\u003e274.586702\u003c/td\u003e\n",
              "    \u003c/tr\u003e\n",
              "    \u003ctr\u003e\n",
              "      \u003cth\u003e117\u003c/th\u003e\n",
              "      \u003ctd\u003e0\u003c/td\u003e\n",
              "      \u003ctd\u003e1\u003c/td\u003e\n",
              "      \u003ctd\u003e1\u003c/td\u003e\n",
              "      \u003ctd\u003e1\u003c/td\u003e\n",
              "      \u003ctd\u003e0\u003c/td\u003e\n",
              "      \u003ctd\u003e1\u003c/td\u003e\n",
              "      \u003ctd\u003e0\u003c/td\u003e\n",
              "      \u003ctd\u003e1\u003c/td\u003e\n",
              "      \u003ctd\u003e270.639377\u003c/td\u003e\n",
              "    \u003c/tr\u003e\n",
              "    \u003ctr\u003e\n",
              "      \u003cth\u003e119\u003c/th\u003e\n",
              "      \u003ctd\u003e0\u003c/td\u003e\n",
              "      \u003ctd\u003e1\u003c/td\u003e\n",
              "      \u003ctd\u003e1\u003c/td\u003e\n",
              "      \u003ctd\u003e1\u003c/td\u003e\n",
              "      \u003ctd\u003e0\u003c/td\u003e\n",
              "      \u003ctd\u003e1\u003c/td\u003e\n",
              "      \u003ctd\u003e1\u003c/td\u003e\n",
              "      \u003ctd\u003e1\u003c/td\u003e\n",
              "      \u003ctd\u003e263.940686\u003c/td\u003e\n",
              "    \u003c/tr\u003e\n",
              "    \u003ctr\u003e\n",
              "      \u003cth\u003e86\u003c/th\u003e\n",
              "      \u003ctd\u003e0\u003c/td\u003e\n",
              "      \u003ctd\u003e1\u003c/td\u003e\n",
              "      \u003ctd\u003e0\u003c/td\u003e\n",
              "      \u003ctd\u003e1\u003c/td\u003e\n",
              "      \u003ctd\u003e0\u003c/td\u003e\n",
              "      \u003ctd\u003e1\u003c/td\u003e\n",
              "      \u003ctd\u003e1\u003c/td\u003e\n",
              "      \u003ctd\u003e0\u003c/td\u003e\n",
              "      \u003ctd\u003e256.596309\u003c/td\u003e\n",
              "    \u003c/tr\u003e\n",
              "  \u003c/tbody\u003e\n",
              "\u003c/table\u003e\n",
              "\u003c/div\u003e"
            ],
            "text/plain": [
              "     0  1  2  3  4  5  6  7         val\n",
              "116  0  1  1  1  0  1  0  0  281.285392\n",
              "118  0  1  1  1  0  1  1  0  274.586702\n",
              "117  0  1  1  1  0  1  0  1  270.639377\n",
              "119  0  1  1  1  0  1  1  1  263.940686\n",
              "86   0  1  0  1  0  1  1  0  256.596309"
            ]
          },
          "execution_count": 9,
          "metadata": {},
          "output_type": "execute_result"
        }
      ],
      "source": [
        "def print_top(df, p\u003d0.9):\n",
        "    df2 \u003d df.loc[df.loc[:, \"val\"] \u003e p * max(df.loc[:, \"val\"]), :]\n",
        "    return df2.sort_values([\"val\"], ascending\u003dFalse)\n",
        "\n",
        "capacities_remaining \u003d np.array([1,0,1])\n",
        "pi \u003d np.array([0, 1134.55, 500])\n",
        "t \u003d 27\n",
        "beta \u003d 1\n",
        "\n",
        "dataName \u003d \"example0\"\n",
        "\n",
        "resources, \\\n",
        "products, revenues, A, \\\n",
        "customer_segments, preference_weights, arrival_probabilities, \\\n",
        "times \u003d get_data_without_variations(dataName)\n",
        "lam \u003d sum(arrival_probabilities)\n",
        "\n",
        "val_akt \u003d 0\n",
        "index_max \u003d 0\n",
        "\n",
        "offer_sets_all \u003d get_offer_sets_all(products)\n",
        "offer_sets_all \u003d pd.DataFrame(offer_sets_all)\n",
        "df2 \u003d pd.DataFrame({\"purchase_rates\":[[0]]*offer_sets_all.__len__()})\n",
        "displacement_costs \u003d displacement_costs_vector(capacities_remaining, preference_no_purchase, t + 1, pi, beta)\n",
        "\n",
        "for index, offer_array in offer_sets_all.iterrows():\n",
        "    # check if it makes sense to consider the offer_array\n",
        "    # it doesn\u0027t make sense, if product cannot be sold due to capacity reasons\n",
        "    alright \u003d True\n",
        "    for j in products:\n",
        "        if offer_array[j] \u003e 0 and any(capacities_remaining - A[:, j] \u003c 0):\n",
        "            alright \u003d False\n",
        "\n",
        "    if alright:\n",
        "        val_new \u003d 0.0\n",
        "        purchase_rate \u003d purchase_rate_vector(tuple(offer_array), preference_weights,\n",
        "                                             preference_no_purchase, arrival_probabilities)\n",
        "        for j in products:\n",
        "            if offer_array[j] \u003e 0:\n",
        "                val_new +\u003d purchase_rate[j] * \\\n",
        "                           (revenues[j] - sum(displacement_costs * A[:, j]))\n",
        "        val_new \u003d lam * val_new\n",
        "\n",
        "        if val_new \u003e val_akt:\n",
        "            index_max \u003d copy.copy(index)\n",
        "            val_akt \u003d copy.deepcopy(val_new)\n",
        "\n",
        "        offer_sets_all.loc[index, \"val\"] \u003d val_new\n",
        "        df2.loc[index, \"purchase_rates\"] \u003d [np.around(purchase_rate, 2)]\n",
        "    else:\n",
        "        offer_sets_all.loc[index, \"val\"] \u003d 0.0\n",
        "\n",
        "\n",
        "# offer_sets_all[\"purchase_rates\"] \u003d df2[\"purchase_rates\"]\n",
        "\n",
        "q \u003d print_top(offer_sets_all)\n",
        "q\n"
      ]
    },
    {
      "cell_type": "markdown",
      "metadata": {
        "pycharm": {}
      },
      "source": [
        "Produkt 6 wird also zusätzlich mit angeboten, was im optimalen Offerset aus Bront et al nicht der Fall ist (Index hierfür: 112).\n",
        "\n",
        "Ursachenanalyse führt uns zunächst zum Vergleich der Kaufwkeiten."
      ]
    },
    {
      "cell_type": "code",
      "execution_count": 13,
      "metadata": {
        "pycharm": {}
      },
      "outputs": [
        {
          "name": "stdout",
          "output_type": "stream",
          "text": [
            "     0  1  2  3  4  5  6  7         val  \\\n",
            "116  0  1  1  1  0  1  0  0  281.285392   \n",
            "112  0  1  1  1  0  0  0  0  221.477535   \n",
            "\n",
            "                                        purchase_rates  \n",
            "116  [[0.0, 0.08, 0.17, 0.19, 0.0, 0.14, 0.0, 0.0, ...  \n",
            "112  [[0.0, 0.08, 0.17, 0.19, 0.0, 0.0, 0.0, 0.0, 0...  \n"
          ]
        },
        {
          "data": {
            "text/plain": [
              "116    [[0.0, 0.08, 0.17, 0.19, 0.0, 0.14, 0.0, 0.0, ...\n",
              "112    [[0.0, 0.08, 0.17, 0.19, 0.0, 0.0, 0.0, 0.0, 0...\n",
              "Name: purchase_rates, dtype: object"
            ]
          },
          "execution_count": 13,
          "metadata": {},
          "output_type": "execute_result"
        }
      ],
      "source": [
        "offer_sets_all[\"purchase_rates\"] \u003d df2[\"purchase_rates\"]\n",
        "offer_sets_all.loc[[116, 112], :]"
      ]
    },
    {
      "cell_type": "code",
      "execution_count": 15,
      "metadata": {
        "pycharm": {}
      },
      "outputs": [
        {
          "data": {
            "text/plain": [
              "[array([0.  , 0.08, 0.17, 0.19, 0.  , 0.14, 0.  , 0.  , 0.42])]"
            ]
          },
          "execution_count": 15,
          "metadata": {},
          "output_type": "execute_result"
        }
      ],
      "source": [
        "a \u003d offer_sets_all.loc[116, \"purchase_rates\"]\n",
        "a"
      ]
    },
    {
      "cell_type": "code",
      "execution_count": 16,
      "metadata": {
        "pycharm": {}
      },
      "outputs": [
        {
          "data": {
            "text/plain": [
              "[array([0.  , 0.08, 0.17, 0.19, 0.  , 0.  , 0.  , 0.  , 0.56])]"
            ]
          },
          "execution_count": 16,
          "metadata": {},
          "output_type": "execute_result"
        }
      ],
      "source": [
        "b \u003d offer_sets_all.loc[112, \"purchase_rates\"]\n",
        "b"
      ]
    },
    {
      "cell_type": "markdown",
      "metadata": {
        "pycharm": {}
      },
      "source": [
        "Die gesamte Kaufwkeit kommt also aus der Nichtkaufwkeit (Produkte 2,3,4 werden nicht kannabalisiert). Dies ergibt Sinn, da gegeben der Segmentdefinitionen nur Segment 3 an Produkt 6 interessiert ist, dieses sich aber für keines der Produkte 2,3,4 interessiert.\n",
        "\n",
        "Die Ursache für unser Problem muss also im Displacement-Cost Vektor liegen. Los geht die Spurensuche. Wir betrachten das gegebene Szenario."
      ]
    },
    {
      "cell_type": "code",
      "execution_count": 21,
      "metadata": {
        "pycharm": {}
      },
      "outputs": [
        {
          "name": "stdout",
          "output_type": "stream",
          "text": [
            "27\n",
            "[   0.   1134.55  500.  ]\n",
            "1\n",
            "[1 0 1]\n"
          ]
        }
      ],
      "source": [
        "print(t)\n",
        "print(pi)\n",
        "print(beta)\n",
        "print(capacities_remaining)"
      ]
    },
    {
      "cell_type": "code",
      "execution_count": 18,
      "metadata": {
        "pycharm": {}
      },
      "outputs": [
        {
          "data": {
            "text/plain": [
              "array([40.6725,  0.    , 40.6725])"
            ]
          },
          "execution_count": 18,
          "metadata": {},
          "output_type": "execute_result"
        }
      ],
      "source": [
        "displacement_costs \u003d displacement_costs_vector(capacities_remaining, preference_no_purchase, t + 1, pi, beta)\n",
        "displacement_costs"
      ]
    },
    {
      "cell_type": "markdown",
      "metadata": {
        "pycharm": {}
      },
      "source": [
        "Auffallend sind die geringen Kosten, die auch symmetrisch sind. Wir beginnen das gesamte von hinten her zu reproduzieren."
      ]
    },
    {
      "cell_type": "code",
      "execution_count": 23,
      "metadata": {
        "pycharm": {}
      },
      "outputs": [
        {
          "name": "stdout",
          "output_type": "stream",
          "text": [
            "In t \u003d  31  hat Ressource  1  einen value von  0\n",
            "In t \u003d  31  hat Ressource  2  einen value von  0\n",
            "In t \u003d  31  hat Ressource  3  einen value von  0\n"
          ]
        }
      ],
      "source": [
        "t \u003d 31\n",
        "\n",
        "for i in resources:\n",
        "    print(\"In t \u003d \", t, \" hat Ressource \", i+1, \" einen value von \", value_leg_i_11(i, capacities_remaining[i], t, pi, preference_no_purchase)[0])"
      ]
    },
    {
      "cell_type": "code",
      "execution_count": 42,
      "metadata": {
        "pycharm": {}
      },
      "outputs": [
        {
          "name": "stdout",
          "output_type": "stream",
          "text": [
            "In t \u003d  30  hat Ressource  1  einen value von  13.557500000000008\n",
            "\t \t optimales Offerset: \t  (1, 0, 0, 0, 0, 0, 0, 0)\n",
            "\t \t Kaufwkeiten: \t [array([0.20714286, 0.        , 0.        , 0.        , 0.        ,\n",
            "       0.        , 0.        , 0.        , 0.79285714])]\n",
            "\n",
            "\n",
            "In t \u003d  30  hat Ressource  2  einen value von  0\n",
            "\t \t optimales Offerset: \t  None\n",
            "\t \t Kaufwkeiten: \t None\n",
            "\n",
            "\n",
            "In t \u003d  30  hat Ressource  3  einen value von  13.557500000000008\n",
            "\t \t optimales Offerset: \t  (1, 0, 0, 0, 0, 0, 0, 0)\n",
            "\t \t Kaufwkeiten: \t [array([0.20714286, 0.        , 0.        , 0.        , 0.        ,\n",
            "       0.        , 0.        , 0.        , 0.79285714])]\n",
            "\n",
            "\n"
          ]
        }
      ],
      "source": [
        "t \u003d 30\n",
        "\n",
        "for i in resources:\n",
        "    temp \u003d value_leg_i_11(i, capacities_remaining[i], t, pi, preference_no_purchase)\n",
        "    print(\"In t \u003d \", t, \" hat Ressource \", i+1, \" einen value von \", temp[0])\n",
        "    print(\"\\t \\t optimales Offerset: \\t \", temp[2])\n",
        "    print(\"\\t \\t Kaufwkeiten: \\t\", temp[3])\n",
        "    print(\"\\n\")"
      ]
    },
    {
      "cell_type": "markdown",
      "metadata": {
        "pycharm": {}
      },
      "source": [
        "One error found: Indexing in Python is different to R. I wanted to make logical indexing (via true / false values), where any value different from 0 is interpreted as true. Here is a reproduction of the discovered mistake:"
      ]
    },
    {
      "cell_type": "code",
      "execution_count": 53,
      "metadata": {
        "pycharm": {}
      },
      "outputs": [
        {
          "name": "stdout",
          "output_type": "stream",
          "text": [
            "[   0.   1134.55  500.  ]\n",
            "[1 0 1]\n",
            "Mistake: \t [1134.55    0.   1134.55]\n",
            "Intended: \t [  0. 500.]\n"
          ]
        }
      ],
      "source": [
        "print(pi)\n",
        "print(A[:, 1])\n",
        "print(\"Mistake: \\t\", pi[A[:, 1]])\n",
        "print(\"Intended: \\t\", pi[A[:, 1] \u003d\u003d 1])"
      ]
    },
    {
      "cell_type": "markdown",
      "metadata": {
        "pycharm": {}
      },
      "source": [
        "Adjustment done in code for value_leg_i_11()."
      ]
    },
    {
      "cell_type": "code",
      "execution_count": 55,
      "metadata": {
        "pycharm": {}
      },
      "outputs": [
        {
          "name": "stdout",
          "output_type": "stream",
          "text": [
            "In t \u003d  30  hat Ressource  1  einen value von  0\n",
            "\t \t optimales Offerset: \t  None\n",
            "\t \t Kaufwkeiten: \t None\n",
            "\n",
            "\n",
            "In t \u003d  30  hat Ressource  2  einen value von  0\n",
            "\t \t optimales Offerset: \t  None\n",
            "\t \t Kaufwkeiten: \t None\n",
            "\n",
            "\n",
            "In t \u003d  30  hat Ressource  3  einen value von  313.9664502164502\n",
            "\t \t optimales Offerset: \t  (0, 1, 1, 1, 0, 1, 0, 0)\n",
            "\t \t Kaufwkeiten: \t [array([0.        , 0.08181818, 0.16666667, 0.1875    , 0.        ,\n",
            "       0.14285714, 0.        , 0.        , 0.42115801])]\n",
            "\n",
            "\n"
          ]
        }
      ],
      "source": [
        "t \u003d 30\n",
        "capacities_remaining \u003d [0, 0, 1]\n",
        "\n",
        "for i in resources:\n",
        "    temp \u003d value_leg_i_11(i, capacities_remaining[i], t, pi, preference_no_purchase)\n",
        "    print(\"In t \u003d \", t, \" hat Ressource \", i+1, \" einen value von \", temp[0])\n",
        "    print(\"\\t \\t optimales Offerset: \\t \", temp[2])\n",
        "    print(\"\\t \\t Kaufwkeiten: \\t\", temp[3])\n",
        "    print(\"\\n\")"
      ]
    },
    {
      "cell_type": "markdown",
      "metadata": {
        "pycharm": {}
      },
      "source": [
        "Adjusting the implementation of calculate_offer_set() to calculate the displacement_costs with t+2, we can reproduce table 3 exactly."
      ]
    },
    {
      "cell_type": "code",
      "execution_count": 58,
      "metadata": {
        "pycharm": {}
      },
      "outputs": [
        {
          "name": "stdout",
          "output_type": "stream",
          "text": [
            "      rem cap        offer set\n",
            "0   [2, 2, 1]     [1, 3, 4, 5]\n",
            "1   [2, 1, 2]  [1, 2, 3, 4, 6]\n",
            "2   [1, 2, 2]     [1, 3, 4, 5]\n",
            "3   [2, 1, 1]        [1, 3, 4]\n",
            "4   [1, 2, 1]     [1, 3, 4, 5]\n",
            "5   [1, 1, 2]  [1, 2, 3, 4, 6]\n",
            "6   [2, 1, 0]           [1, 3]\n",
            "7   [2, 0, 1]        [2, 3, 4]\n",
            "8   [1, 2, 0]        [1, 3, 5]\n",
            "9   [0, 2, 1]        [1, 4, 5]\n",
            "10  [1, 0, 2]     [2, 3, 4, 6]\n",
            "11  [0, 1, 2]           [1, 4]\n",
            "12  [1, 1, 1]        [1, 3, 4]\n",
            "13  [1, 1, 0]           [1, 3]\n",
            "14  [1, 0, 1]        [2, 3, 4]\n",
            "15  [0, 1, 1]           [1, 4]\n",
            "16  [1, 0, 0]              [3]\n",
            "17  [0, 1, 0]              [1]\n",
            "18  [0, 0, 1]              [4]\n"
          ]
        }
      ],
      "source": [
        "remaining_capacity \u003d np.array([[2,2,1],\n",
        "                               [2,1,2],\n",
        "                               [1,2,2],\n",
        "                               [2,1,1],\n",
        "                               [1,2,1],\n",
        "                               [1,1,2],\n",
        "                               [2,1,0],\n",
        "                               [2,0,1],\n",
        "                               [1,2,0],\n",
        "                               [0,2,1],\n",
        "                               [1,0,2],\n",
        "                               [0,1,2],\n",
        "                               [1,1,1],\n",
        "                               [1,1,0],\n",
        "                               [1,0,1],\n",
        "                               [0,1,1],\n",
        "                               [1,0,0],\n",
        "                               [0,1,0],\n",
        "                               [0,0,1]])\n",
        "preference_no_purchase \u003d get_preference_no_purchase()\n",
        "df \u003d pd.DataFrame(index\u003dnp.arange(len(remaining_capacity)), columns\u003d[\u0027rem cap\u0027, \u0027offer set\u0027])\n",
        "for indexi in np.arange(len(df)):\n",
        "    df.loc[indexi] \u003d [remaining_capacity[indexi], calculate_offer_set(remaining_capacity[indexi],\n",
        "                                                                      preference_no_purchase, 27,\n",
        "                                                                      np.array([0, 1134.55, 500]))[1]]\n",
        "print(df)"
      ]
    },
    {
      "cell_type": "code",
      "execution_count": 59,
      "metadata": {
        "pycharm": {}
      },
      "outputs": [
        {
          "name": "stdout",
          "output_type": "stream",
          "text": [
            "      rem cap        offer set\n",
            "0   [3, 2, 2]     [1, 3, 4, 5]\n",
            "1   [2, 3, 2]     [1, 3, 4, 5]\n",
            "2   [2, 2, 3]  [1, 2, 3, 4, 5]\n",
            "3   [3, 2, 1]     [1, 3, 4, 5]\n",
            "4   [3, 1, 2]  [1, 2, 3, 4, 6]\n",
            "5   [2, 3, 1]     [1, 3, 4, 5]\n",
            "6   [1, 3, 2]     [1, 3, 4, 5]\n",
            "7   [2, 1, 3]  [1, 2, 3, 4, 6]\n",
            "8   [1, 2, 3]     [1, 3, 4, 5]\n",
            "9   [3, 1, 1]     [1, 3, 4, 6]\n",
            "10  [1, 3, 1]     [1, 3, 4, 5]\n",
            "11  [1, 1, 3]  [1, 2, 3, 4, 6]\n",
            "12  [3, 1, 0]           [1, 3]\n",
            "13  [3, 0, 1]     [2, 3, 4, 6]\n",
            "14  [1, 3, 0]        [1, 3, 5]\n",
            "15  [0, 3, 1]        [1, 4, 5]\n",
            "16  [1, 0, 3]     [2, 3, 4, 6]\n",
            "17  [0, 1, 3]           [1, 4]\n",
            "18  [2, 2, 2]     [1, 3, 4, 5]\n"
          ]
        }
      ],
      "source": [
        "remaining_capacity2 \u003d np.array([[3, 2, 2],\n",
        "                               [2, 3, 2],\n",
        "                               [2, 2, 3],\n",
        "                               [3, 2, 1],\n",
        "                               [3, 1, 2],\n",
        "                               [2, 3, 1],\n",
        "                               [1, 3, 2],\n",
        "                               [2, 1, 3],\n",
        "                               [1, 2, 3],\n",
        "                               [3, 1, 1],\n",
        "                               [1, 3, 1],\n",
        "                               [1, 1, 3],\n",
        "                               [3, 1, 0],\n",
        "                               [3, 0, 1],\n",
        "                               [1, 3, 0],\n",
        "                               [0, 3, 1],\n",
        "                               [1, 0, 3],\n",
        "                               [0, 1, 3],\n",
        "                               [2, 2, 2]])\n",
        "preference_no_purchase \u003d get_preference_no_purchase()\n",
        "df2 \u003d pd.DataFrame(index\u003dnp.arange(len(remaining_capacity2)), columns\u003d[\u0027rem cap\u0027, \u0027offer set\u0027])\n",
        "for indexi in np.arange(len(df2)):\n",
        "    df2.loc[indexi] \u003d [remaining_capacity2[indexi], calculate_offer_set(remaining_capacity2[indexi],\n",
        "                                                                      preference_no_purchase, 27,\n",
        "                                                                      np.array([0, 1134.55, 500]))[1]]\n",
        "print(df2)"
      ]
    }
  ],
  "metadata": {
    "kernelspec": {
      "display_name": "Python 3",
      "language": "python",
      "name": "python3"
    },
    "language_info": {
      "codemirror_mode": {
        "name": "ipython",
        "version": 3
      },
      "file_extension": ".py",
      "mimetype": "text/x-python",
      "name": "python",
      "nbconvert_exporter": "python",
      "pygments_lexer": "ipython3",
      "version": "3.7.1"
    }
  },
  "nbformat": 4,
  "nbformat_minor": 2
}