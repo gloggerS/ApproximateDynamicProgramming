{
 "cells": [
  {
   "cell_type": "markdown",
   "metadata": {
    "pycharm": {}
   },
   "source": [
    "# Figure 2\n",
    "\n",
    "Setting: \n",
    "\n",
    "Example\tsingleLegFlight\n",
    "use_var_capacities\tTrue"
   ]
  },
  {
   "cell_type": "code",
   "execution_count": 4,
   "metadata": {
    "pycharm": {
     "is_executing": false
    }
   },
   "outputs": [],
   "source": [
    "%matplotlib inline\n",
    "\n",
    "import matplotlib\n",
    "import matplotlib.pyplot as plt\n",
    "import pickle\n",
    "import pandas as pd\n",
    "import numpy as np"
   ]
  },
  {
   "cell_type": "markdown",
   "metadata": {
    "pycharm": {}
   },
   "source": [
    "## Value Function\n",
    "\n",
    "Execute:\n",
    "python D_value_expected_single_leg.py\n",
    "\n",
    "with result:\n",
    "Done. Time elapsed: 1192.530522108078 seconds.\n",
    "Results stored in: C:\\Users\\Stefan\\LRZ Sync+Share\\Masterarbeit-Klein\\Code\\Results\\singleLegFlight-True-DPSingleLeg-190701-0953"
   ]
  },
  {
   "cell_type": "markdown",
   "metadata": {},
   "source": [
    "## API linear\n",
    "\n",
    "Execute:\n",
    "\n",
    "\n",
    "with result:\n"
   ]
  },
  {
   "cell_type": "markdown",
   "metadata": {
    "pycharm": {}
   },
   "source": [
    "## The result"
   ]
  },
  {
   "cell_type": "markdown",
   "metadata": {},
   "source": [
    "### DP"
   ]
  },
  {
   "cell_type": "code",
   "execution_count": 40,
   "metadata": {
    "pycharm": {
     "is_executing": false
    }
   },
   "outputs": [],
   "source": [
    "result_folder = \"C:\\\\Users\\\\Stefan\\\\LRZ Sync+Share\\\\Masterarbeit-Klein\\\\Code\\\\Results\\\\singleLegFlight-True-DPSingleLeg-190701-0953\"\n",
    "with open(result_folder+\"\\\\totalresults.data\", \"rb\") as filehandle:\n",
    "    dat_lookup = pickle.load(filehandle)\n",
    "    \n",
    "u = 0  # +1\n",
    "t = 360"
   ]
  },
  {
   "cell_type": "code",
   "execution_count": 101,
   "metadata": {
    "pycharm": {
     "is_executing": false
    }
   },
   "outputs": [
    {
     "data": {
      "text/plain": [
       "array([    0.        ,   998.6418407 ,  1988.81203496,  2953.59493809,\n",
       "        3869.93157443,  4720.68024799,  5505.29587673,  6239.73912154,\n",
       "        6940.807617  ,  7592.33040135,  8172.22784101,  8666.43181809,\n",
       "        9073.48964507,  9404.7539337 ,  9679.46983536,  9903.00172456,\n",
       "       10071.7212932 , 10189.20400185, 10264.46723691, 10308.72259817,\n",
       "       10332.56165445, 10344.3048234 , 10349.58555423, 10351.74927566,\n",
       "       10352.55538061, 10352.82777781])"
      ]
     },
     "execution_count": 101,
     "metadata": {},
     "output_type": "execute_result"
    },
    {
     "data": {
      "image/png": "[encoded data removed]",
      "text/plain": [
       "<Figure size 432x288 with 1 Axes>"
      ]
     },
     "metadata": {
      "needs_background": "light"
     },
     "output_type": "display_data"
    }
   ],
   "source": [
    "x = np.stack(int(i) for i in dat_lookup[u][t].index)\n",
    "x\n",
    "y = np.array(dat_lookup[u][t][\"value\"])\n",
    "y\n",
    "x = x[:26]\n",
    "y = y[:26]\n",
    "plt.plot(x, y)\n",
    "y"
   ]
  },
  {
   "cell_type": "markdown",
   "metadata": {},
   "source": [
    "### API linear"
   ]
  },
  {
   "cell_type": "code",
   "execution_count": 92,
   "metadata": {},
   "outputs": [],
   "source": [
    "result_folder = \"C:\\\\Users\\\\Stefan\\\\LRZ Sync+Share\\\\Masterarbeit-Klein\\\\Code\\\\Results\\\\singleLegFlight-True-APILinearSingleLeg-190701-1105\"\n",
    "with open(result_folder+\"\\\\piResult.data\", \"rb\") as filehandle:\n",
    "    pi_lookup = pickle.load(filehandle)\n",
    "with open(result_folder+\"\\\\thetaResult.data\", \"rb\") as filehandle:\n",
    "    theta_lookup = pickle.load(filehandle)"
   ]
  },
  {
   "cell_type": "code",
   "execution_count": 107,
   "metadata": {},
   "outputs": [],
   "source": [
    "pi = pi_lookup[360]\n",
    "theta = theta_lookup[360]\n",
    "y_API = theta + x*pi"
   ]
  },
  {
   "cell_type": "code",
   "execution_count": 111,
   "metadata": {},
   "outputs": [
    {
     "name": "stdout",
     "output_type": "stream",
     "text": [
      "xs:  [ 0  1  2  3  4  5  6  7  8  9 10 11 12 13 14 15 16 17 18 19 20 21 22 23\n",
      " 24 25]\n",
      "thetas:  [2036.61776136]\n",
      "pis:  [416.29845725]\n",
      "values:  [ 2036.61776136  2452.9162186   2869.21467585  3285.5131331\n",
      "  3701.81159035  4118.11004759  4534.40850484  4950.70696209\n",
      "  5367.00541933  5783.30387658  6199.60233383  6615.90079107\n",
      "  7032.19924832  7448.49770557  7864.79616281  8281.09462006\n",
      "  8697.39307731  9113.69153455  9529.9899918   9946.28844905\n",
      " 10362.5869063  10778.88536354 11195.18382079 11611.48227804\n",
      " 12027.78073528 12444.07919253]\n"
     ]
    },
    {
     "data": {
      "image/png": "[encoded data removed]",
      "text/plain": [
       "<Figure size 432x288 with 1 Axes>"
      ]
     },
     "metadata": {
      "needs_background": "light"
     },
     "output_type": "display_data"
    }
   ],
   "source": [
    "plt.plot(x, y, label=\"DP\")\n",
    "plt.plot(x, y_API, label=\"API_linear\")\n",
    "\n",
    "plt.legend()\n",
    "\n",
    "print(\"xs: \", x)\n",
    "print(\"thetas: \", theta)\n",
    "print(\"pis: \", pi)\n",
    "print(\"values: \", y_API)"
   ]
  }
 ],
 "metadata": {
  "kernelspec": {
   "display_name": "Python 3",
   "language": "python",
   "name": "python3"
  },
  "language_info": {
   "codemirror_mode": {
    "name": "ipython",
    "version": 3
   },
   "file_extension": ".py",
   "mimetype": "text/x-python",
   "name": "python",
   "nbconvert_exporter": "python",
   "pygments_lexer": "ipython3",
   "version": "3.7.1"
  }
 },
 "nbformat": 4,
 "nbformat_minor": 2
}
