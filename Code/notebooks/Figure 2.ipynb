{
  "cells": [
    {
      "cell_type": "markdown",
      "metadata": {
        "pycharm": {}
      },
      "source": [
        "# Figure 2\n",
        "\n",
        "Setting: \n",
        "\n",
        "Example\tsingleLegFlight\n",
        "use_var_capacities\tTrue"
      ]
    },
    {
      "cell_type": "code",
      "execution_count": 4,
      "metadata": {
        "pycharm": {
          "is_executing": false
        }
      },
      "outputs": [],
      "source": [
        "%matplotlib inline\n",
        "\n",
        "import matplotlib\n",
        "import matplotlib.pyplot as plt\n",
        "import pickle\n",
        "import pandas as pd\n",
        "import numpy as np"
      ]
    },
    {
      "cell_type": "markdown",
      "metadata": {
        "pycharm": {}
      },
      "source": [
        "## Value Function\n",
        "\n",
        "Execute:\n",
        "python D_value_expected_single_leg.py\n",
        "\n",
        "with result:\n",
        "Done. Time elapsed: 1192.530522108078 seconds.\n",
        "Results stored in: C:\\Users\\Stefan\\LRZ Sync+Share\\Masterarbeit-Klein\\Code\\Results\\singleLegFlight-True-DPSingleLeg-190701-0953"
      ]
    },
    {
      "cell_type": "markdown",
      "metadata": {
        "pycharm": {}
      },
      "source": "## API linear\n\nExecute on remote machine:\npython E_API_lin_single_leg.py\n\nwith result:\nTotal time needed:\n 40989.836510658264 seconds \u003d \n 683.1639418443044 minutes\n \n \u003d\u003e 11 hours!!!\n"
    },
    {
      "cell_type": "markdown",
      "metadata": {
        "pycharm": {}
      },
      "source": [
        "## The result"
      ]
    },
    {
      "cell_type": "markdown",
      "metadata": {
        "pycharm": {}
      },
      "source": [
        "### DP"
      ]
    },
    {
      "cell_type": "code",
      "execution_count": 5,
      "metadata": {
        "pycharm": {
          "is_executing": false
        }
      },
      "outputs": [],
      "source": [
        "result_folder \u003d \"C:\\\\Users\\\\Stefan\\\\LRZ Sync+Share\\\\Masterarbeit-Klein\\\\Code\\\\Results\\\\singleLegFlight-True-DPSingleLeg-190701-0953\"\n",
        "with open(result_folder+\"\\\\totalresults.data\", \"rb\") as filehandle:\n",
        "    dat_lookup \u003d pickle.load(filehandle)\n",
        "    \n",
        "u \u003d 0  # +1\n",
        "t \u003d 360"
      ]
    },
    {
      "cell_type": "code",
      "execution_count": 6,
      "metadata": {
        "pycharm": {
          "is_executing": false
        }
      },
      "outputs": [
        {
          "data": {
            "text/plain": "array([    0.        ,   998.6418407 ,  1988.81203496,  2953.59493809,\n        3869.93157443,  4720.68024799,  5505.29587673,  6239.73912154,\n        6940.807617  ,  7592.33040135,  8172.22784101,  8666.43181809,\n        9073.48964507,  9404.7539337 ,  9679.46983536,  9903.00172456,\n       10071.7212932 , 10189.20400185, 10264.46723691, 10308.72259817,\n       10332.56165445, 10344.3048234 , 10349.58555423, 10351.74927566,\n       10352.55538061, 10352.82777781])"
          },
          "metadata": {},
          "output_type": "execute_result",
          "execution_count": 6
        },
        {
          "data": {
            "text/plain": "\u003cFigure size 432x288 with 1 Axes\u003e",
            "image/png": "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\u003d\n"
          },
          "metadata": {
            "needs_background": "light"
          },
          "output_type": "display_data"
        }
      ],
      "source": [
        "x \u003d np.stack(int(i) for i in dat_lookup[u][t].index)\n",
        "x\n",
        "y \u003d np.array(dat_lookup[u][t][\"value\"])\n",
        "y\n",
        "x \u003d x[:26]\n",
        "y \u003d y[:26]\n",
        "plt.plot(x, y)\n",
        "y"
      ]
    },
    {
      "cell_type": "markdown",
      "metadata": {
        "pycharm": {}
      },
      "source": [
        "### API linear"
      ]
    },
    {
      "cell_type": "code",
      "execution_count": 7,
      "metadata": {
        "pycharm": {
          "is_executing": false
        }
      },
      "outputs": [],
      "source": "result_folder \u003d \"C:\\\\Users\\\\Stefan\\\\LRZ Sync+Share\\\\Masterarbeit-Klein\\\\Code\\\\Results\\\\singleLegFlight-True-APILinearSingleLeg-190702-2200\"\nwith open(result_folder+\"\\\\piResult.data\", \"rb\") as filehandle:\n    pi_lookup \u003d pickle.load(filehandle)\nwith open(result_folder+\"\\\\thetaResult.data\", \"rb\") as filehandle:\n    theta_lookup \u003d pickle.load(filehandle)"
    },
    {
      "cell_type": "code",
      "execution_count": 8,
      "metadata": {
        "pycharm": {
          "is_executing": false
        }
      },
      "outputs": [],
      "source": [
        "pi \u003d pi_lookup[360]\n",
        "theta \u003d theta_lookup[360]\n",
        "y_API \u003d theta + x*pi"
      ]
    },
    {
      "cell_type": "code",
      "execution_count": 9,
      "metadata": {
        "pycharm": {
          "is_executing": false
        }
      },
      "outputs": [
        {
          "name": "stdout",
          "text": [
            "xs:  [ 0  1  2  3  4  5  6  7  8  9 10 11 12 13 14 15 16 17 18 19 20 21 22 23\n 24 25]\nthetas:  [1782.22359231]\npis:  [462.8681278]\nvalues:  [ 1782.22359231  2245.09172011  2707.95984791  3170.82797571\n  3633.69610351  4096.56423131  4559.43235911  5022.30048691\n  5485.16861471  5948.03674251  6410.90487031  6873.77299811\n  7336.64112591  7799.50925371  8262.37738151  8725.24550931\n  9188.11363711  9650.98176491 10113.84989271 10576.71802051\n 11039.58614831 11502.45427611 11965.32240391 12428.19053171\n 12891.05865951 13353.92678731]\n"
          ],
          "output_type": "stream"
        },
        {
          "data": {
            "text/plain": "\u003cFigure size 432x288 with 1 Axes\u003e",
            "image/png": "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\u003d\u003d\n"
          },
          "metadata": {
            "needs_background": "light"
          },
          "output_type": "display_data"
        }
      ],
      "source": [
        "plt.plot(x, y, label\u003d\"DP\")\n",
        "plt.plot(x, y_API, label\u003d\"API_linear\")\n",
        "\n",
        "plt.legend()\n",
        "\n",
        "print(\"xs: \", x)\n",
        "print(\"thetas: \", theta)\n",
        "print(\"pis: \", pi)\n",
        "print(\"values: \", y_API)"
      ]
    }
  ],
  "metadata": {
    "kernelspec": {
      "display_name": "Python 3",
      "language": "python",
      "name": "python3"
    },
    "language_info": {
      "codemirror_mode": {
        "name": "ipython",
        "version": 3
      },
      "file_extension": ".py",
      "mimetype": "text/x-python",
      "name": "python",
      "nbconvert_exporter": "python",
      "pygments_lexer": "ipython3",
      "version": "3.7.1"
    }
  },
  "nbformat": 4,
  "nbformat_minor": 2
}