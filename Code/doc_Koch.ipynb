{
 "cells": [
  {
   "cell_type": "markdown",
   "metadata": {
    "slideshow": {
     "slide_type": "slide"
    }
   },
   "source": [
    "# Dokumentation für meine Implementation des Papers von Sebastian\n",
    "\n",
    "Hier möchte ich die importierten Funktionalitäten beschreiben, die sich primär aus dem Paper \"Least squares approximate policy iteration for learning bid prices in choice-based revenue management\" von Sebastian Koch ergeben.\n",
    "\n",
    "Das Dokument dient rein der Dokumentation. Die jeweils aktuellste Implementierung findet sich in *func_Koch.py*."
   ]
  },
  {
   "cell_type": "markdown",
   "metadata": {
    "slideshow": {
     "slide_type": "slide"
    }
   },
   "source": [
    "## Vorbemerkungen\n",
    "\n",
    "Es gibt in meinem Modell:\n",
    "* i = 0, ..., m-1 Ressourcen\n",
    "* j = 0, ..., n-1 Produkte\n",
    "* l = 0, ..., L-1 Kundensegmente\n",
    "* t = 0, ..., T-1 Zeiten\n",
    "\n",
    "Ich verwende folgende Daten als **Inputvariablen**:\n",
    "\n",
    "| Name | Datentyp | Beschreibung |\n",
    "| :--- | --- | :--- |\n",
    "| **resources** | np.array | Ressourcen von 0 bis m-1 |\n",
    "| capacities | np.array | Kapazitäten für alle Ressourcen |\n",
    "| **products** | np.array | Produkte von 0 bis n-1 |\n",
    "| revenues | np.array | Revenues für alle Produkte |\n",
    "| A | np.array | Kapazitätsbedarfsmatrix mit m Zeilen und n Spalten: a_{ij} = 1 wenn Ressource i für Produkt j gebraucht wird |\n",
    "| **customer_segments** | np.array | Kundensgemente von 0 bis L-1 |\n",
    "| preference_weights | np.array | Matrix mit L Zeilen: jede Zeile l enthält die Präferenzen von Kundensegment l für alle Produkte |\n",
    "| preference_no_purchase | np.array | Nichtkauf-Präferenzen für alle Kundensegmente |\n",
    "| arrival_probabilities | np.array | Vektor mit Ankunftswahrscheinlichkeiten für alle Kundensegmente |\n",
    "| **times** | np.array | Zeiten von 0 bis T-1 |"
   ]
  },
  {
   "cell_type": "markdown",
   "metadata": {
    "slideshow": {
     "slide_type": "slide"
    }
   },
   "source": [
    "## Beispieldaten\n",
    "\n",
    "Um die Korrektheit der nachstehenden Methoden überprüfen zu können, möchte ich hier den Beispieldatensatz aus der Sektion 4.2. von Koch verwenden (single-leg flight example)."
   ]
  },
  {
   "cell_type": "code",
   "execution_count": 1,
   "metadata": {
    "slideshow": {
     "slide_type": "fragment"
    }
   },
   "outputs": [
    {
     "name": "stdout",
     "output_type": "stream",
     "text": [
      "Check of dimensions: \n",
      "  -------------------\n",
      "Ressourcen: \t True\n",
      "Produkte: \t True\n",
      "Kundensgemente:\t True\n"
     ]
    }
   ],
   "source": [
    "import numpy as np\n",
    "\n",
    "example = \"singleLegFlight\"\n",
    "\n",
    "if example == \"singleLegFlight\":\n",
    "    n = 4\n",
    "    products = np.arange(n)\n",
    "    revenues = np.array([1000, 800, 600, 400])\n",
    "\n",
    "    T = 400\n",
    "    times = np.arange(T)\n",
    "\n",
    "    L = 1\n",
    "    customer_segments = np.arange(L)\n",
    "    arrival_probabilities = np.array([0.5])\n",
    "    preference_weights = np.array([[0.4, 0.8, 1.2, 1.6]])\n",
    "\n",
    "    varNoPurchasePreferences = np.array([1, 2, 3])\n",
    "    preference_no_purchase = np.array([varNoPurchasePreferences[0]])\n",
    "\n",
    "    m = 1\n",
    "    resources = np.arange(m)\n",
    "\n",
    "    varCapacity = np.arange(40, 120, 20)\n",
    "    capacities = np.array([varCapacity[0]])\n",
    "\n",
    "    # capacity demand matrix A (rows: resources, cols: products)\n",
    "    # a_ij = 1 if resource i is used by product j\n",
    "    A = np.array([[1, 1, 1, 1]])\n",
    "\n",
    "# %% Check up\n",
    "print(\"Check of dimensions: \\n  -------------------\")\n",
    "print(\"Ressourcen: \\t\", len(resources) == len(capacities) == A.shape[0])\n",
    "print(\"Produkte: \\t\", len(products) == len(revenues) == preference_weights.shape[1] == A.shape[1])\n",
    "print(\"Kundensgemente:\\t\", len(customer_segments) == len(arrival_probabilities) == preference_weights.shape[0] ==\n",
    "      len(preference_no_purchase))\n",
    "\n",
    "def get_data_for_table1():\n",
    "    return resources, \\\n",
    "           products, revenues, A, \\\n",
    "           customer_segments, preference_weights, arrival_probabilities, \\\n",
    "           times"
   ]
  },
  {
   "cell_type": "markdown",
   "metadata": {
    "slideshow": {
     "slide_type": "slide"
    }
   },
   "source": [
    "## Import der nötigen Bibliotheken"
   ]
  },
  {
   "cell_type": "code",
   "execution_count": 1,
   "metadata": {
    "slideshow": {
     "slide_type": "fragment"
    }
   },
   "outputs": [
    {
     "name": "stdout",
     "output_type": "stream",
     "text": [
      "Check of dimensions: \n",
      "  ------------------------\n",
      "Ressourcen: \t True\n",
      "Produkte: \t\t True\n",
      "Kundensgemente:\t True\n"
     ]
    }
   ],
   "source": [
    "#  PACKAGES\n",
    "# Data\n",
    "import numpy as np\n",
    "import pandas as pd\n",
    "\n",
    "# Calculation and Counting\n",
    "import itertools\n",
    "import math\n",
    "\n",
    "# Memoization\n",
    "import functools\n",
    "\n",
    "from dat_Koch import get_data_for_table1\n",
    "from dat_Koch import get_variations"
   ]
  },
  {
   "cell_type": "code",
   "execution_count": 1,
   "metadata": {
    "slideshow": {
     "slide_type": "fragment"
    }
   },
   "outputs": [
    {
     "name": "stdout",
     "output_type": "stream",
     "text": [
      "Check of dimensions: \n",
      "  ------------------------\n",
      "Ressourcen: \t True\n",
      "Produkte: \t\t True\n",
      "Kundensgemente:\t True\n"
     ]
    }
   ],
   "source": [
    "from func_Koch import *\n",
    "import inspect"
   ]
  },
  {
   "cell_type": "markdown",
   "metadata": {
    "slideshow": {
     "slide_type": "slide"
    }
   },
   "source": [
    "## Hilfsmethoden\n",
    "\n",
    "Zunächst definiere ich einige Hilfsmethoden.\n",
    "\n",
    "* memoize: Dient der späteren Memoisierung von Methoden (was zu beeindruckender Performanzverbesserung führt).\n",
    "* offer_sets(products): Generates all possible offer sets."
   ]
  },
  {
   "cell_type": "code",
   "execution_count": 2,
   "metadata": {
    "slideshow": {
     "slide_type": "subslide"
    }
   },
   "outputs": [
    {
     "name": "stdout",
     "output_type": "stream",
     "text": [
      "def memoize(func):\n",
      "    cache = func.cache = {}\n",
      "\n",
      "    @functools.wraps(func)\n",
      "    def memoizer(*args, **kwargs):\n",
      "        key = str(args) + str(kwargs)\n",
      "        if key not in cache:\n",
      "            cache[key] = func(*args, **kwargs)\n",
      "        return cache[key]\n",
      "\n",
      "    return memoizer\n",
      "\n"
     ]
    }
   ],
   "source": [
    "lines = inspect.getsource(memoize)\n",
    "print(lines)"
   ]
  },
  {
   "cell_type": "code",
   "execution_count": 13,
   "metadata": {
    "slideshow": {
     "slide_type": "subslide"
    }
   },
   "outputs": [],
   "source": [
    "# %% HELPER-FUNCTIONS\n",
    "def memoize(func):\n",
    "    cache = func.cache = {}\n",
    "\n",
    "    @functools.wraps(func)\n",
    "\n",
    "    def memoizer(*args, **kwargs):\n",
    "        key = str(args) + str(kwargs)\n",
    "        if key not in cache:\n",
    "            cache[key] = func(*args, **kwargs)\n",
    "        return cache[key]\n",
    "\n",
    "    return memoizer\n",
    "\n",
    "def offer_sets(products):\n",
    "    \"\"\"\n",
    "    Generates all possible offer sets.\n",
    "\n",
    "    :param products:\n",
    "    :return:\n",
    "    \"\"\"\n",
    "    n = len(products)\n",
    "    offer_sets_all = np.array(list(map(list, itertools.product([0, 1], repeat=n))))\n",
    "    offer_sets_all = offer_sets_all[1:]  # always at least one product to offer\n",
    "    return offer_sets_all"
   ]
  },
  {
   "cell_type": "markdown",
   "metadata": {
    "slideshow": {
     "slide_type": "slide"
    }
   },
   "source": [
    "## Funktionen\n",
    "\n",
    "Hier folgen die eigentlichen Funktionen.\n",
    "* customer_choice_individual(offer_set_tuple, preference_weights, preference_no_purchase): \n",
    "For one customer of one customer segment, determine its purchase probabilities given one offer set.\n",
    "* customer_choice_vector(offer_set_tuple, preference_weights, preference_no_purchase, arrival_probabilities):\n",
    "From perspective of retailer: With which probability can he expect to sell each product (respectively non-purchase)\n",
    "\n",
    "Die folgenden Funktionen sind in einer Art und Weise implementiert, sodass sie bspw. Table 1 nachbauen können und dennoch wenige Parameter in der memoize-Methode abgespeichert werden müssen (also Kapazitäten, Präferenzen für Nicht-Kauf und Zeit t als Parameter).\n",
    "* def delta_value_j(j, capacities, t, preference_no_purchase):\n",
    "For one product j, what is the difference in the value function if we sell one product.\n",
    "* def value_expected(capacities, t, preference_no_purchase):\n",
    "Recursive implementation of the value function, i.e. dynamic program (DP) as described on p. 241."
   ]
  },
  {
   "cell_type": "markdown",
   "metadata": {
    "slideshow": {
     "slide_type": "slide"
    }
   },
   "source": [
    "### customer_choice_individual\n",
    "\n",
    "Gegeben sei ein Offerset: *x* $\\in \\{0,1\\}^n$. \n",
    "\n",
    "Ein Kunde aus *Kundensegment l* mit Präferenz von $u_{lj}$ für *Produkt j* und Nichtkaufpräferenz von $u_{l0}$ erwirbt  Produkt j mit Wkeit\n",
    "\n",
    "$p_{lj}(x) = \\frac{u_{lj}x_j}{u_{l0} + \\sum_{p\\in[n]} u_{lp}x_p}$ .\n",
    "\n",
    "Die Nichtkaufwahrscheinlichkeit beträgt dementsprechend\n",
    "\n",
    "$p_{l0}(x) = 1 - \\sum_{p\\in[n]} p_{lj}(x)$ .\n",
    "\n",
    "### customer_choice_vector\n",
    "\n",
    "Der Retailer legt lediglich das Offerset *x* fest und kann dann die folgende Käufe erwarten keinenicht Wkeiten, da Summe nicht 1 ergeben muss).\n",
    "\n",
    "$p_j(x) = \\sum_{l\\in[L]}\\lambda_l p_{lj}(x)$ .\n",
    "\n",
    "Die Nichtkaufwahrscheinlichkeit beträgt entsprechend\n",
    "\n",
    "$p_0(x) = 1 - \\sum_{p\\in[n]} p_j(x)$ ."
   ]
  },
  {
   "cell_type": "code",
   "execution_count": 4,
   "metadata": {
    "slideshow": {
     "slide_type": "subslide"
    }
   },
   "outputs": [],
   "source": [
    "# %% FUNCTIONS\n",
    "@memoize\n",
    "def customer_choice_individual(offer_set_tuple, preference_weights, preference_no_purchase):\n",
    "    \"\"\"\n",
    "    For one customer of one customer segment, determine its purchase probabilities given one offer set.\n",
    "\n",
    "    Tuple needed for memoization.\n",
    "\n",
    "    :param offer_set_tuple: tuple with offered products indicated by 1=product offered\n",
    "    :param preference_weights: preference weights of one customer\n",
    "    :param preference_no_purchase: no purchase preference of one customer\n",
    "    :return: array of purchase probabilities ending with no purchase\n",
    "    \"\"\"\n",
    "\n",
    "    if offer_set_tuple is None:\n",
    "        ret = np.zeros_like(preference_weights)\n",
    "        return np.insert(ret, -1, 1)\n",
    "\n",
    "    offer_set = np.asarray(offer_set_tuple)\n",
    "    ret = preference_weights * offer_set\n",
    "    ret = np.array(ret / (preference_no_purchase + sum(ret)))\n",
    "    ret = np.insert(ret, -1, 1 - sum(ret))\n",
    "    return ret"
   ]
  },
  {
   "cell_type": "code",
   "execution_count": 15,
   "metadata": {
    "slideshow": {
     "slide_type": "subslide"
    }
   },
   "outputs": [],
   "source": [
    "@memoize\n",
    "def customer_choice_vector(offer_set_tuple, preference_weights, preference_no_purchase, arrival_probabilities):\n",
    "    \"\"\"\n",
    "    From perspective of retailer: With which probability can he expect to sell each product (respectively non-purchase)\n",
    "\n",
    "    :param offer_set_tuple: tuple with offered products indicated by 1=product offered\n",
    "    :param preference_weights: preference weights of all customers\n",
    "    :param preference_no_purchase: preference for no purchase for all customers\n",
    "    :param arrival_probabilities: vector with arrival probabilities of all customer segments\n",
    "    :return: array with probabilities of purchase ending with no purchase\n",
    "    TODO probabilities don't have to sum up to one?\n",
    "    \"\"\"\n",
    "    probs = np.zeros(len(offer_set_tuple) + 1)\n",
    "    for l in np.arange(len(preference_weights)):\n",
    "        probs += arrival_probabilities[l] * customer_choice_individual(offer_set_tuple, preference_weights[l, :],\n",
    "                                                                       preference_no_purchase[l])\n",
    "    return probs"
   ]
  },
  {
   "cell_type": "markdown",
   "metadata": {
    "slideshow": {
     "slide_type": "slide"
    }
   },
   "source": [
    "### delta_value_j\n",
    "\n",
    "### value_expected\n",
    "\n"
   ]
  },
  {
   "cell_type": "code",
   "execution_count": 10,
   "metadata": {
    "slideshow": {
     "slide_type": "subslide"
    }
   },
   "outputs": [],
   "source": [
    "def delta_value_j(j, capacities, t, A, preference_no_purchase):\n",
    "    \"\"\"\n",
    "    For one product j, what is the difference in the value function if we sell one product.\n",
    "\n",
    "    :param j:\n",
    "    :param capacities:\n",
    "    :param t:\n",
    "    :param preference_no_purchase:\n",
    "    :return:\n",
    "    \"\"\"\n",
    "    return value_expected(capacities, t, preference_no_purchase)[0] - \\\n",
    "        value_expected(capacities - A[:, j], t, preference_no_purchase)[0]"
   ]
  },
  {
   "cell_type": "code",
   "execution_count": 11,
   "metadata": {
    "slideshow": {
     "slide_type": "subslide"
    }
   },
   "outputs": [],
   "source": [
    "@memoize\n",
    "def value_expected(capacities, t, preference_no_purchase):\n",
    "    \"\"\"\n",
    "    Recursive implementation of the value function, i.e. dynamic program (DP) as described on p. 241.\n",
    "\n",
    "    :param capacities:\n",
    "    :param t: time to go (last chance for revenue is t=0)\n",
    "    :param preference_no_purchase:\n",
    "    :return: value to be expected and optimal policy\n",
    "    \"\"\"\n",
    "    resources, \\\n",
    "        products, revenues, A, \\\n",
    "        customer_segments, preference_weights, arrival_probabilities, \\\n",
    "        times = get_data_for_table1()\n",
    "    T = len(times)\n",
    "\n",
    "    offer_sets_to_test = offer_sets(products)\n",
    "\n",
    "    max_index = 0\n",
    "    max_val = 0\n",
    "\n",
    "    if all(capacities == 0):\n",
    "        return 0, None\n",
    "    if any(capacities < 0):\n",
    "        return -math.inf, None\n",
    "    if t == T:\n",
    "        return 0, None\n",
    "\n",
    "    for offer_set_index in range(len(offer_sets_to_test)):\n",
    "        offer_set = offer_sets_to_test[offer_set_index, :]\n",
    "        probs = customer_choice_vector(tuple(offer_set), preference_weights, preference_no_purchase,\n",
    "                                       arrival_probabilities)\n",
    "\n",
    "        val = float(value_expected(capacities, t + 1, preference_no_purchase)[0])  # ohne \"float\" würde ein numpy array\n",
    "        #  zurückgegeben, und das später (max_val = val) direkt auf val verknüpft (call by reference)\n",
    "        for j in products:  # nett, da Nichtkaufalternative danach kommt und nicht betrachtet wird\n",
    "            p = float(probs[j])\n",
    "            if p > 0.0:\n",
    "                value_delta_j = delta_value_j(j, capacities, t + 1, A, preference_no_purchase)\n",
    "                val += p * (revenues[j] - value_delta_j)\n",
    "\n",
    "        if val > max_val:\n",
    "            max_index = offer_set_index\n",
    "            max_val = val\n",
    "    return max_val, tuple(offer_sets_to_test[max_index, :])"
   ]
  },
  {
   "cell_type": "markdown",
   "metadata": {
    "slideshow": {
     "slide_type": "slide"
    }
   },
   "source": [
    "## Ein paar Ergebnisse\n",
    "\n",
    "Die Ergebnisse sehen ganz brauchbar aus. Wenn sie auch nicht exakt mit denen der Table 1 übereinstimmen. Warum nicht? Beachte die Code-Feinheiten mit \"float\" in value_expected().\n",
    "\n",
    "<span style=\"color:red\"> Ergebnisse stimmen teilweise mit Table 1 in Sebastians Paper überein, teilweise nicht. Siehe auch Anmerkung im Paper</span>"
   ]
  },
  {
   "cell_type": "code",
   "execution_count": 3,
   "metadata": {
    "slideshow": {
     "slide_type": "subslide"
    }
   },
   "outputs": [
    {
     "data": {
      "text/html": [
       "<div>\n",
       "<style scoped>\n",
       "    .dataframe tbody tr th:only-of-type {\n",
       "        vertical-align: middle;\n",
       "    }\n",
       "\n",
       "    .dataframe tbody tr th {\n",
       "        vertical-align: top;\n",
       "    }\n",
       "\n",
       "    .dataframe thead th {\n",
       "        text-align: right;\n",
       "    }\n",
       "</style>\n",
       "<table border=\"1\" class=\"dataframe\">\n",
       "  <thead>\n",
       "    <tr style=\"text-align: right;\">\n",
       "      <th></th>\n",
       "      <th>c</th>\n",
       "      <th>u</th>\n",
       "      <th>DP</th>\n",
       "    </tr>\n",
       "  </thead>\n",
       "  <tbody>\n",
       "    <tr>\n",
       "      <th>0</th>\n",
       "      <td>[40]</td>\n",
       "      <td>[1]</td>\n",
       "      <td>(39995.18483814307, (1, 0, 0, 0))</td>\n",
       "    </tr>\n",
       "    <tr>\n",
       "      <th>1</th>\n",
       "      <td>[40]</td>\n",
       "      <td>[2]</td>\n",
       "      <td>(38013.67099976408, (1, 0, 0, 0))</td>\n",
       "    </tr>\n",
       "    <tr>\n",
       "      <th>2</th>\n",
       "      <td>[40]</td>\n",
       "      <td>[3]</td>\n",
       "      <td>(35952.031147207534, (1, 1, 0, 0))</td>\n",
       "    </tr>\n",
       "    <tr>\n",
       "      <th>3</th>\n",
       "      <td>[60]</td>\n",
       "      <td>[1]</td>\n",
       "      <td>(58454.753775844474, (1, 0, 0, 0))</td>\n",
       "    </tr>\n",
       "    <tr>\n",
       "      <th>4</th>\n",
       "      <td>[60]</td>\n",
       "      <td>[2]</td>\n",
       "      <td>(53227.23269230522, (1, 1, 0, 0))</td>\n",
       "    </tr>\n",
       "    <tr>\n",
       "      <th>5</th>\n",
       "      <td>[60]</td>\n",
       "      <td>[3]</td>\n",
       "      <td>(49977.054186201975, (1, 1, 0, 0))</td>\n",
       "    </tr>\n",
       "    <tr>\n",
       "      <th>6</th>\n",
       "      <td>[80]</td>\n",
       "      <td>[1]</td>\n",
       "      <td>(73126.21245972312, (1, 1, 0, 0))</td>\n",
       "    </tr>\n",
       "    <tr>\n",
       "      <th>7</th>\n",
       "      <td>[80]</td>\n",
       "      <td>[2]</td>\n",
       "      <td>(66170.9528230564, (1, 1, 0, 0))</td>\n",
       "    </tr>\n",
       "    <tr>\n",
       "      <th>8</th>\n",
       "      <td>[80]</td>\n",
       "      <td>[3]</td>\n",
       "      <td>(59969.77918696259, (1, 1, 1, 0))</td>\n",
       "    </tr>\n",
       "    <tr>\n",
       "      <th>9</th>\n",
       "      <td>[100]</td>\n",
       "      <td>[1]</td>\n",
       "      <td>(87233.33717875695, (1, 1, 0, 0))</td>\n",
       "    </tr>\n",
       "    <tr>\n",
       "      <th>10</th>\n",
       "      <td>[100]</td>\n",
       "      <td>[2]</td>\n",
       "      <td>(75036.07128093462, (1, 1, 1, 0))</td>\n",
       "    </tr>\n",
       "    <tr>\n",
       "      <th>11</th>\n",
       "      <td>[100]</td>\n",
       "      <td>[3]</td>\n",
       "      <td>(65956.37530498128, (1, 1, 1, 0))</td>\n",
       "    </tr>\n",
       "    <tr>\n",
       "      <th>12</th>\n",
       "      <td>[120]</td>\n",
       "      <td>[1]</td>\n",
       "      <td>(96552.29084713927, (1, 1, 0, 0))</td>\n",
       "    </tr>\n",
       "    <tr>\n",
       "      <th>13</th>\n",
       "      <td>[120]</td>\n",
       "      <td>[2]</td>\n",
       "      <td>(79718.84173932357, (1, 1, 1, 0))</td>\n",
       "    </tr>\n",
       "    <tr>\n",
       "      <th>14</th>\n",
       "      <td>[120]</td>\n",
       "      <td>[3]</td>\n",
       "      <td>(68217.19013730268, (1, 1, 1, 1))</td>\n",
       "    </tr>\n",
       "  </tbody>\n",
       "</table>\n",
       "</div>"
      ],
      "text/plain": [
       "        c    u                                  DP\n",
       "0    [40]  [1]   (39995.18483814307, (1, 0, 0, 0))\n",
       "1    [40]  [2]   (38013.67099976408, (1, 0, 0, 0))\n",
       "2    [40]  [3]  (35952.031147207534, (1, 1, 0, 0))\n",
       "3    [60]  [1]  (58454.753775844474, (1, 0, 0, 0))\n",
       "4    [60]  [2]   (53227.23269230522, (1, 1, 0, 0))\n",
       "5    [60]  [3]  (49977.054186201975, (1, 1, 0, 0))\n",
       "6    [80]  [1]   (73126.21245972312, (1, 1, 0, 0))\n",
       "7    [80]  [2]    (66170.9528230564, (1, 1, 0, 0))\n",
       "8    [80]  [3]   (59969.77918696259, (1, 1, 1, 0))\n",
       "9   [100]  [1]   (87233.33717875695, (1, 1, 0, 0))\n",
       "10  [100]  [2]   (75036.07128093462, (1, 1, 1, 0))\n",
       "11  [100]  [3]   (65956.37530498128, (1, 1, 1, 0))\n",
       "12  [120]  [1]   (96552.29084713927, (1, 1, 0, 0))\n",
       "13  [120]  [2]   (79718.84173932357, (1, 1, 1, 0))\n",
       "14  [120]  [3]   (68217.19013730268, (1, 1, 1, 1))"
      ]
     },
     "execution_count": 3,
     "metadata": {},
     "output_type": "execute_result"
    }
   ],
   "source": [
    "dftable1 = pd.read_pickle(\"table1_DP.pkl\")\n",
    "dftable1"
   ]
  },
  {
   "cell_type": "markdown",
   "metadata": {
    "slideshow": {
     "slide_type": "slide"
    }
   },
   "source": [
    "# Parallel Flight Discussion\n",
    "\n",
    "Aufbauend auf dem Ansatz von Miranda und Bront habe ich deren *choice based deterministic linear program (CDLP)* (p. 775) implementiert und deren *dynamic programming decomposition (DPD)*. Hier beschreiben wir zunächst den Beispieldatensatz parallel flights, bevor wir die Implementation vorstellen und die Ergebnisse für Table 3 darlegen."
   ]
  },
  {
   "cell_type": "markdown",
   "metadata": {
    "slideshow": {
     "slide_type": "slide"
    }
   },
   "source": [
    "## Example Three Parallel Flights (PF)"
   ]
  },
  {
   "cell_type": "code",
   "execution_count": null,
   "metadata": {
    "slideshow": {
     "slide_type": "subslide"
    }
   },
   "outputs": [],
   "source": [
    "n = 6\n",
    "    products = np.arange(n)\n",
    "    revenues = np.array([400, 800, 500, 1000, 300, 600])\n",
    "\n",
    "    T = 300\n",
    "    times = np.arange(T)\n",
    "\n",
    "    L = 4\n",
    "    customer_segments = np.arange(L)\n",
    "    arrival_probabilities = np.array([0.1, 0.15, 0.2, 0.05])\n",
    "    preference_weights = np.array([[0, 5, 0, 10, 0, 1],\n",
    "                                   [5, 0, 1, 0, 10, 0],\n",
    "                                   [10, 8, 6, 4, 3, 1],\n",
    "                                   [8, 10, 4, 6, 1, 3]])\n",
    "\n",
    "    var_no_purchase_preferences = np.array([[1, 5, 5, 1],\n",
    "                                            [1, 10, 5, 1],\n",
    "                                            [5, 20, 10, 5]])\n",
    "    preference_no_purchase = var_no_purchase_preferences[0]\n",
    "\n",
    "    m = 3\n",
    "    resources = np.arange(m)\n",
    "\n",
    "    base_capacity = np.array([30, 50, 40])\n",
    "    delta = np.arange(0.4, 1.21, 0.2)\n",
    "    var_capacities = np.zeros((len(delta), len(base_capacity)))\n",
    "    for i in np.arange(len(delta)):\n",
    "        var_capacities[i] = delta[i]*base_capacity\n",
    "    capacities = var_capacities[0]\n",
    "\n",
    "    # capacity demand matrix A (rows: resources, cols: products)\n",
    "    # a_ij = 1 if resource i is used by product j\n",
    "    A = np.array([[1, 1, 0, 0, 0, 0],\n",
    "                  [0, 0, 1, 1, 0, 0],\n",
    "                  [0, 0, 0, 0, 1, 1]])"
   ]
  },
  {
   "cell_type": "markdown",
   "metadata": {
    "slideshow": {
     "slide_type": "slide"
    }
   },
   "source": [
    "## Funktionen\n",
    "\n",
    "Die folgenden Inhalte sind sehr stark an Bront et al orientiert, wobei ich einige <span style=\"color:red\"> Details farblich markiere. </span>\n",
    "\n",
    "### Hilfsfunktionen\n",
    "Sei S ein Offerset, also $x \\in \\{0,1\\}^n$ mit $x_j=1$ nur falls j im Offerset. \n",
    "\n",
    "$P_{lj}(S)$ sei die Wahrscheinlichkeit, dass ein Kunde aus Segment $l$ Produkt $j$ kauft, wenn Offerset $S$ angeboten wird. Nach dem *multinomial logit model (MNL)* gilt:\n",
    "$$ P_{lj}(S) = \\frac{u_{lj}x_j}{\\sum_{p \\in S} u_{lp} x_p + u_{l0}}~.$$\n",
    "\n",
    "Hieraus folgt, dass <span style=\"color:red\"> gegeben ein Kunde kommt </span> und Offerset S wird angeboten, die Verkaufswkeit für Produkt j sich errechnet als\n",
    "$$ P_j(S) = \\sum_{l \\in [L]} p_l P_{lj}(S) ~,$$\n",
    "woraus sich $P(S) = (P_1(S), ..., P_n(S))^T$ ergibt.\n",
    "\n",
    "<span style=\"color:red\"> So wie wir die arrival probabilities $\\lambda_l$ abspeichern, müssen wir hier $p_l$ durch Normierung berechnen. </span>\n",
    "\n",
    "Dann berechnet sich der erwartete Erlös für ein gegebenes Offerset als\n",
    "$$ R(S) = \\sum_{j \\in S} r_j P_j(S)~.$$\n",
    "\n",
    "Gegeben die Ankunft eines Kunden, dann sei $Q_i(S)$ die bedingte Wkeit, dass eine Einheit der Ressource $i$ genutzt wird, falls $S$ angeboten wird. Sie berechnet sich als\n",
    "$$ Q(S) = A P(S)~.$$"
   ]
  },
  {
   "cell_type": "code",
   "execution_count": null,
   "metadata": {
    "slideshow": {
     "slide_type": "subslide"
    }
   },
   "outputs": [],
   "source": [
    "def purchase_rate_vector(offer_set_tuple, preference_weights, preference_no_purchase, arrival_probabilities):\n",
    "    \"\"\"\n",
    "    P_j(S) for all j, P_0(S) at the end\n",
    "\n",
    "    :param offer_set_tuple: S\n",
    "    :param preference_weights\n",
    "    :param preference_no_purchase\n",
    "    :param arrival_probabilities\n",
    "    :return: P_j(S) for all j, P_0(S) at the end\n",
    "    \"\"\"\n",
    "    probs = np.zeros(len(offer_set_tuple) + 1)\n",
    "    p = arrival_probabilities/(sum(arrival_probabilities))\n",
    "    for l in np.arange(len(preference_weights)):\n",
    "        probs += p[l] * customer_choice_individual(offer_set_tuple, preference_weights[l, :],\n",
    "                                                   preference_no_purchase[l])\n",
    "    return probs"
   ]
  },
  {
   "cell_type": "code",
   "execution_count": null,
   "metadata": {
    "slideshow": {
     "slide_type": "subslide"
    }
   },
   "outputs": [],
   "source": [
    "def revenue(offer_set_tuple, preference_weights, preference_no_purchase, arrival_probabilities):\n",
    "    \"\"\"\n",
    "    R(S)\n",
    "\n",
    "    :param offer_set_tuple: S\n",
    "    :return: R(S)\n",
    "    \"\"\"\n",
    "    return sum(revenues * purchase_rate_vector(offer_set_tuple, preference_weights, preference_no_purchase,\n",
    "                                               arrival_probabilities)[:-1])"
   ]
  },
  {
   "cell_type": "code",
   "execution_count": null,
   "metadata": {
    "slideshow": {
     "slide_type": "subslide"
    }
   },
   "outputs": [],
   "source": [
    "def quantity_i(offer_set_tuple, preference_weights, preference_no_purchase, arrival_probabilities, i):\n",
    "    \"\"\"\n",
    "    Q_i(S)\n",
    "\n",
    "    :param offer_set_tuple: S\n",
    "    :param i: resource i\n",
    "    :return: Q_i(S)\n",
    "    \"\"\"\n",
    "    return sum(A[i, :] * purchase_rate_vector(offer_set_tuple, preference_weights, preference_no_purchase,\n",
    "                                              arrival_probabilities)[:-1])"
   ]
  },
  {
   "cell_type": "markdown",
   "metadata": {
    "slideshow": {
     "slide_type": "slide"
    }
   },
   "source": [
    "### CDLP-base version\n",
    "\n",
    "Die folgende Implementierung nimmt die gesamte Probleminstanz als Parameter und zusätzlich die zu betrachtenden Offersets. Es soll folgendes Optimierungsproblem gelöst werden.\n",
    "\n",
    "\\begin{align}\n",
    "V^{CDLP} = \\max & \\sum_{S\\in N} \\lambda R(S) t(S) \\\\\n",
    "s.t. & \\sum_{S\\in N} \\lambda Q(S) t(S) \\leq c~, \\\\\n",
    "& \\sum_{S\\in N} t(S) \\leq T~,\\\\\n",
    "& t(S) \\geq 0 \\quad \\forall S \\in N~.\n",
    "\\end{align}"
   ]
  }
 ],
 "metadata": {
  "celltoolbar": "Slideshow",
  "kernelspec": {
   "display_name": "Python 3",
   "language": "python",
   "name": "python3"
  },
  "language_info": {
   "codemirror_mode": {
    "name": "ipython",
    "version": 3
   },
   "file_extension": ".py",
   "mimetype": "text/x-python",
   "name": "python",
   "nbconvert_exporter": "python",
   "pygments_lexer": "ipython3",
   "version": "3.7.1"
  }
 },
 "nbformat": 4,
 "nbformat_minor": 2
}
