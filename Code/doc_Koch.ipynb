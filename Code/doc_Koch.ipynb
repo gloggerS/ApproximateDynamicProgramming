{
 "cells": [
  {
   "cell_type": "markdown",
   "metadata": {
    "slideshow": {
     "slide_type": "slide"
    }
   },
   "source": [
    "# Dokumentation für meine Implementation des Papers von Sebastian\n",
    "\n",
    "Hier möchte ich die importierten Funktionalitäten beschreiben, die sich primär aus dem Paper \"Least squares approximate policy iteration for learning bid prices in choice-based revenue management\" von Sebastian Koch ergeben.\n",
    "\n",
    "Das Dokument dient rein der Dokumentation. Die jeweils aktuellste Implementierung findet sich in *func_Koch.py*."
   ]
  },
  {
   "cell_type": "markdown",
   "metadata": {
    "slideshow": {
     "slide_type": "slide"
    }
   },
   "source": [
    "## Vorbemerkungen\n",
    "\n",
    "Es gibt in meinem Modell:\n",
    "* i = 0, ..., m-1 Ressourcen\n",
    "* j = 0, ..., n-1 Produkte\n",
    "* l = 0, ..., L-1 Kundensegmente\n",
    "* t = 0, ..., T-1 Zeiten\n",
    "\n",
    "Ich verwende folgende Daten als **Inputvariablen**:\n",
    "\n",
    "| Name | Datentyp | Beschreibung |\n",
    "| :--- | --- | :--- |\n",
    "| **resources** | np.array | Ressourcen von 0 bis m-1 |\n",
    "| capacities | np.array | Kapazitäten für alle Ressourcen |\n",
    "| **products** | np.array | Produkte von 0 bis n-1 |\n",
    "| revenues | np.array | Revenues für alle Produkte |\n",
    "| A | np.array | Kapazitätsbedarfsmatrix mit m Zeilen und n Spalten: a_{ij} = 1 wenn Ressource i für Produkt j gebraucht wird |\n",
    "| **customer_segments** | np.array | Kundensgemente von 0 bis L-1 |\n",
    "| preference_weights | np.array | Matrix mit L Zeilen: jede Zeile l enthält die Präferenzen von Kundensegment l für alle Produkte |\n",
    "| preference_no_purchase | np.array | Nichtkauf-Präferenzen für alle Kundensegmente |\n",
    "| arrival_probabilities | np.array | Vektor mit Ankunftswahrscheinlichkeiten für alle Kundensegmente |\n",
    "| **times** | np.array | Zeiten von 0 bis T-1 |"
   ]
  },
  {
   "cell_type": "markdown",
   "metadata": {
    "slideshow": {
     "slide_type": "slide"
    }
   },
   "source": [
    "## Beispieldaten\n",
    "\n",
    "Um die Korrektheit der nachstehenden Methoden überprüfen zu können, möchte ich hier den Beispieldatensatz aus der Sektion 4.2. von Koch verwenden (single-leg flight example)."
   ]
  },
  {
   "cell_type": "code",
   "execution_count": 1,
   "metadata": {
    "slideshow": {
     "slide_type": "fragment"
    }
   },
   "outputs": [
    {
     "name": "stdout",
     "output_type": "stream",
     "text": [
      "Check of dimensions: \n",
      "  -------------------\n",
      "Ressourcen: \t True\n",
      "Produkte: \t True\n",
      "Kundensgemente:\t True\n"
     ]
    }
   ],
   "source": [
    "import numpy as np\n",
    "\n",
    "example = \"singleLegFlight\"\n",
    "\n",
    "if example == \"singleLegFlight\":\n",
    "    n = 4\n",
    "    products = np.arange(n)\n",
    "    revenues = np.array([1000, 800, 600, 400])\n",
    "\n",
    "    T = 400\n",
    "    times = np.arange(T)\n",
    "\n",
    "    L = 1\n",
    "    customer_segments = np.arange(L)\n",
    "    arrival_probabilities = np.array([0.5])\n",
    "    preference_weights = np.array([[0.4, 0.8, 1.2, 1.6]])\n",
    "\n",
    "    varNoPurchasePreferences = np.array([1, 2, 3])\n",
    "    preference_no_purchase = np.array([varNoPurchasePreferences[0]])\n",
    "\n",
    "    m = 1\n",
    "    resources = np.arange(m)\n",
    "\n",
    "    varCapacity = np.arange(40, 120, 20)\n",
    "    capacities = np.array([varCapacity[0]])\n",
    "\n",
    "    # capacity demand matrix A (rows: resources, cols: products)\n",
    "    # a_ij = 1 if resource i is used by product j\n",
    "    A = np.array([[1, 1, 1, 1]])\n",
    "\n",
    "# %% Check up\n",
    "print(\"Check of dimensions: \\n  -------------------\")\n",
    "print(\"Ressourcen: \\t\", len(resources) == len(capacities) == A.shape[0])\n",
    "print(\"Produkte: \\t\", len(products) == len(revenues) == preference_weights.shape[1] == A.shape[1])\n",
    "print(\"Kundensgemente:\\t\", len(customer_segments) == len(arrival_probabilities) == preference_weights.shape[0] ==\n",
    "      len(preference_no_purchase))\n",
    "\n",
    "def get_data_for_table1():\n",
    "    return resources, \\\n",
    "           products, revenues, A, \\\n",
    "           customer_segments, preference_weights, arrival_probabilities, \\\n",
    "           times"
   ]
  },
  {
   "cell_type": "markdown",
   "metadata": {
    "slideshow": {
     "slide_type": "slide"
    }
   },
   "source": [
    "## Import der nötigen Bibliotheken"
   ]
  },
  {
   "cell_type": "code",
   "execution_count": 2,
   "metadata": {
    "slideshow": {
     "slide_type": "fragment"
    }
   },
   "outputs": [],
   "source": [
    "# Data\n",
    "import numpy as np\n",
    "import pandas as pd\n",
    "\n",
    "# Calculation and Counting\n",
    "import itertools\n",
    "import math\n",
    "\n",
    "# Distributions\n",
    "from scipy.stats import bernoulli\n",
    "\n",
    "# Memoization\n",
    "import functools"
   ]
  },
  {
   "cell_type": "markdown",
   "metadata": {
    "slideshow": {
     "slide_type": "slide"
    }
   },
   "source": [
    "## Hilfsmethoden\n",
    "\n",
    "Zunächst definiere ich einige Hilfsmethoden.\n",
    "\n",
    "* memoize: Dient der späteren Memoisierung von Methoden (was zu beeindruckender Performanzverbesserung führt).\n",
    "* offer_sets(products): Generates all possible offer sets."
   ]
  },
  {
   "cell_type": "code",
   "execution_count": 13,
   "metadata": {
    "slideshow": {
     "slide_type": "subslide"
    }
   },
   "outputs": [],
   "source": [
    "# %% HELPER-FUNCTIONS\n",
    "def memoize(func):\n",
    "    cache = func.cache = {}\n",
    "\n",
    "    @functools.wraps(func)\n",
    "\n",
    "    def memoizer(*args, **kwargs):\n",
    "        key = str(args) + str(kwargs)\n",
    "        if key not in cache:\n",
    "            cache[key] = func(*args, **kwargs)\n",
    "        return cache[key]\n",
    "\n",
    "    return memoizer\n",
    "\n",
    "def offer_sets(products):\n",
    "    \"\"\"\n",
    "    Generates all possible offer sets.\n",
    "\n",
    "    :param products:\n",
    "    :return:\n",
    "    \"\"\"\n",
    "    n = len(products)\n",
    "    offer_sets_all = np.array(list(map(list, itertools.product([0, 1], repeat=n))))\n",
    "    offer_sets_all = offer_sets_all[1:]  # always at least one product to offer\n",
    "    return offer_sets_all"
   ]
  },
  {
   "cell_type": "markdown",
   "metadata": {
    "slideshow": {
     "slide_type": "slide"
    }
   },
   "source": [
    "## Funktionen\n",
    "\n",
    "Hier folgen die eigentlichen Funktionen.\n",
    "* customer_choice_individual(offer_set_tuple, preference_weights, preference_no_purchase): \n",
    "For one customer of one customer segment, determine its purchase probabilities given one offer set.\n",
    "* customer_choice_vector(offer_set_tuple, preference_weights, preference_no_purchase, arrival_probabilities):\n",
    "From perspective of retailer: With which probability can he expect to sell each product (respectively non-purchase)\n",
    "\n",
    "Die folgenden Funktionen sind in einer Art und Weise implementiert, sodass sie bspw. Table 1 nachbauen können und dennoch wenige Parameter in der memoize-Methode abgespeichert werden müssen (also Kapazitäten, Präferenzen für Nicht-Kauf und Zeit t als Parameter).\n",
    "* def delta_value_j(j, capacities, t, preference_no_purchase):\n",
    "For one product j, what is the difference in the value function if we sell one product.\n",
    "* def value_expected(capacities, t, preference_no_purchase):\n",
    "Recursive implementation of the value function, i.e. dynamic program (DP) as described on p. 241."
   ]
  },
  {
   "cell_type": "markdown",
   "metadata": {
    "slideshow": {
     "slide_type": "slide"
    }
   },
   "source": [
    "### customer_choice_individual\n",
    "\n",
    "Gegeben sei ein Offerset: *x* $\\in {0,1}^n$. \n",
    "\n",
    "Ein Kunde aus *Kundensegment l* mit Präferenz von $u_{lj}$ für *Produkt j* und Nichtkaufpräferenz von $u_{l0}$ erwirbt ein Produkt mit Wkeit\n",
    "\n",
    "$p_{lj}(x) = \\frac{u_{lj}x_j}{u_{l0} + \\sum_{p\\in[n]} u_{lp}x_p}$ .\n",
    "\n",
    "Die Nichtkaufwahrscheinlichkeit beträgt dementsprechend\n",
    "\n",
    "$p_{l0}(x) = 1 - \\sum_{p\\in[n]} p_{lj}(x)$ .\n",
    "\n",
    "### customer_choice_vector\n",
    "\n",
    "Der Retailer legt lediglich das Offerset *x* fest und kann dann die folgende Kaufwahrscheinlichkeiten erwarten.\n",
    "\n",
    "$p_j(x) = \\sum_{l\\in[L]}\\lambda_l p_{lj}(x)$ .\n",
    "\n",
    "Die Nichtkaufwahrscheinlichkeit beträgt entsprechend\n",
    "\n",
    "$p_0(x) = 1 - \\sum_{p\\in[n]} p_j(x)$ ."
   ]
  },
  {
   "cell_type": "code",
   "execution_count": 4,
   "metadata": {
    "slideshow": {
     "slide_type": "subslide"
    }
   },
   "outputs": [],
   "source": [
    "# %% FUNCTIONS\n",
    "@memoize\n",
    "def customer_choice_individual(offer_set_tuple, preference_weights, preference_no_purchase):\n",
    "    \"\"\"\n",
    "    For one customer of one customer segment, determine its purchase probabilities given one offer set.\n",
    "\n",
    "    Tuple needed for memoization.\n",
    "\n",
    "    :param offer_set_tuple: tuple with offered products indicated by 1=product offered\n",
    "    :param preference_weights: preference weights of one customer\n",
    "    :param preference_no_purchase: no purchase preference of one customer\n",
    "    :return: array of purchase probabilities ending with no purchase\n",
    "    \"\"\"\n",
    "\n",
    "    if offer_set_tuple is None:\n",
    "        ret = np.zeros_like(preference_weights)\n",
    "        return np.insert(ret, -1, 1)\n",
    "\n",
    "    offer_set = np.asarray(offer_set_tuple)\n",
    "    ret = preference_weights * offer_set\n",
    "    ret = np.array(ret / (preference_no_purchase + sum(ret)))\n",
    "    ret = np.insert(ret, -1, 1 - sum(ret))\n",
    "    return ret"
   ]
  },
  {
   "cell_type": "code",
   "execution_count": 15,
   "metadata": {
    "slideshow": {
     "slide_type": "subslide"
    }
   },
   "outputs": [],
   "source": [
    "@memoize\n",
    "def customer_choice_vector(offer_set_tuple, preference_weights, preference_no_purchase, arrival_probabilities):\n",
    "    \"\"\"\n",
    "    From perspective of retailer: With which probability can he expect to sell each product (respectively non-purchase)\n",
    "\n",
    "    :param offer_set_tuple: tuple with offered products indicated by 1=product offered\n",
    "    :param preference_weights: preference weights of all customers\n",
    "    :param preference_no_purchase: preference for no purchase for all customers\n",
    "    :param arrival_probabilities: vector with arrival probabilities of all customer segments\n",
    "    :return: array with probabilities of purchase ending with no purchase\n",
    "    TODO probabilities don't have to sum up to one?\n",
    "    \"\"\"\n",
    "    probs = np.zeros(len(offer_set_tuple) + 1)\n",
    "    for l in np.arange(len(preference_weights)):\n",
    "        probs += arrival_probabilities[l] * customer_choice_individual(offer_set_tuple, preference_weights[l, :],\n",
    "                                                                       preference_no_purchase[l])\n",
    "    return probs"
   ]
  },
  {
   "cell_type": "markdown",
   "metadata": {},
   "source": [
    "### delta_value_j\n",
    "\n",
    "### value_expected\n",
    "\n"
   ]
  },
  {
   "cell_type": "code",
   "execution_count": 10,
   "metadata": {
    "slideshow": {
     "slide_type": "subslide"
    }
   },
   "outputs": [],
   "source": [
    "def delta_value_j(j, capacities, t, A, preference_no_purchase):\n",
    "    \"\"\"\n",
    "    For one product j, what is the difference in the value function if we sell one product.\n",
    "\n",
    "    :param j:\n",
    "    :param capacities:\n",
    "    :param t:\n",
    "    :param preference_no_purchase:\n",
    "    :return:\n",
    "    \"\"\"\n",
    "    return value_expected(capacities, t, preference_no_purchase)[0] - \\\n",
    "        value_expected(capacities - A[:, j], t, preference_no_purchase)[0]"
   ]
  },
  {
   "cell_type": "code",
   "execution_count": 11,
   "metadata": {
    "slideshow": {
     "slide_type": "subslide"
    }
   },
   "outputs": [],
   "source": [
    "@memoize\n",
    "def value_expected(capacities, t, preference_no_purchase):\n",
    "    \"\"\"\n",
    "    Recursive implementation of the value function, i.e. dynamic program (DP) as described on p. 241.\n",
    "\n",
    "    :param capacities:\n",
    "    :param t: time to go (last chance for revenue is t=0)\n",
    "    :param preference_no_purchase:\n",
    "    :return: value to be expected and optimal policy\n",
    "    \"\"\"\n",
    "    resources, \\\n",
    "        products, revenues, A, \\\n",
    "        customer_segments, preference_weights, arrival_probabilities, \\\n",
    "        times = get_data_for_table1()\n",
    "    T = len(times)\n",
    "\n",
    "    offer_sets_to_test = offer_sets(products)\n",
    "\n",
    "    max_index = 0\n",
    "    max_val = 0\n",
    "\n",
    "    if all(capacities == 0):\n",
    "        return 0, None\n",
    "    if any(capacities < 0):\n",
    "        return -math.inf, None\n",
    "    if t == T:\n",
    "        return 0, None\n",
    "\n",
    "    for offer_set_index in range(len(offer_sets_to_test)):\n",
    "        offer_set = offer_sets_to_test[offer_set_index, :]\n",
    "        probs = customer_choice_vector(tuple(offer_set), preference_weights, preference_no_purchase,\n",
    "                                       arrival_probabilities)\n",
    "\n",
    "        val = float(value_expected(capacities, t + 1, preference_no_purchase)[0])  # ohne \"float\" würde ein numpy array\n",
    "        #  zurückgegeben, und das später (max_val = val) direkt auf val verknüpft (call by reference)\n",
    "        for j in products:  # nett, da Nichtkaufalternative danach kommt und nicht betrachtet wird\n",
    "            p = float(probs[j])\n",
    "            if p > 0.0:\n",
    "                value_delta_j = delta_value_j(j, capacities, t + 1, A, preference_no_purchase)\n",
    "                val += p * (revenues[j] - value_delta_j)\n",
    "\n",
    "        if val > max_val:\n",
    "            max_index = offer_set_index\n",
    "            max_val = val\n",
    "    return max_val, tuple(offer_sets_to_test[max_index, :])"
   ]
  },
  {
   "cell_type": "markdown",
   "metadata": {
    "slideshow": {
     "slide_type": "slide"
    }
   },
   "source": [
    "## Ein paar Ergebnisse\n",
    "\n",
    "Die Ergebnisse sehen ganz brauchbar aus. Wenn sie auch nicht exakt mit denen der Table 1 übereinstimmen. Warum nicht? Beachte die Code-Feinheiten mit \"float\" in value_expected().\n"
   ]
  },
  {
   "cell_type": "code",
   "execution_count": 14,
   "metadata": {
    "slideshow": {
     "slide_type": "skip"
    }
   },
   "outputs": [
    {
     "data": {
      "text/plain": [
       "(26181.818181818195, (1, 1, 0, 0))"
      ]
     },
     "execution_count": 14,
     "metadata": {},
     "output_type": "execute_result"
    }
   ],
   "source": [
    "value_expected(capacities=np.array([40]), t=0, preference_no_purchase=np.array([1]))"
   ]
  },
  {
   "cell_type": "code",
   "execution_count": 8,
   "metadata": {
    "slideshow": {
     "slide_type": "subslide"
    }
   },
   "outputs": [
    {
     "ename": "TypeError",
     "evalue": "unhashable type: 'slice'",
     "output_type": "error",
     "traceback": [
      "\u001b[1;31m---------------------------------------------------------------------------\u001b[0m",
      "\u001b[1;31mTypeError\u001b[0m                                 Traceback (most recent call last)",
      "\u001b[1;32m<ipython-input-8-facb85cf55dc>\u001b[0m in \u001b[0;36m<module>\u001b[1;34m\u001b[0m\n\u001b[1;32m----> 1\u001b[1;33m \u001b[0mprint\u001b[0m\u001b[1;33m(\u001b[0m\u001b[1;34m\"c=40, u0=1: \"\u001b[0m\u001b[1;33m,\u001b[0m \u001b[0mvalue_expected\u001b[0m\u001b[1;33m(\u001b[0m\u001b[0mcapacities\u001b[0m\u001b[1;33m=\u001b[0m\u001b[0mnp\u001b[0m\u001b[1;33m.\u001b[0m\u001b[0marray\u001b[0m\u001b[1;33m(\u001b[0m\u001b[1;33m[\u001b[0m\u001b[1;36m40\u001b[0m\u001b[1;33m]\u001b[0m\u001b[1;33m)\u001b[0m\u001b[1;33m,\u001b[0m \u001b[0mt\u001b[0m\u001b[1;33m=\u001b[0m\u001b[1;36m0\u001b[0m\u001b[1;33m,\u001b[0m \u001b[0mpreference_no_purchase\u001b[0m\u001b[1;33m=\u001b[0m\u001b[0mnp\u001b[0m\u001b[1;33m.\u001b[0m\u001b[0marray\u001b[0m\u001b[1;33m(\u001b[0m\u001b[1;33m[\u001b[0m\u001b[1;36m1\u001b[0m\u001b[1;33m]\u001b[0m\u001b[1;33m)\u001b[0m\u001b[1;33m)\u001b[0m\u001b[1;33m)\u001b[0m\u001b[1;33m\u001b[0m\u001b[1;33m\u001b[0m\u001b[0m\n\u001b[0m\u001b[0;32m      2\u001b[0m \u001b[0mprint\u001b[0m\u001b[1;33m(\u001b[0m\u001b[1;34m\"c=40, u0=2: \"\u001b[0m\u001b[1;33m,\u001b[0m \u001b[0mvalue_expected\u001b[0m\u001b[1;33m(\u001b[0m\u001b[0mcapacities\u001b[0m\u001b[1;33m=\u001b[0m\u001b[0mnp\u001b[0m\u001b[1;33m.\u001b[0m\u001b[0marray\u001b[0m\u001b[1;33m(\u001b[0m\u001b[1;33m[\u001b[0m\u001b[1;36m40\u001b[0m\u001b[1;33m]\u001b[0m\u001b[1;33m)\u001b[0m\u001b[1;33m,\u001b[0m \u001b[0mt\u001b[0m\u001b[1;33m=\u001b[0m\u001b[1;36m0\u001b[0m\u001b[1;33m,\u001b[0m \u001b[0mpreference_no_purchase\u001b[0m\u001b[1;33m=\u001b[0m\u001b[0mnp\u001b[0m\u001b[1;33m.\u001b[0m\u001b[0marray\u001b[0m\u001b[1;33m(\u001b[0m\u001b[1;33m[\u001b[0m\u001b[1;36m2\u001b[0m\u001b[1;33m]\u001b[0m\u001b[1;33m)\u001b[0m\u001b[1;33m)\u001b[0m\u001b[1;33m)\u001b[0m\u001b[1;33m\u001b[0m\u001b[1;33m\u001b[0m\u001b[0m\n\u001b[0;32m      3\u001b[0m \u001b[0mprint\u001b[0m\u001b[1;33m(\u001b[0m\u001b[1;34m\"c=40, u0=3: \"\u001b[0m\u001b[1;33m,\u001b[0m \u001b[0mvalue_expected\u001b[0m\u001b[1;33m(\u001b[0m\u001b[0mcapacities\u001b[0m\u001b[1;33m=\u001b[0m\u001b[0mnp\u001b[0m\u001b[1;33m.\u001b[0m\u001b[0marray\u001b[0m\u001b[1;33m(\u001b[0m\u001b[1;33m[\u001b[0m\u001b[1;36m40\u001b[0m\u001b[1;33m]\u001b[0m\u001b[1;33m)\u001b[0m\u001b[1;33m,\u001b[0m \u001b[0mt\u001b[0m\u001b[1;33m=\u001b[0m\u001b[1;36m0\u001b[0m\u001b[1;33m,\u001b[0m \u001b[0mpreference_no_purchase\u001b[0m\u001b[1;33m=\u001b[0m\u001b[0mnp\u001b[0m\u001b[1;33m.\u001b[0m\u001b[0marray\u001b[0m\u001b[1;33m(\u001b[0m\u001b[1;33m[\u001b[0m\u001b[1;36m3\u001b[0m\u001b[1;33m]\u001b[0m\u001b[1;33m)\u001b[0m\u001b[1;33m)\u001b[0m\u001b[1;33m)\u001b[0m\u001b[1;33m\u001b[0m\u001b[1;33m\u001b[0m\u001b[0m\n\u001b[0;32m      4\u001b[0m \u001b[0mprint\u001b[0m\u001b[1;33m(\u001b[0m\u001b[1;34m\"---\"\u001b[0m\u001b[1;33m)\u001b[0m\u001b[1;33m\u001b[0m\u001b[1;33m\u001b[0m\u001b[0m\n\u001b[0;32m      5\u001b[0m \u001b[0mprint\u001b[0m\u001b[1;33m(\u001b[0m\u001b[1;34m\"c=60, u0=1: \"\u001b[0m\u001b[1;33m,\u001b[0m \u001b[0mvalue_expected\u001b[0m\u001b[1;33m(\u001b[0m\u001b[0mcapacities\u001b[0m\u001b[1;33m=\u001b[0m\u001b[0mnp\u001b[0m\u001b[1;33m.\u001b[0m\u001b[0marray\u001b[0m\u001b[1;33m(\u001b[0m\u001b[1;33m[\u001b[0m\u001b[1;36m60\u001b[0m\u001b[1;33m]\u001b[0m\u001b[1;33m)\u001b[0m\u001b[1;33m,\u001b[0m \u001b[0mt\u001b[0m\u001b[1;33m=\u001b[0m\u001b[1;36m0\u001b[0m\u001b[1;33m,\u001b[0m \u001b[0mpreference_no_purchase\u001b[0m\u001b[1;33m=\u001b[0m\u001b[0mnp\u001b[0m\u001b[1;33m.\u001b[0m\u001b[0marray\u001b[0m\u001b[1;33m(\u001b[0m\u001b[1;33m[\u001b[0m\u001b[1;36m1\u001b[0m\u001b[1;33m]\u001b[0m\u001b[1;33m)\u001b[0m\u001b[1;33m)\u001b[0m\u001b[1;33m)\u001b[0m\u001b[1;33m\u001b[0m\u001b[1;33m\u001b[0m\u001b[0m\n",
      "\u001b[1;32m<ipython-input-3-779e44a8fba8>\u001b[0m in \u001b[0;36mmemoizer\u001b[1;34m(*args, **kwargs)\u001b[0m\n\u001b[0;32m      8\u001b[0m         \u001b[0mkey\u001b[0m \u001b[1;33m=\u001b[0m \u001b[0mstr\u001b[0m\u001b[1;33m(\u001b[0m\u001b[0margs\u001b[0m\u001b[1;33m)\u001b[0m \u001b[1;33m+\u001b[0m \u001b[0mstr\u001b[0m\u001b[1;33m(\u001b[0m\u001b[0mkwargs\u001b[0m\u001b[1;33m)\u001b[0m\u001b[1;33m\u001b[0m\u001b[1;33m\u001b[0m\u001b[0m\n\u001b[0;32m      9\u001b[0m         \u001b[1;32mif\u001b[0m \u001b[0mkey\u001b[0m \u001b[1;32mnot\u001b[0m \u001b[1;32min\u001b[0m \u001b[0mcache\u001b[0m\u001b[1;33m:\u001b[0m\u001b[1;33m\u001b[0m\u001b[1;33m\u001b[0m\u001b[0m\n\u001b[1;32m---> 10\u001b[1;33m             \u001b[0mcache\u001b[0m\u001b[1;33m[\u001b[0m\u001b[0mkey\u001b[0m\u001b[1;33m]\u001b[0m \u001b[1;33m=\u001b[0m \u001b[0mfunc\u001b[0m\u001b[1;33m(\u001b[0m\u001b[1;33m*\u001b[0m\u001b[0margs\u001b[0m\u001b[1;33m,\u001b[0m \u001b[1;33m**\u001b[0m\u001b[0mkwargs\u001b[0m\u001b[1;33m)\u001b[0m\u001b[1;33m\u001b[0m\u001b[1;33m\u001b[0m\u001b[0m\n\u001b[0m\u001b[0;32m     11\u001b[0m         \u001b[1;32mreturn\u001b[0m \u001b[0mcache\u001b[0m\u001b[1;33m[\u001b[0m\u001b[0mkey\u001b[0m\u001b[1;33m]\u001b[0m\u001b[1;33m\u001b[0m\u001b[1;33m\u001b[0m\u001b[0m\n\u001b[0;32m     12\u001b[0m \u001b[1;33m\u001b[0m\u001b[0m\n",
      "\u001b[1;32m<ipython-input-7-f12e2a0bb3f7>\u001b[0m in \u001b[0;36mvalue_expected\u001b[1;34m(capacities, t, preference_no_purchase)\u001b[0m\n\u001b[0;32m     28\u001b[0m \u001b[1;33m\u001b[0m\u001b[0m\n\u001b[0;32m     29\u001b[0m     \u001b[1;32mfor\u001b[0m \u001b[0moffer_set_index\u001b[0m \u001b[1;32min\u001b[0m \u001b[0mrange\u001b[0m\u001b[1;33m(\u001b[0m\u001b[0mlen\u001b[0m\u001b[1;33m(\u001b[0m\u001b[0moffer_sets_to_test\u001b[0m\u001b[1;33m)\u001b[0m\u001b[1;33m)\u001b[0m\u001b[1;33m:\u001b[0m\u001b[1;33m\u001b[0m\u001b[1;33m\u001b[0m\u001b[0m\n\u001b[1;32m---> 30\u001b[1;33m         \u001b[0moffer_set\u001b[0m \u001b[1;33m=\u001b[0m \u001b[0moffer_sets_to_test\u001b[0m\u001b[1;33m[\u001b[0m\u001b[0moffer_set_index\u001b[0m\u001b[1;33m,\u001b[0m \u001b[1;33m:\u001b[0m\u001b[1;33m]\u001b[0m\u001b[1;33m\u001b[0m\u001b[1;33m\u001b[0m\u001b[0m\n\u001b[0m\u001b[0;32m     31\u001b[0m         probs = customer_choice_vector(tuple(offer_set), preference_weights, preference_no_purchase,\n\u001b[0;32m     32\u001b[0m                                        arrival_probabilities)\n",
      "\u001b[1;32m~\\Anaconda3\\lib\\site-packages\\pandas\\core\\frame.py\u001b[0m in \u001b[0;36m__getitem__\u001b[1;34m(self, key)\u001b[0m\n\u001b[0;32m   2686\u001b[0m             \u001b[1;32mreturn\u001b[0m \u001b[0mself\u001b[0m\u001b[1;33m.\u001b[0m\u001b[0m_getitem_multilevel\u001b[0m\u001b[1;33m(\u001b[0m\u001b[0mkey\u001b[0m\u001b[1;33m)\u001b[0m\u001b[1;33m\u001b[0m\u001b[1;33m\u001b[0m\u001b[0m\n\u001b[0;32m   2687\u001b[0m         \u001b[1;32melse\u001b[0m\u001b[1;33m:\u001b[0m\u001b[1;33m\u001b[0m\u001b[1;33m\u001b[0m\u001b[0m\n\u001b[1;32m-> 2688\u001b[1;33m             \u001b[1;32mreturn\u001b[0m \u001b[0mself\u001b[0m\u001b[1;33m.\u001b[0m\u001b[0m_getitem_column\u001b[0m\u001b[1;33m(\u001b[0m\u001b[0mkey\u001b[0m\u001b[1;33m)\u001b[0m\u001b[1;33m\u001b[0m\u001b[1;33m\u001b[0m\u001b[0m\n\u001b[0m\u001b[0;32m   2689\u001b[0m \u001b[1;33m\u001b[0m\u001b[0m\n\u001b[0;32m   2690\u001b[0m     \u001b[1;32mdef\u001b[0m \u001b[0m_getitem_column\u001b[0m\u001b[1;33m(\u001b[0m\u001b[0mself\u001b[0m\u001b[1;33m,\u001b[0m \u001b[0mkey\u001b[0m\u001b[1;33m)\u001b[0m\u001b[1;33m:\u001b[0m\u001b[1;33m\u001b[0m\u001b[1;33m\u001b[0m\u001b[0m\n",
      "\u001b[1;32m~\\Anaconda3\\lib\\site-packages\\pandas\\core\\frame.py\u001b[0m in \u001b[0;36m_getitem_column\u001b[1;34m(self, key)\u001b[0m\n\u001b[0;32m   2693\u001b[0m         \u001b[1;31m# get column\u001b[0m\u001b[1;33m\u001b[0m\u001b[1;33m\u001b[0m\u001b[1;33m\u001b[0m\u001b[0m\n\u001b[0;32m   2694\u001b[0m         \u001b[1;32mif\u001b[0m \u001b[0mself\u001b[0m\u001b[1;33m.\u001b[0m\u001b[0mcolumns\u001b[0m\u001b[1;33m.\u001b[0m\u001b[0mis_unique\u001b[0m\u001b[1;33m:\u001b[0m\u001b[1;33m\u001b[0m\u001b[1;33m\u001b[0m\u001b[0m\n\u001b[1;32m-> 2695\u001b[1;33m             \u001b[1;32mreturn\u001b[0m \u001b[0mself\u001b[0m\u001b[1;33m.\u001b[0m\u001b[0m_get_item_cache\u001b[0m\u001b[1;33m(\u001b[0m\u001b[0mkey\u001b[0m\u001b[1;33m)\u001b[0m\u001b[1;33m\u001b[0m\u001b[1;33m\u001b[0m\u001b[0m\n\u001b[0m\u001b[0;32m   2696\u001b[0m \u001b[1;33m\u001b[0m\u001b[0m\n\u001b[0;32m   2697\u001b[0m         \u001b[1;31m# duplicate columns & possible reduce dimensionality\u001b[0m\u001b[1;33m\u001b[0m\u001b[1;33m\u001b[0m\u001b[1;33m\u001b[0m\u001b[0m\n",
      "\u001b[1;32m~\\Anaconda3\\lib\\site-packages\\pandas\\core\\generic.py\u001b[0m in \u001b[0;36m_get_item_cache\u001b[1;34m(self, item)\u001b[0m\n\u001b[0;32m   2485\u001b[0m         \u001b[1;34m\"\"\"Return the cached item, item represents a label indexer.\"\"\"\u001b[0m\u001b[1;33m\u001b[0m\u001b[1;33m\u001b[0m\u001b[0m\n\u001b[0;32m   2486\u001b[0m         \u001b[0mcache\u001b[0m \u001b[1;33m=\u001b[0m \u001b[0mself\u001b[0m\u001b[1;33m.\u001b[0m\u001b[0m_item_cache\u001b[0m\u001b[1;33m\u001b[0m\u001b[1;33m\u001b[0m\u001b[0m\n\u001b[1;32m-> 2487\u001b[1;33m         \u001b[0mres\u001b[0m \u001b[1;33m=\u001b[0m \u001b[0mcache\u001b[0m\u001b[1;33m.\u001b[0m\u001b[0mget\u001b[0m\u001b[1;33m(\u001b[0m\u001b[0mitem\u001b[0m\u001b[1;33m)\u001b[0m\u001b[1;33m\u001b[0m\u001b[1;33m\u001b[0m\u001b[0m\n\u001b[0m\u001b[0;32m   2488\u001b[0m         \u001b[1;32mif\u001b[0m \u001b[0mres\u001b[0m \u001b[1;32mis\u001b[0m \u001b[1;32mNone\u001b[0m\u001b[1;33m:\u001b[0m\u001b[1;33m\u001b[0m\u001b[1;33m\u001b[0m\u001b[0m\n\u001b[0;32m   2489\u001b[0m             \u001b[0mvalues\u001b[0m \u001b[1;33m=\u001b[0m \u001b[0mself\u001b[0m\u001b[1;33m.\u001b[0m\u001b[0m_data\u001b[0m\u001b[1;33m.\u001b[0m\u001b[0mget\u001b[0m\u001b[1;33m(\u001b[0m\u001b[0mitem\u001b[0m\u001b[1;33m)\u001b[0m\u001b[1;33m\u001b[0m\u001b[1;33m\u001b[0m\u001b[0m\n",
      "\u001b[1;31mTypeError\u001b[0m: unhashable type: 'slice'"
     ]
    }
   ],
   "source": [
    "print(\"c=40, u0=1: \", value_expected(capacities=np.array([40]), t=0, preference_no_purchase=np.array([1])))\n",
    "print(\"c=40, u0=2: \", value_expected(capacities=np.array([40]), t=0, preference_no_purchase=np.array([2])))\n",
    "print(\"c=40, u0=3: \", value_expected(capacities=np.array([40]), t=0, preference_no_purchase=np.array([3])))\n",
    "print(\"---\")\n",
    "print(\"c=60, u0=1: \", value_expected(capacities=np.array([60]), t=0, preference_no_purchase=np.array([1])))\n",
    "print(\"c=60, u0=2: \", value_expected(capacities=np.array([60]), t=0, preference_no_purchase=np.array([2])))\n",
    "print(\"c=60, u0=3: \", value_expected(capacities=np.array([60]), t=0, preference_no_purchase=np.array([3])))"
   ]
  }
 ],
 "metadata": {
  "celltoolbar": "Slideshow",
  "kernelspec": {
   "display_name": "Python 3",
   "language": "python",
   "name": "python3"
  },
  "language_info": {
   "codemirror_mode": {
    "name": "ipython",
    "version": 3
   },
   "file_extension": ".py",
   "mimetype": "text/x-python",
   "name": "python",
   "nbconvert_exporter": "python",
   "pygments_lexer": "ipython3",
   "version": "3.7.1"
  }
 },
 "nbformat": 4,
 "nbformat_minor": 2
}
