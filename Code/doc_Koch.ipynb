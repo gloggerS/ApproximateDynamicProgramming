{
 "cells": [
  {
   "cell_type": "code",
   "execution_count": 4,
   "metadata": {
    "slideshow": {
     "slide_type": "skip"
    }
   },
   "outputs": [
    {
     "data": {
      "text/plain": [
       "{'width': 1000, 'height': 600, 'scroll': True}"
      ]
     },
     "execution_count": 4,
     "metadata": {},
     "output_type": "execute_result"
    }
   ],
   "source": [
    "# inspiration für scrollable presentation: \n",
    "# https://medium.com/@Ben_Obe/introduction-to-presenting-with-juypter-with-reveal-js-8e34a07081b2\n",
    "\n",
    "from notebook.services.config import ConfigManager\n",
    "cm = ConfigManager()\n",
    "\n",
    "cm.update('livereveal', {\n",
    "              'width': 1000,\n",
    "              'height': 600,\n",
    "              'scroll': True,\n",
    "})"
   ]
  },
  {
   "cell_type": "code",
   "execution_count": 10,
   "metadata": {
    "slideshow": {
     "slide_type": "skip"
    }
   },
   "outputs": [],
   "source": [
    "def print_content(filename):\n",
    "    f = open(filename, 'r')\n",
    "    file_contents = f.read()\n",
    "    print(file_contents)\n",
    "    f.close()"
   ]
  },
  {
   "cell_type": "markdown",
   "metadata": {
    "slideshow": {
     "slide_type": "slide"
    }
   },
   "source": [
    "# Dokumentation für meine Implementation des Papers von Sebastian\n",
    "\n",
    "Hier möchte ich die importierten Funktionalitäten beschreiben, die sich primär aus dem Paper \"Least squares approximate policy iteration for learning bid prices in choice-based revenue management\" von Sebastian Koch ergeben.\n",
    "\n",
    "Das Dokument dient rein der Dokumentation. Die jeweils aktuellste Implementierung findet sich in *func_Koch.py*."
   ]
  },
  {
   "cell_type": "markdown",
   "metadata": {
    "slideshow": {
     "slide_type": "slide"
    }
   },
   "source": [
    "## Vorbemerkungen\n",
    "\n",
    "Es gibt in meinem Modell:\n",
    "* i = 0, ..., m-1 Ressourcen\n",
    "* j = 0, ..., n-1 Produkte\n",
    "* l = 0, ..., L-1 Kundensegmente\n",
    "* t = 0, ..., T-1 Zeiten\n",
    "\n",
    "Ich verwende folgende Daten als **Inputvariablen**:\n",
    "\n",
    "| Name | Datentyp | Beschreibung |\n",
    "| :--- | --- | :--- |\n",
    "| **resources** | np.array | Ressourcen von 0 bis m-1 |\n",
    "| capacities | np.array | Kapazitäten für alle Ressourcen |\n",
    "| **products** | np.array | Produkte von 0 bis n-1 |\n",
    "| revenues | np.array | Revenues für alle Produkte |\n",
    "| A | np.array | Kapazitätsbedarfsmatrix mit m Zeilen und n Spalten: a_{ij} = 1 wenn Ressource i für Produkt j gebraucht wird |\n",
    "| **customer_segments** | np.array | Kundensgemente von 0 bis L-1 |\n",
    "| preference_weights | np.array | Matrix mit L Zeilen: jede Zeile l enthält die Präferenzen von Kundensegment l für alle Produkte |\n",
    "| preference_no_purchase | np.array | Nichtkauf-Präferenzen für alle Kundensegmente |\n",
    "| arrival_probabilities | np.array | Vektor mit Ankunftswahrscheinlichkeiten für alle Kundensegmente |\n",
    "| **times** | np.array | Zeiten von 0 bis T-1 |"
   ]
  },
  {
   "cell_type": "markdown",
   "metadata": {
    "slideshow": {
     "slide_type": "slide"
    }
   },
   "source": [
    "## Beispieldaten\n",
    "\n",
    "Um die Korrektheit der nachstehenden Methoden überprüfen zu können, möchte ich hier den Beispieldatensatz aus der Sektion 4.2. von Koch verwenden (single-leg flight example)."
   ]
  },
  {
   "cell_type": "code",
   "execution_count": 1,
   "metadata": {
    "slideshow": {
     "slide_type": "fragment"
    }
   },
   "outputs": [
    {
     "name": "stdout",
     "output_type": "stream",
     "text": [
      "Check of dimensions: \n",
      "  -------------------\n",
      "Ressourcen: \t True\n",
      "Produkte: \t True\n",
      "Kundensgemente:\t True\n"
     ]
    }
   ],
   "source": [
    "import numpy as np\n",
    "\n",
    "example = \"singleLegFlight\"\n",
    "\n",
    "if example == \"singleLegFlight\":\n",
    "    n = 4\n",
    "    products = np.arange(n)\n",
    "    revenues = np.array([1000, 800, 600, 400])\n",
    "\n",
    "    T = 400\n",
    "    times = np.arange(T)\n",
    "\n",
    "    L = 1\n",
    "    customer_segments = np.arange(L)\n",
    "    arrival_probabilities = np.array([0.5])\n",
    "    preference_weights = np.array([[0.4, 0.8, 1.2, 1.6]])\n",
    "\n",
    "    varNoPurchasePreferences = np.array([1, 2, 3])\n",
    "    preference_no_purchase = np.array([varNoPurchasePreferences[0]])\n",
    "\n",
    "    m = 1\n",
    "    resources = np.arange(m)\n",
    "\n",
    "    varCapacity = np.arange(40, 120, 20)\n",
    "    capacities = np.array([varCapacity[0]])\n",
    "\n",
    "    # capacity demand matrix A (rows: resources, cols: products)\n",
    "    # a_ij = 1 if resource i is used by product j\n",
    "    A = np.array([[1, 1, 1, 1]])\n",
    "\n",
    "# %% Check up\n",
    "print(\"Check of dimensions: \\n  -------------------\")\n",
    "print(\"Ressourcen: \\t\", len(resources) == len(capacities) == A.shape[0])\n",
    "print(\"Produkte: \\t\", len(products) == len(revenues) == preference_weights.shape[1] == A.shape[1])\n",
    "print(\"Kundensgemente:\\t\", len(customer_segments) == len(arrival_probabilities) == preference_weights.shape[0] ==\n",
    "      len(preference_no_purchase))\n",
    "\n",
    "def get_data_for_table1():\n",
    "    return resources, \\\n",
    "           products, revenues, A, \\\n",
    "           customer_segments, preference_weights, arrival_probabilities, \\\n",
    "           times"
   ]
  },
  {
   "cell_type": "markdown",
   "metadata": {
    "slideshow": {
     "slide_type": "slide"
    }
   },
   "source": [
    "## Import der nötigen Bibliotheken"
   ]
  },
  {
   "cell_type": "code",
   "execution_count": 12,
   "metadata": {
    "slideshow": {
     "slide_type": "fragment"
    }
   },
   "outputs": [],
   "source": [
    "#  PACKAGES\n",
    "# Data\n",
    "import numpy as np\n",
    "import pandas as pd\n",
    "\n",
    "# Calculation and Counting\n",
    "import itertools\n",
    "import math\n",
    "\n",
    "# Memoization\n",
    "import functools\n"
   ]
  },
  {
   "cell_type": "code",
   "execution_count": 1,
   "metadata": {
    "slideshow": {
     "slide_type": "fragment"
    }
   },
   "outputs": [
    {
     "name": "stdout",
     "output_type": "stream",
     "text": [
      "Check of dimensions: \n",
      "  ------------------------\n",
      "Ressourcen: \t True\n",
      "Produkte: \t\t True\n",
      "Kundensgemente:\t True\n"
     ]
    }
   ],
   "source": [
    "from func_Koch import *\n",
    "import inspect"
   ]
  },
  {
   "cell_type": "markdown",
   "metadata": {
    "slideshow": {
     "slide_type": "slide"
    }
   },
   "source": [
    "## Hilfsmethoden\n",
    "\n",
    "Zunächst definiere ich einige Hilfsmethoden.\n",
    "\n",
    "* memoize: Dient der späteren Memoisierung von Methoden (was zu beeindruckender Performanzverbesserung führt).\n",
    "* offer_sets(products): Generates all possible offer sets."
   ]
  },
  {
   "cell_type": "code",
   "execution_count": 2,
   "metadata": {
    "slideshow": {
     "slide_type": "subslide"
    }
   },
   "outputs": [
    {
     "name": "stdout",
     "output_type": "stream",
     "text": [
      "def memoize(func):\n",
      "    cache = func.cache = {}\n",
      "\n",
      "    @functools.wraps(func)\n",
      "    def memoizer(*args, **kwargs):\n",
      "        key = str(args) + str(kwargs)\n",
      "        if key not in cache:\n",
      "            cache[key] = func(*args, **kwargs)\n",
      "        return cache[key]\n",
      "\n",
      "    return memoizer\n",
      "\n"
     ]
    }
   ],
   "source": [
    "lines = inspect.getsource(memoize)\n",
    "print(lines)"
   ]
  },
  {
   "cell_type": "code",
   "execution_count": 13,
   "metadata": {
    "slideshow": {
     "slide_type": "subslide"
    }
   },
   "outputs": [],
   "source": [
    "# %% HELPER-FUNCTIONS\n",
    "def memoize(func):\n",
    "    cache = func.cache = {}\n",
    "\n",
    "    @functools.wraps(func)\n",
    "\n",
    "    def memoizer(*args, **kwargs):\n",
    "        key = str(args) + str(kwargs)\n",
    "        if key not in cache:\n",
    "            cache[key] = func(*args, **kwargs)\n",
    "        return cache[key]\n",
    "\n",
    "    return memoizer\n",
    "\n",
    "def offer_sets(products):\n",
    "    \"\"\"\n",
    "    Generates all possible offer sets.\n",
    "\n",
    "    :param products:\n",
    "    :return:\n",
    "    \"\"\"\n",
    "    n = len(products)\n",
    "    offer_sets_all = np.array(list(map(list, itertools.product([0, 1], repeat=n))))\n",
    "    offer_sets_all = offer_sets_all[1:]  # always at least one product to offer\n",
    "    return offer_sets_all"
   ]
  },
  {
   "cell_type": "markdown",
   "metadata": {
    "slideshow": {
     "slide_type": "slide"
    }
   },
   "source": [
    "## Funktionen\n",
    "\n",
    "Hier folgen die eigentlichen Funktionen.\n",
    "* customer_choice_individual(offer_set_tuple, preference_weights, preference_no_purchase): \n",
    "For one customer of one customer segment, determine its purchase probabilities given one offer set.\n",
    "* customer_choice_vector(offer_set_tuple, preference_weights, preference_no_purchase, arrival_probabilities):\n",
    "From perspective of retailer: With which probability can he expect to sell each product (respectively non-purchase)\n",
    "\n",
    "Die folgenden Funktionen sind in einer Art und Weise implementiert, sodass sie bspw. Table 1 nachbauen können und dennoch wenige Parameter in der memoize-Methode abgespeichert werden müssen (also Kapazitäten, Präferenzen für Nicht-Kauf und Zeit t als Parameter).\n",
    "* def delta_value_j(j, capacities, t, preference_no_purchase):\n",
    "For one product j, what is the difference in the value function if we sell one product.\n",
    "* def value_expected(capacities, t, preference_no_purchase):\n",
    "Recursive implementation of the value function, i.e. dynamic program (DP) as described on p. 241."
   ]
  },
  {
   "cell_type": "markdown",
   "metadata": {
    "slideshow": {
     "slide_type": "slide"
    }
   },
   "source": [
    "### customer_choice_individual\n",
    "\n",
    "Gegeben sei ein Offerset: *x* $\\in \\{0,1\\}^n$. \n",
    "\n",
    "Ein Kunde aus *Kundensegment l* mit Präferenz von $u_{lj}$ für *Produkt j* und Nichtkaufpräferenz von $u_{l0}$ erwirbt  Produkt j mit Wkeit\n",
    "\n",
    "$p_{lj}(x) = \\frac{u_{lj}x_j}{u_{l0} + \\sum_{p\\in[n]} u_{lp}x_p}$ .\n",
    "\n",
    "Die Nichtkaufwahrscheinlichkeit beträgt dementsprechend\n",
    "\n",
    "$p_{l0}(x) = 1 - \\sum_{p\\in[n]} p_{lj}(x)$ .\n",
    "\n",
    "### customer_choice_vector\n",
    "\n",
    "Der Retailer legt lediglich das Offerset *x* fest und kann dann die folgende Käufe erwarten keinenicht Wkeiten, da Summe nicht 1 ergeben muss).\n",
    "\n",
    "$p_j(x) = \\sum_{l\\in[L]}\\lambda_l p_{lj}(x)$ .\n",
    "\n",
    "Die Nichtkaufwahrscheinlichkeit beträgt entsprechend\n",
    "\n",
    "$p_0(x) = 1 - \\sum_{p\\in[n]} p_j(x)$ ."
   ]
  },
  {
   "cell_type": "code",
   "execution_count": 4,
   "metadata": {
    "slideshow": {
     "slide_type": "subslide"
    }
   },
   "outputs": [],
   "source": [
    "# %% FUNCTIONS\n",
    "@memoize\n",
    "def customer_choice_individual(offer_set_tuple, preference_weights, preference_no_purchase):\n",
    "    \"\"\"\n",
    "    For one customer of one customer segment, determine its purchase probabilities given one offer set.\n",
    "\n",
    "    Tuple needed for memoization.\n",
    "\n",
    "    :param offer_set_tuple: tuple with offered products indicated by 1=product offered\n",
    "    :param preference_weights: preference weights of one customer\n",
    "    :param preference_no_purchase: no purchase preference of one customer\n",
    "    :return: array of purchase probabilities ending with no purchase\n",
    "    \"\"\"\n",
    "\n",
    "    if offer_set_tuple is None:\n",
    "        ret = np.zeros_like(preference_weights)\n",
    "        return np.insert(ret, -1, 1)\n",
    "\n",
    "    offer_set = np.asarray(offer_set_tuple)\n",
    "    ret = preference_weights * offer_set\n",
    "    ret = np.array(ret / (preference_no_purchase + sum(ret)))\n",
    "    ret = np.insert(ret, -1, 1 - sum(ret))\n",
    "    return ret"
   ]
  },
  {
   "cell_type": "code",
   "execution_count": 15,
   "metadata": {
    "slideshow": {
     "slide_type": "subslide"
    }
   },
   "outputs": [],
   "source": [
    "@memoize\n",
    "def customer_choice_vector(offer_set_tuple, preference_weights, preference_no_purchase, arrival_probabilities):\n",
    "    \"\"\"\n",
    "    From perspective of retailer: With which probability can he expect to sell each product (respectively non-purchase)\n",
    "\n",
    "    :param offer_set_tuple: tuple with offered products indicated by 1=product offered\n",
    "    :param preference_weights: preference weights of all customers\n",
    "    :param preference_no_purchase: preference for no purchase for all customers\n",
    "    :param arrival_probabilities: vector with arrival probabilities of all customer segments\n",
    "    :return: array with probabilities of purchase ending with no purchase\n",
    "    TODO probabilities don't have to sum up to one?\n",
    "    \"\"\"\n",
    "    probs = np.zeros(len(offer_set_tuple) + 1)\n",
    "    for l in np.arange(len(preference_weights)):\n",
    "        probs += arrival_probabilities[l] * customer_choice_individual(offer_set_tuple, preference_weights[l, :],\n",
    "                                                                       preference_no_purchase[l])\n",
    "    return probs"
   ]
  },
  {
   "cell_type": "markdown",
   "metadata": {
    "slideshow": {
     "slide_type": "slide"
    }
   },
   "source": [
    "### delta_value_j\n",
    "\n",
    "### value_expected\n",
    "\n",
    "Sei $x_t \\in \\{0,1\\}^n$ ein mögliches Offerset zur Zeit $t$ bei gegebenen Kapazitäten $c \\in \\mathbb{N}_0^n$. Dann ergibt sich der erwartete Wert als \n",
    "\n",
    "$$V_t(c) = \\max_{x_t \\in \\{0,1\\}^n}\\left\\{ \\sum_{j \\in [n]} p_j(x_t) \\left( r_j - \\Delta_j V_{t+1}(c) \\right) \\right\\} + V_{t+1}(c)\\quad \\forall t, c \\geq 0$$\n",
    "\n",
    "wobei $p_j(x_t)$ die insgesamte (über alle Kundensegmente) Kaufwkeit von Produkt $j$ darstellt und $\\Delta_j V_{t+1}(c) := V_{t+1}(c) - V_{t+1}(c - a_j)$."
   ]
  },
  {
   "cell_type": "code",
   "execution_count": 10,
   "metadata": {
    "slideshow": {
     "slide_type": "subslide"
    }
   },
   "outputs": [],
   "source": [
    "def delta_value_j(j, capacities, t, A, preference_no_purchase):\n",
    "    \"\"\"\n",
    "    For one product j, what is the difference in the value function if we sell one product.\n",
    "\n",
    "    :param j:\n",
    "    :param capacities:\n",
    "    :param t:\n",
    "    :param preference_no_purchase:\n",
    "    :return:\n",
    "    \"\"\"\n",
    "    return value_expected(capacities, t, preference_no_purchase)[0] - \\\n",
    "        value_expected(capacities - A[:, j], t, preference_no_purchase)[0]"
   ]
  },
  {
   "cell_type": "code",
   "execution_count": 11,
   "metadata": {
    "slideshow": {
     "slide_type": "subslide"
    }
   },
   "outputs": [],
   "source": [
    "@memoize\n",
    "def value_expected(capacities, t, preference_no_purchase):\n",
    "    \"\"\"\n",
    "    Recursive implementation of the value function, i.e. dynamic program (DP) as described on p. 241.\n",
    "\n",
    "    :param capacities:\n",
    "    :param t: time to go (last chance for revenue is t=0)\n",
    "    :param preference_no_purchase:\n",
    "    :return: value to be expected and optimal policy\n",
    "    \"\"\"\n",
    "    resources, \\\n",
    "        products, revenues, A, \\\n",
    "        customer_segments, preference_weights, arrival_probabilities, \\\n",
    "        times = get_data_for_table1()\n",
    "    T = len(times)\n",
    "\n",
    "    offer_sets_to_test = offer_sets(products)\n",
    "\n",
    "    max_index = 0\n",
    "    max_val = 0\n",
    "\n",
    "    if all(capacities == 0):\n",
    "        return 0, None\n",
    "    if any(capacities < 0):\n",
    "        return -math.inf, None\n",
    "    if t == T:\n",
    "        return 0, None\n",
    "\n",
    "    for offer_set_index in range(len(offer_sets_to_test)):\n",
    "        offer_set = offer_sets_to_test[offer_set_index, :]\n",
    "        probs = customer_choice_vector(tuple(offer_set), preference_weights, preference_no_purchase,\n",
    "                                       arrival_probabilities)\n",
    "\n",
    "        val = float(value_expected(capacities, t + 1, preference_no_purchase)[0])  # ohne \"float\" würde ein numpy array\n",
    "        #  zurückgegeben, und das später (max_val = val) direkt auf val verknüpft (call by reference)\n",
    "        for j in products:  # nett, da Nichtkaufalternative danach kommt und nicht betrachtet wird\n",
    "            p = float(probs[j])\n",
    "            if p > 0.0:\n",
    "                value_delta_j = delta_value_j(j, capacities, t + 1, A, preference_no_purchase)\n",
    "                val += p * (revenues[j] - value_delta_j)\n",
    "\n",
    "        if val > max_val:\n",
    "            max_index = offer_set_index\n",
    "            max_val = val\n",
    "    return max_val, tuple(offer_sets_to_test[max_index, :])"
   ]
  },
  {
   "cell_type": "markdown",
   "metadata": {
    "slideshow": {
     "slide_type": "slide"
    }
   },
   "source": [
    "## Ein paar Ergebnisse\n",
    "\n",
    "Die Ergebnisse sehen ganz brauchbar aus. Wenn sie auch nicht exakt mit denen der Table 1 übereinstimmen. Warum nicht? Beachte die Code-Feinheiten mit \"float\" in value_expected().\n",
    "\n",
    "<span style=\"color:red\"> Ergebnisse stimmen teilweise mit Table 1 in Sebastians Paper überein, teilweise nicht. Siehe auch Anmerkung im Paper</span>"
   ]
  },
  {
   "cell_type": "code",
   "execution_count": 3,
   "metadata": {
    "slideshow": {
     "slide_type": "subslide"
    }
   },
   "outputs": [
    {
     "data": {
      "text/html": [
       "<div>\n",
       "<style scoped>\n",
       "    .dataframe tbody tr th:only-of-type {\n",
       "        vertical-align: middle;\n",
       "    }\n",
       "\n",
       "    .dataframe tbody tr th {\n",
       "        vertical-align: top;\n",
       "    }\n",
       "\n",
       "    .dataframe thead th {\n",
       "        text-align: right;\n",
       "    }\n",
       "</style>\n",
       "<table border=\"1\" class=\"dataframe\">\n",
       "  <thead>\n",
       "    <tr style=\"text-align: right;\">\n",
       "      <th></th>\n",
       "      <th>c</th>\n",
       "      <th>u</th>\n",
       "      <th>DP</th>\n",
       "    </tr>\n",
       "  </thead>\n",
       "  <tbody>\n",
       "    <tr>\n",
       "      <th>0</th>\n",
       "      <td>[40]</td>\n",
       "      <td>[1]</td>\n",
       "      <td>(39995.18483814307, (1, 0, 0, 0))</td>\n",
       "    </tr>\n",
       "    <tr>\n",
       "      <th>1</th>\n",
       "      <td>[40]</td>\n",
       "      <td>[2]</td>\n",
       "      <td>(38013.67099976408, (1, 0, 0, 0))</td>\n",
       "    </tr>\n",
       "    <tr>\n",
       "      <th>2</th>\n",
       "      <td>[40]</td>\n",
       "      <td>[3]</td>\n",
       "      <td>(35952.031147207534, (1, 1, 0, 0))</td>\n",
       "    </tr>\n",
       "    <tr>\n",
       "      <th>3</th>\n",
       "      <td>[60]</td>\n",
       "      <td>[1]</td>\n",
       "      <td>(58454.753775844474, (1, 0, 0, 0))</td>\n",
       "    </tr>\n",
       "    <tr>\n",
       "      <th>4</th>\n",
       "      <td>[60]</td>\n",
       "      <td>[2]</td>\n",
       "      <td>(53227.23269230522, (1, 1, 0, 0))</td>\n",
       "    </tr>\n",
       "    <tr>\n",
       "      <th>5</th>\n",
       "      <td>[60]</td>\n",
       "      <td>[3]</td>\n",
       "      <td>(49977.054186201975, (1, 1, 0, 0))</td>\n",
       "    </tr>\n",
       "    <tr>\n",
       "      <th>6</th>\n",
       "      <td>[80]</td>\n",
       "      <td>[1]</td>\n",
       "      <td>(73126.21245972312, (1, 1, 0, 0))</td>\n",
       "    </tr>\n",
       "    <tr>\n",
       "      <th>7</th>\n",
       "      <td>[80]</td>\n",
       "      <td>[2]</td>\n",
       "      <td>(66170.9528230564, (1, 1, 0, 0))</td>\n",
       "    </tr>\n",
       "    <tr>\n",
       "      <th>8</th>\n",
       "      <td>[80]</td>\n",
       "      <td>[3]</td>\n",
       "      <td>(59969.77918696259, (1, 1, 1, 0))</td>\n",
       "    </tr>\n",
       "    <tr>\n",
       "      <th>9</th>\n",
       "      <td>[100]</td>\n",
       "      <td>[1]</td>\n",
       "      <td>(87233.33717875695, (1, 1, 0, 0))</td>\n",
       "    </tr>\n",
       "    <tr>\n",
       "      <th>10</th>\n",
       "      <td>[100]</td>\n",
       "      <td>[2]</td>\n",
       "      <td>(75036.07128093462, (1, 1, 1, 0))</td>\n",
       "    </tr>\n",
       "    <tr>\n",
       "      <th>11</th>\n",
       "      <td>[100]</td>\n",
       "      <td>[3]</td>\n",
       "      <td>(65956.37530498128, (1, 1, 1, 0))</td>\n",
       "    </tr>\n",
       "    <tr>\n",
       "      <th>12</th>\n",
       "      <td>[120]</td>\n",
       "      <td>[1]</td>\n",
       "      <td>(96552.29084713927, (1, 1, 0, 0))</td>\n",
       "    </tr>\n",
       "    <tr>\n",
       "      <th>13</th>\n",
       "      <td>[120]</td>\n",
       "      <td>[2]</td>\n",
       "      <td>(79718.84173932357, (1, 1, 1, 0))</td>\n",
       "    </tr>\n",
       "    <tr>\n",
       "      <th>14</th>\n",
       "      <td>[120]</td>\n",
       "      <td>[3]</td>\n",
       "      <td>(68217.19013730268, (1, 1, 1, 1))</td>\n",
       "    </tr>\n",
       "  </tbody>\n",
       "</table>\n",
       "</div>"
      ],
      "text/plain": [
       "        c    u                                  DP\n",
       "0    [40]  [1]   (39995.18483814307, (1, 0, 0, 0))\n",
       "1    [40]  [2]   (38013.67099976408, (1, 0, 0, 0))\n",
       "2    [40]  [3]  (35952.031147207534, (1, 1, 0, 0))\n",
       "3    [60]  [1]  (58454.753775844474, (1, 0, 0, 0))\n",
       "4    [60]  [2]   (53227.23269230522, (1, 1, 0, 0))\n",
       "5    [60]  [3]  (49977.054186201975, (1, 1, 0, 0))\n",
       "6    [80]  [1]   (73126.21245972312, (1, 1, 0, 0))\n",
       "7    [80]  [2]    (66170.9528230564, (1, 1, 0, 0))\n",
       "8    [80]  [3]   (59969.77918696259, (1, 1, 1, 0))\n",
       "9   [100]  [1]   (87233.33717875695, (1, 1, 0, 0))\n",
       "10  [100]  [2]   (75036.07128093462, (1, 1, 1, 0))\n",
       "11  [100]  [3]   (65956.37530498128, (1, 1, 1, 0))\n",
       "12  [120]  [1]   (96552.29084713927, (1, 1, 0, 0))\n",
       "13  [120]  [2]   (79718.84173932357, (1, 1, 1, 0))\n",
       "14  [120]  [3]   (68217.19013730268, (1, 1, 1, 1))"
      ]
     },
     "execution_count": 3,
     "metadata": {},
     "output_type": "execute_result"
    }
   ],
   "source": [
    "dftable1 = pd.read_pickle(\"table1_DP.pkl\")\n",
    "dftable1"
   ]
  },
  {
   "cell_type": "markdown",
   "metadata": {
    "slideshow": {
     "slide_type": "slide"
    }
   },
   "source": [
    "# Parallel Flight Discussion\n",
    "\n",
    "Aufbauend auf dem Ansatz von Miranda und Bront habe ich deren *choice based deterministic linear program (CDLP)* (p. 775) implementiert und deren *dynamic programming decomposition (DPD)*. Hier beschreiben wir zunächst den Beispieldatensatz parallel flights, bevor wir die Implementation vorstellen und die Ergebnisse für Table 3 darlegen."
   ]
  },
  {
   "cell_type": "markdown",
   "metadata": {
    "slideshow": {
     "slide_type": "slide"
    }
   },
   "source": [
    "## Example Three Parallel Flights (PF)"
   ]
  },
  {
   "cell_type": "code",
   "execution_count": null,
   "metadata": {
    "slideshow": {
     "slide_type": "subslide"
    }
   },
   "outputs": [],
   "source": [
    "n = 6\n",
    "    products = np.arange(n)\n",
    "    revenues = np.array([400, 800, 500, 1000, 300, 600])\n",
    "\n",
    "    T = 300\n",
    "    times = np.arange(T)\n",
    "\n",
    "    L = 4\n",
    "    customer_segments = np.arange(L)\n",
    "    arrival_probabilities = np.array([0.1, 0.15, 0.2, 0.05])\n",
    "    preference_weights = np.array([[0, 5, 0, 10, 0, 1],\n",
    "                                   [5, 0, 1, 0, 10, 0],\n",
    "                                   [10, 8, 6, 4, 3, 1],\n",
    "                                   [8, 10, 4, 6, 1, 3]])\n",
    "\n",
    "    var_no_purchase_preferences = np.array([[1, 5, 5, 1],\n",
    "                                            [1, 10, 5, 1],\n",
    "                                            [5, 20, 10, 5]])\n",
    "    preference_no_purchase = var_no_purchase_preferences[0]\n",
    "\n",
    "    m = 3\n",
    "    resources = np.arange(m)\n",
    "\n",
    "    base_capacity = np.array([30, 50, 40])\n",
    "    delta = np.arange(0.4, 1.21, 0.2)\n",
    "    var_capacities = np.zeros((len(delta), len(base_capacity)))\n",
    "    for i in np.arange(len(delta)):\n",
    "        var_capacities[i] = delta[i]*base_capacity\n",
    "    capacities = var_capacities[0]\n",
    "\n",
    "    # capacity demand matrix A (rows: resources, cols: products)\n",
    "    # a_ij = 1 if resource i is used by product j\n",
    "    A = np.array([[1, 1, 0, 0, 0, 0],\n",
    "                  [0, 0, 1, 1, 0, 0],\n",
    "                  [0, 0, 0, 0, 1, 1]])"
   ]
  },
  {
   "cell_type": "markdown",
   "metadata": {
    "slideshow": {
     "slide_type": "slide"
    }
   },
   "source": [
    "## Funktionen\n",
    "\n",
    "Die folgenden Inhalte sind sehr stark an Bront et al orientiert, wobei ich einige <span style=\"color:red\"> Details farblich markiere. </span>\n",
    "\n",
    "### Hilfsfunktionen\n",
    "Sei S ein Offerset, also $x \\in \\{0,1\\}^n$ mit $x_j=1$ nur falls j im Offerset. \n",
    "\n",
    "$P_{lj}(S)$ sei die Wahrscheinlichkeit, dass ein Kunde aus Segment $l$ Produkt $j$ kauft, wenn Offerset $S$ angeboten wird. Nach dem *multinomial logit model (MNL)* gilt:\n",
    "$$ P_{lj}(S) = \\frac{u_{lj}x_j}{\\sum_{p \\in S} u_{lp} x_p + u_{l0}}~.$$\n",
    "\n",
    "Hieraus folgt, dass <span style=\"color:red\"> gegeben ein Kunde kommt </span> und Offerset S wird angeboten, die Verkaufswkeit für Produkt j sich errechnet als\n",
    "$$ P_j(S) = \\sum_{l \\in [L]} p_l P_{lj}(S) ~,$$\n",
    "woraus sich $P(S) = (P_1(S), ..., P_n(S))^T$ ergibt.\n",
    "\n",
    "<span style=\"color:red\"> So wie wir die arrival probabilities $\\lambda_l$ abspeichern, müssen wir hier $p_l$ durch Normierung berechnen. </span>\n",
    "\n",
    "Dann berechnet sich der erwartete Erlös für ein gegebenes Offerset als\n",
    "$$ R(S) = \\sum_{j \\in S} r_j P_j(S)~.$$\n",
    "\n",
    "Gegeben die Ankunft eines Kunden, dann sei $Q_i(S)$ die bedingte Wkeit, dass eine Einheit der Ressource $i$ genutzt wird, falls $S$ angeboten wird. Sie berechnet sich als\n",
    "$$ Q(S) = A P(S)~.$$"
   ]
  },
  {
   "cell_type": "code",
   "execution_count": null,
   "metadata": {
    "slideshow": {
     "slide_type": "subslide"
    }
   },
   "outputs": [],
   "source": [
    "def purchase_rate_vector(offer_set_tuple, preference_weights, preference_no_purchase, arrival_probabilities):\n",
    "    \"\"\"\n",
    "    P_j(S) for all j, P_0(S) at the end\n",
    "\n",
    "    :param offer_set_tuple: S\n",
    "    :param preference_weights\n",
    "    :param preference_no_purchase\n",
    "    :param arrival_probabilities\n",
    "    :return: P_j(S) for all j, P_0(S) at the end\n",
    "    \"\"\"\n",
    "    probs = np.zeros(len(offer_set_tuple) + 1)\n",
    "    p = arrival_probabilities/(sum(arrival_probabilities))\n",
    "    for l in np.arange(len(preference_weights)):\n",
    "        probs += p[l] * customer_choice_individual(offer_set_tuple, preference_weights[l, :],\n",
    "                                                   preference_no_purchase[l])\n",
    "    return probs"
   ]
  },
  {
   "cell_type": "code",
   "execution_count": null,
   "metadata": {
    "slideshow": {
     "slide_type": "subslide"
    }
   },
   "outputs": [],
   "source": [
    "def revenue(offer_set_tuple, preference_weights, preference_no_purchase, arrival_probabilities):\n",
    "    \"\"\"\n",
    "    R(S)\n",
    "\n",
    "    :param offer_set_tuple: S\n",
    "    :return: R(S)\n",
    "    \"\"\"\n",
    "    return sum(revenues * purchase_rate_vector(offer_set_tuple, preference_weights, preference_no_purchase,\n",
    "                                               arrival_probabilities)[:-1])"
   ]
  },
  {
   "cell_type": "code",
   "execution_count": null,
   "metadata": {
    "slideshow": {
     "slide_type": "subslide"
    }
   },
   "outputs": [],
   "source": [
    "def quantity_i(offer_set_tuple, preference_weights, preference_no_purchase, arrival_probabilities, i):\n",
    "    \"\"\"\n",
    "    Q_i(S)\n",
    "\n",
    "    :param offer_set_tuple: S\n",
    "    :param i: resource i\n",
    "    :return: Q_i(S)\n",
    "    \"\"\"\n",
    "    return sum(A[i, :] * purchase_rate_vector(offer_set_tuple, preference_weights, preference_no_purchase,\n",
    "                                              arrival_probabilities)[:-1])"
   ]
  },
  {
   "cell_type": "markdown",
   "metadata": {
    "slideshow": {
     "slide_type": "slide"
    }
   },
   "source": [
    "### CDLP-base version\n",
    "\n",
    "Die folgende Implementierung nimmt die gesamte Probleminstanz als Parameter und zusätzlich die zu betrachtenden Offersets $N$. Es soll folgendes Optimierungsproblem gelöst werden.\n",
    "\n",
    "\\begin{align}\n",
    "V^{CDLP}(N) = \\max & \\sum_{S\\in N} \\lambda R(S) t(S) \\\\\n",
    "s.t. & \\sum_{S\\in N} \\lambda Q(S) t(S) \\leq c~, \\\\\n",
    "& \\sum_{S\\in N} t(S) \\leq T~,\\\\\n",
    "& t(S) \\geq 0 \\quad \\forall S \\in N~.\n",
    "\\end{align}\n",
    "\n",
    "<span style=\"color:red\"> Beachte, dass $\\lambda = \\sum_{l \\in [L]} \\lambda_l$ die Ankunftsrate irgendeines Kunden wiedergibt. </span>"
   ]
  },
  {
   "cell_type": "code",
   "execution_count": null,
   "metadata": {
    "slideshow": {
     "slide_type": "subslide"
    }
   },
   "outputs": [],
   "source": [
    "def CDLP(offer_sets: np.ndarray):\n",
    "    \"\"\"\n",
    "    Implements (4) of Bront et al. Needs the offer-sets to look at (N) as input.\n",
    "\n",
    "    :param offer_sets: N\n",
    "    :return: dictionary of (offer set, time offered),\n",
    "    \"\"\"\n",
    "    resources, capacities, \\\n",
    "        products, revenues, A, \\\n",
    "        customer_segments, preference_weights, preference_no_purchase, arrival_probabilities, \\\n",
    "        times = get_data()\n",
    "\n",
    "    offer_sets = pd.DataFrame(offer_sets)\n",
    "\n",
    "    S = {}\n",
    "    R = {}\n",
    "    Q = {}\n",
    "    for index, offer_array in offer_sets.iterrows():\n",
    "        S[index] = tuple(offer_array)\n",
    "        R[index] = revenue(tuple(offer_array), preference_weights, preference_no_purchase, arrival_probabilities)\n",
    "        temp = {}\n",
    "        for i in resources:\n",
    "            temp[i] = quantity_i(tuple(offer_array), preference_weights, preference_no_purchase,\n",
    "                                 arrival_probabilities, i)\n",
    "        Q[index] = temp\n",
    "\n",
    "    try:\n",
    "        m = Model()\n",
    "\n",
    "        # Variables\n",
    "        mt = m.addVars(offer_sets.index.values, name=\"t\", lb=0.0)  # last constraint\n",
    "\n",
    "        # Objective Function\n",
    "        m.setObjective(lam * quicksum(R[s] * mt[s] for s in offer_sets.index.values), GRB.MAXIMIZE)\n",
    "\n",
    "        mc = {}\n",
    "        # Constraints\n",
    "        for i in resources:\n",
    "            mc[i] = m.addConstr(lam * quicksum(Q[s][i] * mt[s] for s in offer_sets.index.values), GRB.LESS_EQUAL,\n",
    "                                capacities[i],\n",
    "                                name=\"constraintOnResource\")\n",
    "        msigma = m.addConstr(quicksum(mt[s] for s in offer_sets.index.values), GRB.LESS_EQUAL, T)\n",
    "\n",
    "        m.optimize()\n",
    "\n",
    "        ret = {}\n",
    "        pat = r\".*?\\[(.*)\\].*\"\n",
    "        for v in m.getVars():\n",
    "            if v.X > 0:\n",
    "                match = re.search(pat, v.VarName)\n",
    "                erg_index = match.group(1)\n",
    "                ret[int(erg_index)] = (tuple(offer_sets.loc[int(erg_index)]), v.X)\n",
    "                print(offer_sets.loc[int(erg_index)], \": \", v.X)\n",
    "\n",
    "        dualPi = np.zeros_like(resources)\n",
    "        for i in resources:\n",
    "            dualPi[i] = mc[i].pi\n",
    "        dualSigma = msigma.pi\n",
    "\n",
    "        valOpt = m.objVal\n",
    "\n",
    "        return ret, valOpt, dualPi, dualSigma\n",
    "\n",
    "    except GurobiError:\n",
    "        print('Error reported')"
   ]
  },
  {
   "cell_type": "markdown",
   "metadata": {
    "slideshow": {
     "slide_type": "slide"
    }
   },
   "source": [
    "#### Ergebnisse\n",
    "\n",
    "Mit dem Datensatz aus _example0_ läuft die Funktion korrekt durch und spuckt dieselben Ergebnisse wie in Bront et al. p. 774 links oben aus.\n"
   ]
  },
  {
   "cell_type": "code",
   "execution_count": 3,
   "metadata": {
    "slideshow": {
     "slide_type": "subslide"
    }
   },
   "outputs": [
    {
     "name": "stdout",
     "output_type": "stream",
     "text": [
      "Academic license - for non-commercial use only\n",
      "Optimize a model with 4 rows, 255 columns and 927 nonzeros\n",
      "Coefficient statistics:\n",
      "  Matrix range     [4e-02, 1e+00]\n",
      "  Objective range  [6e+01, 5e+02]\n",
      "  Bounds range     [0e+00, 0e+00]\n",
      "  RHS range        [5e+00, 3e+01]\n",
      "Presolve time: 0.00s\n",
      "Presolved: 4 rows, 255 columns, 927 nonzeros\n",
      "\n",
      "Iteration    Objective       Primal Inf.    Dual Inf.      Time\n",
      "       0    9.1657662e+34   5.943074e+32   9.165766e+04      0s\n",
      "      10    1.1409091e+04   0.000000e+00   0.000000e+00      0s\n",
      "\n",
      "Solved in 10 iterations and 0.00 seconds\n",
      "Optimal objective  1.140909091e+04\n",
      "0    0\n",
      "1    1\n",
      "2    1\n",
      "3    0\n",
      "4    0\n",
      "5    0\n",
      "6    0\n",
      "7    0\n",
      "Name: 95, dtype: int32 :  1.9999999999999947\n",
      "0    1\n",
      "1    1\n",
      "2    1\n",
      "3    0\n",
      "4    0\n",
      "5    0\n",
      "6    0\n",
      "7    0\n",
      "Name: 223, dtype: int32 :  16.992628992628998\n",
      "0    1\n",
      "1    1\n",
      "2    1\n",
      "3    1\n",
      "4    0\n",
      "5    1\n",
      "6    0\n",
      "7    0\n",
      "Name: 243, dtype: int32 :  11.007371007371008\n",
      "\n"
     ]
    }
   ],
   "source": [
    "print_content('res_CDLP.txt')"
   ]
  },
  {
   "cell_type": "markdown",
   "metadata": {
    "slideshow": {
     "slide_type": "slide"
    }
   },
   "source": [
    "### CDLP by column generation\n",
    "\n",
    "Die obere Methode (über alle möglichen Offersets) leidet darunter, dass die Anzahl an Offersets exponentiell mit der Anzahl an Produkten $n$ wächst ($2^n-1$). Ein schlauer Ansatz ist die Möglichkeit der Column Generation, bei welcher nach und nach die vielversprechendsten Offersets als mögliche Variablen zum CDLP-Optimierungsproblem hinzugefügt werden. Um dies anzugehen, möchten wir zwei Ansätze vorstellen. Einen exakten Ansatz (MIP Formulation) und eine Heuristik (Greedy Heuristic).\n",
    "\n",
    "Bei beiden Hilffunktionen ist die anwesende Kapazität völlig egal. Lediglich Preise (revenues und duale Preise der Ressourcen) und Präferenzen (für Produkte und Nicht-Kauf) sind ausschlaggebend."
   ]
  },
  {
   "cell_type": "markdown",
   "metadata": {
    "slideshow": {
     "slide_type": "slide"
    }
   },
   "source": [
    "#### Hilfsfunktionen\n",
    "\n",
    "##### MIP Formulation\n",
    "\n",
    "Mit K groß lösen wir:\n",
    "\n",
    "\\begin{align}\n",
    "\\max ~ & \\sum_{l \\in [L]}\\sum_{j \\in [n]} \\lambda_l (r_j - A_j^T \\pi) u_{lj} z_{lj} \\\\\n",
    "s.t.~~ & x_l v_{l0} + \\sum_{j \\in [n]} u_{lj} z_{lj} = 1 \\quad \\forall l \\in [L]~, \\\\\n",
    "& x_l - z_{lj} \\leq K - K y_j \\quad \\forall l \\in [L], j \\in [n]~, \\\\\n",
    "& z_{lj} \\leq x_l  \\quad \\forall l \\in [L], j \\in [n]~, \\\\\n",
    "& z_{lj} \\leq K y_j  \\quad \\forall l \\in [L], j \\in [n]~, \\\\\n",
    "& y_j \\in {0,1} \\quad x_l \\geq 0 \\quad z_{lj} \\geq 0~.\n",
    "\\end{align}\n",
    "\n",
    "Beachte, dass $u_{lj}=0$, falls Kunde aus Segment $l$ Produkt $j$ nicht in seinem Consideration Set hat.\n",
    "\n",
    "##### Greedy Heuristic\n",
    "\n"
   ]
  },
  {
   "cell_type": "code",
   "execution_count": null,
   "metadata": {
    "slideshow": {
     "slide_type": "subslide"
    }
   },
   "outputs": [],
   "source": [
    "\n",
    "def column_MIP(pi, w=0):  # pass w to test example for greedy heuristic\n",
    "    \"\"\"\n",
    "    Implements MIP formulation on p. 775 lhs\n",
    "\n",
    "    :param pi:\n",
    "    :param w:\n",
    "    :return: optimal tuple of products to offer\n",
    "    \"\"\"\n",
    "    resources, capacities, \\\n",
    "        products, revenues, A, \\\n",
    "        customer_segments, preference_weights, preference_no_purchase, arrival_probabilities, \\\n",
    "        times = get_data()\n",
    "\n",
    "    K = 1/min(preference_no_purchase.min(), np.min(preference_weights[np.nonzero(preference_weights)]))+1\n",
    "\n",
    "    if isinstance(w, int) and w == 0:  # 'and' is lazy version of &\n",
    "        w = np.zeros_like(revenues, dtype=float)\n",
    "        for j in products:\n",
    "            w[j] = revenues[j] - sum(A[:, j]*pi)\n",
    "\n",
    "    try:\n",
    "        m = Model()\n",
    "\n",
    "        mx = {}\n",
    "        my = {}\n",
    "        mz = {}\n",
    "\n",
    "        # Variables\n",
    "        for j in products:\n",
    "            my[j] = m.addVar(0, 1, vtype=GRB.BINARY, name=\"y[\"+str(j)+\"]\")\n",
    "        for l in customer_segments:\n",
    "            mx[l] = m.addVar(0.0, name=\"x[\"+str(l)+\"]\")\n",
    "            temp = {}\n",
    "            for j in products:\n",
    "                temp[j] = m.addVar(0.0, name=\"z[\"+str(l)+\",\"+str(j)+\"]\")\n",
    "            mz[l] = temp\n",
    "\n",
    "        # Objective\n",
    "        m.setObjective(quicksum(arrival_probabilities[l] * w[j] * preference_weights[l, j] * mz[l][j]\n",
    "                                for l in customer_segments for j in products), GRB.MAXIMIZE)\n",
    "\n",
    "        # Constraints\n",
    "        mc1 = m.addConstrs((mx[l]*preference_no_purchase[l] +\n",
    "                            quicksum(preference_weights[l, j]*mz[l][j] for j in products) == 1\n",
    "                            for l in customer_segments), name=\"mc1\")\n",
    "        mc2 = m.addConstrs((mx[l] - mz[l][j] <= K - K*my[j] for l in customer_segments for j in products),\n",
    "                           name=\"mc2\")\n",
    "        mc3 = m.addConstrs((mz[l][j] <= mx[l] for l in customer_segments for j in products), name=\"mc3\")\n",
    "        mc4 = m.addConstrs((mz[l][j] <= K*my[j] for l in customer_segments for j in products), name=\"mc4\")\n",
    "\n",
    "        m.optimize()\n",
    "\n",
    "        y = np.zeros_like(revenues)\n",
    "        for j in products:\n",
    "            y[j] = my[j].x\n",
    "\n",
    "        return tuple(y)\n",
    "\n",
    "    except GurobiError:\n",
    "        print('Error reported')"
   ]
  },
  {
   "cell_type": "code",
   "execution_count": 5,
   "metadata": {
    "slideshow": {
     "slide_type": "subslide"
    }
   },
   "outputs": [
    {
     "name": "stdout",
     "output_type": "stream",
     "text": [
      "Optimize a model with 30 rows, 15 columns and 71 nonzeros\n",
      "Variable types: 12 continuous, 3 integer (3 binary)\n",
      "Coefficient statistics:\n",
      "  Matrix range     [1e+00, 2e+00]\n",
      "  Objective range  [2e+01, 1e+02]\n",
      "  Bounds range     [1e+00, 1e+00]\n",
      "  RHS range        [1e+00, 2e+00]\n",
      "Presolve removed 8 rows and 4 columns\n",
      "Presolve time: 0.00s\n",
      "Presolved: 22 rows, 11 columns, 57 nonzeros\n",
      "Variable types: 4 continuous, 7 integer (3 binary)\n",
      "\n",
      "Root relaxation: objective 5.950000e+01, 8 iterations, 0.00 seconds\n",
      "\n",
      "    Nodes    |    Current Node    |     Objective Bounds      |     Work\n",
      " Expl Unexpl |  Obj  Depth IntInf | Incumbent    BestBd   Gap | It/Node Time\n",
      "\n",
      "     0     0   59.50000    0    7          -   59.50000      -     -    0s\n",
      "H    0     0                      53.5000000   59.50000  11.2%     -    0s\n",
      "     0     0     cutoff    0        53.50000   53.50000  0.00%     -    0s\n",
      "\n",
      "Cutting planes:\n",
      "  Gomory: 2\n",
      "\n",
      "Explored 1 nodes (10 simplex iterations) in 0.00 seconds\n",
      "Thread count was 8 (of 8 available processors)\n",
      "\n",
      "Solution count 1: 53.5 \n",
      "\n",
      "Optimal solution found (tolerance 1.00e-04)\n",
      "Best objective 5.350000000000e+01, best bound 5.350000000000e+01, gap 0.0000%\n",
      "\n"
     ]
    }
   ],
   "source": [
    "print_content('res_MIP.txt')"
   ]
  },
  {
   "cell_type": "markdown",
   "metadata": {
    "slideshow": {
     "slide_type": "slide"
    }
   },
   "source": [
    "#### Hilfsfunktionen\n",
    "\n",
    "##### MIP Formulation\n",
    "\n",
    "##### Greedy Heuristic\n",
    "\n",
    "Ziel: Berechne Offerset $S$ mittels Heuristik.\n",
    "\n",
    "Berechne $w_j = r_j - A^T\\pi$\n",
    "\n",
    "1. Für alle Produkte $j$ mit $w_j \\leq 0$  setzen wir $y_j = 0$.\n",
    "2. Definiere $S' \\subset N$ mit allen Produkten $j$ sodass $w_j > 0$.\n",
    "3. Füge das Produkt $j^*$ mit höchstem erwarteten Deckungsbeitrag zu $S$ hinzu.\n",
    "$$ j^* = \\arg \\max_{j \\in S'} \\sum_{l \\in [L]} \\lambda_l \\frac{w_j u_{lj}}{u_{lj} + u_{l0}} $$\n",
    "Setze $S := \\{j^*\\}$, $S' := S' \\backslash \\{ j^*\\}$.\n",
    "4. Solange $S$ noch verändert wird, wiederhole\n",
    "    1. Berechne \n",
    "    $$ j^* = \\arg \\max_{j \\in S'} \\sum_{l \\in [L]} \\lambda_l  \\frac{\\sum_{p \\in S \\cup \\{j\\}}w_p u_{lp}}{\\sum_{p \\in S \\cup \\{j\\}}u_{lp} + u_{l0}} $$\n",
    "    2. Falls $Wert(S \\cup \\{j^*\\}) > Wert(S)$, dann setze $S := S \\cup \\{j^*\\}$, $S' := S' \\backslash \\{ j^*\\}$.\n",
    "5. Gebe S zurück (also nur die aufgenommen Produkte).\n",
    "\n",
    "<span style=\"color:red\"> $Wert(S \\cup \\{j^*\\}) := \\max_{j \\in S'} \\sum_{l \\in [L]} \\lambda_l  \\frac{\\sum_{p \\in S \\cup \\{j\\}}w_p u_{lp}}{\\sum_{p \\in S \\cup \\{j\\}}u_{lp} + u_{l0}}$ ?? </span>"
   ]
  },
  {
   "cell_type": "code",
   "execution_count": null,
   "metadata": {
    "slideshow": {
     "slide_type": "subslide"
    }
   },
   "outputs": [],
   "source": [
    "def column_greedy(pi, w=0):  # pass w to test example for greedy heuristic\n",
    "    \"\"\"\n",
    "    Implements Greedy Heuristic on p. 775 rhs\n",
    "\n",
    "    :param pi:\n",
    "    :param w:\n",
    "    :return: heuristically optimal tuple of products to offer\n",
    "    \"\"\"\n",
    "    # Step 1\n",
    "    y = np.zeros_like(revenues)\n",
    "\n",
    "    if isinstance(w, int) and w == 0:  # and is lazy version of &\n",
    "        w = np.zeros_like(revenues, dtype=float)  # calculate the opportunity costs\n",
    "        for j in products:\n",
    "            w[j] = revenues[j] - sum(A[:, j]*pi)\n",
    "\n",
    "    # Step 2\n",
    "    Sprime = set(np.where(w > 0)[0])\n",
    "\n",
    "    # Step 3\n",
    "    value_marginal = np.zeros_like(w, dtype=float)\n",
    "    for j in Sprime:\n",
    "        for l in customer_segments:\n",
    "            value_marginal[j] += preference_weights[l, j]/(preference_weights[l, j] + preference_no_purchase[l])\n",
    "        value_marginal[j] *= w[j]\n",
    "\n",
    "    jstar = np.argmax(value_marginal)\n",
    "    v_new = value_marginal[jstar]\n",
    "\n",
    "    S = {jstar}\n",
    "    Sprime = Sprime-S\n",
    "\n",
    "    # Step 4\n",
    "    while True:\n",
    "        v_akt = copy.deepcopy(v_new)  # deepcopy to be on the safe side\n",
    "        v_temp = np.zeros_like(revenues, dtype=float)  # uses more space then necessary, but simplifies indices below\n",
    "        for j in Sprime:\n",
    "            for l in customer_segments:\n",
    "                z = 0\n",
    "                n = 0\n",
    "                for p in S.union({j}):\n",
    "                    z += w[p]*preference_weights[l, p]\n",
    "                    n += preference_weights[l, p]\n",
    "                n += preference_no_purchase[l]\n",
    "                v_temp[j] += arrival_probability[l]*z/n\n",
    "        jstar = np.argmax(value_marginal)  # argmax always returns index of first maxima (if there is > 1)\n",
    "        v_new = value_marginal[jstar]\n",
    "        if v_new > v_akt:\n",
    "            S = S.union({jstar})\n",
    "            Sprime = Sprime - {jstar}\n",
    "        else:\n",
    "            break\n",
    "\n",
    "    # Step 5\n",
    "    y[list(S)] = 1\n",
    "    return tuple(y), v_new"
   ]
  },
  {
   "cell_type": "code",
   "execution_count": 8,
   "metadata": {
    "slideshow": {
     "slide_type": "subslide"
    }
   },
   "outputs": [
    {
     "name": "stdout",
     "output_type": "stream",
     "text": [
      "((1, 0, 0), 50.0)\n",
      "\n"
     ]
    }
   ],
   "source": [
    "print_content('res_GreedyHeuristic.txt')"
   ]
  },
  {
   "cell_type": "markdown",
   "metadata": {
    "slideshow": {
     "slide_type": "slide"
    }
   },
   "source": [
    "#### CDLP by column generation\n",
    "\n",
    "Wir folgen Bront et al. Zunächst wird mittels der greedy heuristic versucht, ein weiteres mögliches Offerset zu finden. Falls dies nicht möglich ist, wird das die MIP Formulierung gelöst. Findet diese auch kein neues spannendes Offerset, so haben wir das Optimum gefunden. Die dualen Variablen $pi, sigma$ sind initial $0$ und ergeben sich im weiteren aus der Berechnung des CDLP mit der jeweils letzten Menge $N$ an interessanten Offersets $S$."
   ]
  },
  {
   "cell_type": "code",
   "execution_count": null,
   "metadata": {
    "slideshow": {
     "slide_type": "subslide"
    }
   },
   "outputs": [],
   "source": [
    "# CDLP by column generation\n",
    "def CDLP_by_column_generation(capacities, preference_no_purchase):\n",
    "    \"\"\"\n",
    "    Implements Bront et als approach for CDLP by column generation as pointed out on p. 775 just above \"5. Decomp...\"\n",
    "\n",
    "    :return:\n",
    "    \"\"\"\n",
    "    resources, \\\n",
    "        products, revenues, A, \\\n",
    "        customer_segments, preference_weights, arrival_probabilities, \\\n",
    "        times = get_data_without_variations()\n",
    "\n",
    "    dual_pi = np.zeros(len(A))\n",
    "\n",
    "    col_offerset, col_val = column_greedy(preference_no_purchase, dual_pi)\n",
    "    if all(col_offerset == np.zeros_like(col_offerset)):\n",
    "        print(\"MIP solution used to solve CDLP by column generation\")\n",
    "        col_offerset, col_val = column_MIP(preference_no_purchase, dual_pi)\n",
    "\n",
    "    offer_sets = pd.DataFrame([np.array(col_offerset)])\n",
    "\n",
    "    val_akt_CDLP = 0\n",
    "    ret, val_new_CDLP, dual_pi, dual_sigma = CDLP(capacities, preference_no_purchase, offer_sets)\n",
    "\n",
    "    while val_new_CDLP > val_akt_CDLP:\n",
    "        val_akt_CDLP = copy.deepcopy(val_new_CDLP)  # deepcopy and new name to be on the safe side\n",
    "\n",
    "        col_offerset, col_val = column_greedy(preference_no_purchase, dual_pi)\n",
    "        if not offer_sets[(offer_sets == np.array(col_offerset)).all(axis=1)].index.empty:\n",
    "            col_offerset, col_val = column_MIP(preference_no_purchase, dual_pi)\n",
    "            if not offer_sets[(offer_sets == np.array(col_offerset)).all(axis=1)].index.empty:\n",
    "                break  # nothing changed\n",
    "\n",
    "        offer_sets = offer_sets.append([np.array(col_offerset)], ignore_index=True)\n",
    "        ret, val_new_CDLP, dual_pi, dual_sigma = CDLP(capacities, preference_no_purchase, offer_sets)\n",
    "\n",
    "    return ret, val_new_CDLP, dual_pi, dual_sigma"
   ]
  },
  {
   "cell_type": "code",
   "execution_count": 13,
   "metadata": {
    "slideshow": {
     "slide_type": "subslide"
    }
   },
   "outputs": [
    {
     "data": {
      "text/html": [
       "<div>\n",
       "<style scoped>\n",
       "    .dataframe tbody tr th:only-of-type {\n",
       "        vertical-align: middle;\n",
       "    }\n",
       "\n",
       "    .dataframe tbody tr th {\n",
       "        vertical-align: top;\n",
       "    }\n",
       "\n",
       "    .dataframe thead th {\n",
       "        text-align: right;\n",
       "    }\n",
       "</style>\n",
       "<table border=\"1\" class=\"dataframe\">\n",
       "  <thead>\n",
       "    <tr style=\"text-align: right;\">\n",
       "      <th></th>\n",
       "      <th>c</th>\n",
       "      <th>u</th>\n",
       "      <th>CDLP</th>\n",
       "    </tr>\n",
       "  </thead>\n",
       "  <tbody>\n",
       "    <tr>\n",
       "      <th>0</th>\n",
       "      <td>[12.0, 20.0, 16.0]</td>\n",
       "      <td>[1, 5, 5, 1]</td>\n",
       "      <td>39200</td>\n",
       "    </tr>\n",
       "    <tr>\n",
       "      <th>1</th>\n",
       "      <td>[12.0, 20.0, 16.0]</td>\n",
       "      <td>[1, 10, 5, 1]</td>\n",
       "      <td>39200</td>\n",
       "    </tr>\n",
       "    <tr>\n",
       "      <th>2</th>\n",
       "      <td>[12.0, 20.0, 16.0]</td>\n",
       "      <td>[5, 20, 10, 5]</td>\n",
       "      <td>37571.1</td>\n",
       "    </tr>\n",
       "    <tr>\n",
       "      <th>3</th>\n",
       "      <td>[18.0, 30.0, 24.0]</td>\n",
       "      <td>[1, 5, 5, 1]</td>\n",
       "      <td>56884.1</td>\n",
       "    </tr>\n",
       "    <tr>\n",
       "      <th>4</th>\n",
       "      <td>[18.0, 30.0, 24.0]</td>\n",
       "      <td>[1, 10, 5, 1]</td>\n",
       "      <td>56848</td>\n",
       "    </tr>\n",
       "    <tr>\n",
       "      <th>5</th>\n",
       "      <td>[18.0, 30.0, 24.0]</td>\n",
       "      <td>[5, 20, 10, 5]</td>\n",
       "      <td>53819.9</td>\n",
       "    </tr>\n",
       "    <tr>\n",
       "      <th>6</th>\n",
       "      <td>[24.0, 40.0, 32.0]</td>\n",
       "      <td>[1, 5, 5, 1]</td>\n",
       "      <td>71936.4</td>\n",
       "    </tr>\n",
       "    <tr>\n",
       "      <th>7</th>\n",
       "      <td>[24.0, 40.0, 32.0]</td>\n",
       "      <td>[1, 10, 5, 1]</td>\n",
       "      <td>71794.8</td>\n",
       "    </tr>\n",
       "    <tr>\n",
       "      <th>8</th>\n",
       "      <td>[24.0, 40.0, 32.0]</td>\n",
       "      <td>[5, 20, 10, 5]</td>\n",
       "      <td>61868.2</td>\n",
       "    </tr>\n",
       "    <tr>\n",
       "      <th>9</th>\n",
       "      <td>[30.0, 50.0, 40.0]</td>\n",
       "      <td>[1, 5, 5, 1]</td>\n",
       "      <td>79155.7</td>\n",
       "    </tr>\n",
       "    <tr>\n",
       "      <th>10</th>\n",
       "      <td>[30.0, 50.0, 40.0]</td>\n",
       "      <td>[1, 10, 5, 1]</td>\n",
       "      <td>76866.2</td>\n",
       "    </tr>\n",
       "    <tr>\n",
       "      <th>11</th>\n",
       "      <td>[30.0, 50.0, 40.0]</td>\n",
       "      <td>[5, 20, 10, 5]</td>\n",
       "      <td>63255.6</td>\n",
       "    </tr>\n",
       "    <tr>\n",
       "      <th>12</th>\n",
       "      <td>[36.0, 60.0, 48.0]</td>\n",
       "      <td>[1, 5, 5, 1]</td>\n",
       "      <td>80371.3</td>\n",
       "    </tr>\n",
       "    <tr>\n",
       "      <th>13</th>\n",
       "      <td>[36.0, 60.0, 48.0]</td>\n",
       "      <td>[1, 10, 5, 1]</td>\n",
       "      <td>78045.4</td>\n",
       "    </tr>\n",
       "    <tr>\n",
       "      <th>14</th>\n",
       "      <td>[36.0, 60.0, 48.0]</td>\n",
       "      <td>[5, 20, 10, 5]</td>\n",
       "      <td>63296.5</td>\n",
       "    </tr>\n",
       "  </tbody>\n",
       "</table>\n",
       "</div>"
      ],
      "text/plain": [
       "                     c               u     CDLP\n",
       "0   [12.0, 20.0, 16.0]    [1, 5, 5, 1]    39200\n",
       "1   [12.0, 20.0, 16.0]   [1, 10, 5, 1]    39200\n",
       "2   [12.0, 20.0, 16.0]  [5, 20, 10, 5]  37571.1\n",
       "3   [18.0, 30.0, 24.0]    [1, 5, 5, 1]  56884.1\n",
       "4   [18.0, 30.0, 24.0]   [1, 10, 5, 1]    56848\n",
       "5   [18.0, 30.0, 24.0]  [5, 20, 10, 5]  53819.9\n",
       "6   [24.0, 40.0, 32.0]    [1, 5, 5, 1]  71936.4\n",
       "7   [24.0, 40.0, 32.0]   [1, 10, 5, 1]  71794.8\n",
       "8   [24.0, 40.0, 32.0]  [5, 20, 10, 5]  61868.2\n",
       "9   [30.0, 50.0, 40.0]    [1, 5, 5, 1]  79155.7\n",
       "10  [30.0, 50.0, 40.0]   [1, 10, 5, 1]  76866.2\n",
       "11  [30.0, 50.0, 40.0]  [5, 20, 10, 5]  63255.6\n",
       "12  [36.0, 60.0, 48.0]    [1, 5, 5, 1]  80371.3\n",
       "13  [36.0, 60.0, 48.0]   [1, 10, 5, 1]  78045.4\n",
       "14  [36.0, 60.0, 48.0]  [5, 20, 10, 5]  63296.5"
      ]
     },
     "execution_count": 13,
     "metadata": {},
     "output_type": "execute_result"
    }
   ],
   "source": [
    "dftableCDLP = pd.read_pickle(\"table3_CDLP.pkl\")\n",
    "dftableCDLP"
   ]
  },
  {
   "cell_type": "markdown",
   "metadata": {
    "slideshow": {
     "slide_type": "slide"
    }
   },
   "source": [
    "## Decomposition Approximation Algorithm\n",
    "\n",
    "<span style=\"color:red\"> Hierüber sprechen. Da in Bront nicht ganz klar, wie zB duale Preise für single leg DP gehandhabt werden. Talluri hilft hier nur bedingt, da keine dualen Preise betrachtet werden. </span>\n",
    "\n",
    "Gehen wir weiter und implementieren die value of capacity. Dabei werden zunächst die Werte für die einzelnen Ressourcen approximiert und dann addiert.\n",
    "\n",
    "### Herleitung\n",
    "\n",
    "Seien $\\pi = (\\pi_1, ..., \\pi_m)$ die Opportunitätskosten der $m$ Ressourcen. Dann ergibt sich als Approximation der Wertfunktion bei Kapazität $c \\in \\mathbb{N}_0^m$ und Zeit $t$\n",
    "$$ V_t(c) \\approx \\hat{V}_t^i(c_i) + \\sum_{k \\neq i} \\pi_k c_k$$\n",
    "\n",
    "Als Opportunitätskosten für Produkt $j$ ergeben sich nun\n",
    "\\begin{align}\n",
    "V_t(c) - V_t(c - A_j) & \\approx \\hat{V}_t^i(c_i) - \\hat{V}_t^i(c_i - 1) + \\sum_{k \\in A_j, k \\neq i} \\pi_k~, \\quad &\\text{if } i \\in A_j~, \\\\\n",
    "V_t(c) - V_t(c - A_j) & \\approx \\sum_{k \\in A_j} \\pi_k~, \\quad &\\text{if } i \\notin A_j~, \\\\\n",
    "\\end{align}\n",
    "\n",
    "Mit $\\Delta \\hat{V}_t^i(c_i) := \\hat{V}_t^i(c_i) - \\hat{V}_t^i(c_i - 1)$ kann dies geschrieben werden als\n",
    "$$ V_t(c) - V_t(c - A_j) \\approx \\left(\\Delta \\hat{V}_t^i(c_i) - \\pi_i\\right)\\mathbb{1}_{i \\in A_j} + \\sum_{k \\in A_j} \\pi_k$$\n",
    "\n",
    "Das klassische, exakte duale Programm kann damit approximiert werden. Vergleiche hierzu auch oben *value_expected*\n",
    "\\begin{align}\n",
    "V_t(c) &= \\max_{x_t \\in \\{0,1\\}^n}\\left\\{ \\sum_{j \\in [n]} p_j(x_t) \\left( r_j - \\Delta_j V_{t+1}(c) \\right) \\right\\} + V_{t+1}(c)\\quad \\forall t, c \\geq 0 \\\\\n",
    "V_t^i(c_i) &= \\max_{x_t \\in \\{0,1\\}^n}\\left\\{ \\sum_{j \\in [n]} \\lambda P_j(x_t) \\left( r_j - ( \\Delta V_{t+1}^i(c_i) - \\pi_i ) \\mathbb{1}_{i \\in A_j} + \\sum_{k \\in A_j} \\pi_k \\right) \\right\\} + V_{t+1}^i(c_i)\\quad \\forall t, c \\geq 0 \n",
    "\\end{align}\n",
    "\n",
    "\n",
    "### value_leg_i\n",
    "\n",
    "Sei Offerset $S$ angeboten. Angenommen, es kommt ein Kunde, so wird $Q(S) = \\sum_{j \\in S} P_j(S)$ verkauft. <span style=\"color:red\"> Beachte, hier nur Anzahl an verkauften Einheiten von Ressource i relevant. Also $Q^i(S) = \\sum_{j \\in S} a_{ij}P_j(S)$. </span> Für den Gewinn (Erlös abzüglich Kosten) ergibt sich ... \n",
    "Einsicht: $\\lambda$ wurde bei Talluri eingeführt und von Bront übernommen. Macht es aber nicht gerade schön. => implementiere value_leg_i_11 direkt (nach Formel oben)"
   ]
  }
 ],
 "metadata": {
  "celltoolbar": "Slideshow",
  "kernelspec": {
   "display_name": "Python 3",
   "language": "python",
   "name": "python3"
  },
  "language_info": {
   "codemirror_mode": {
    "name": "ipython",
    "version": 3
   },
   "file_extension": ".py",
   "mimetype": "text/x-python",
   "name": "python",
   "nbconvert_exporter": "python",
   "pygments_lexer": "ipython3",
   "version": "3.7.1"
  }
 },
 "nbformat": 4,
 "nbformat_minor": 2
}
